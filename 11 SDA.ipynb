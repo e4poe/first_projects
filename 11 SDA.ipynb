{
 "cells": [
  {
   "cell_type": "markdown",
   "metadata": {},
   "source": [
    "# Исследование тарифных планов "
   ]
  },
  {
   "cell_type": "markdown",
   "metadata": {},
   "source": [
    "### Цель исследования"
   ]
  },
  {
   "cell_type": "markdown",
   "metadata": {},
   "source": [
    "<div style=\"background:rgba(4, 203, 217, 0.1);border:inset skyblue 5px; padding: 12px;box-shadow: 4px 4px 4px;\">\n",
    "<li>Клиентам предлагают два тарифных плана: «Смарт» и «Ультра». Чтобы скорректировать рекламный бюджет, коммерческий департамент хочет понять, какой тариф приносит больше денег - и тут появляюсь я - Артем. Аналитик Артем."
   ]
  },
  {
   "cell_type": "markdown",
   "metadata": {},
   "source": [
    "### Описание тарифов"
   ]
  },
  {
   "cell_type": "markdown",
   "metadata": {},
   "source": [
    "<div style=\"background:rgba(4, 203, 217, 0.1);border:inset skyblue 5px; padding: 12px;box-shadow: 4px 4px 4px;\">\n",
    "\n",
    "<li><b>Тариф «Смарт»</b>\n",
    "    <ol> \n",
    "        <li>Ежемесячная плата: 550 рублей.\n",
    "        <li>Включено 500 минут разговора, 50 сообщений и 15 Гб интернет-трафика.\n",
    "        <li>Стоимость услуг сверх тарифного пакета: 1. минута разговора: 3 рубля («Мегалайн» всегда округляет вверх значения минут и мегабайтов. Если пользователь проговорил всего 1 секунду, в тарифе засчитывается целая минута); 2. сообщение: 3 рубля; 3. 1 Гб интернет-трафика: 200 рублей.\n",
    "    </ol>\n",
    "<li><b>Тариф «Ультра»</b>\n",
    "    <ol>\n",
    "        <li>Ежемесячная плата: 1950 рублей.\n",
    "        <li>Включено 3000 минут разговора, 1000 сообщений и 30 Гб интернет-трафика.\n",
    "        <li>Стоимость услуг сверх тарифного пакета: 1. минута разговора: 1 рубль; 2. сообщение: 1 рубль; 3. 1 Гб интернет-трафика: 150 рублей.\n",
    "    </ol>\n",
    "<li><i>Примечание:\n",
    "«Мегалайн» всегда округляет секунды до минут, а мегабайты — до гигабайт. Каждый звонок округляется отдельно: даже если он длился всего 1 секунду, будет засчитан как 1 минута.\n",
    "Для веб-трафика отдельные сессии не считаются. Вместо этого общая сумма за месяц округляется в бо́льшую сторону. Если абонент использует 1025 мегабайт в этом месяце, с него возьмут плату за 2 гигабайта.\n",
    "<li>Звонки с нулевой продолжительностью это пропущенные звонки. Не удалять.\n",
    "    "
   ]
  },
  {
   "cell_type": "markdown",
   "metadata": {},
   "source": [
    "### Ход исследования"
   ]
  },
  {
   "cell_type": "markdown",
   "metadata": {},
   "source": [
    "<div style=\"background:rgba(4, 203, 217, 0.1);border:inset skyblue 5px; padding: 12px;box-shadow: 4px 4px 4px;\">\n",
    "<li><b>Открыть и изучить датасеты.</b>\n",
    "<li><b>Предобработать:</b>\n",
    "    <ol> \n",
    "        <li>Привести данные к нужным типам.\n",
    "        <li>Найти и исправить ошибки в данных, если есть.\n",
    "    </ol>\n",
    "<li><b>Посчитать для каждого пользователя:</b>\n",
    "    <ol>\n",
    "        <li>Kоличество сделанных звонков и израсходованных минут разговора по месяцам.\n",
    "        <li>Количество отправленных сообщений по месяцам.\n",
    "        <li>Объем израсходованного интернет-трафика по месяцам.\n",
    "        <li>Помесячную выручку с каждого пользователя.\n",
    "    </ol>\n",
    "<li><b>Анализ данныз.</b>\n",
    "<li><b>Проверка гипотез:</b>\n",
    "    <ol>\n",
    "        <li>Средняя выручка пользователей тарифов «Ультра» и «Смарт» различаются.\n",
    "        <li>Средняя выручка пользователей из Москвы отличается от выручки пользователей из других регионов.\n",
    "    </ol>\n",
    "<li><b>Общий вывод.</b>\n",
    "\n",
    "    "
   ]
  },
  {
   "cell_type": "markdown",
   "metadata": {},
   "source": [
    "### Описание данных"
   ]
  },
  {
   "cell_type": "markdown",
   "metadata": {},
   "source": [
    "<div style=\"background:rgba(4, 203, 217, 0.1);border:inset skyblue 5px; padding: 12px;box-shadow: 4px 4px 4px;\">\n",
    "    <div><h4> Таблица <code style=\"background:palegreen\"><b>users</b></code></div><p>\n",
    "<li>user_id — уникальный идентификатор пользователя\n",
    "<li>first_name — имя пользователя\n",
    "<li>last_name — фамилия пользователя\n",
    "<li>age — возраст пользователя (годы)\n",
    "<li>reg_date — дата подключения тарифа (день, месяц, год)\n",
    "<li>churn_date — дата прекращения пользования тарифом (если значение пропущено, то тариф ещё действовал на момент выгрузки данных)\n",
    "<li>city — город проживания пользователя\n",
    "<li>tarif — название тарифного плана"
   ]
  },
  {
   "cell_type": "markdown",
   "metadata": {},
   "source": [
    "<div style=\"background:rgba(4, 203, 217, 0.1);border:inset skyblue 5px; padding: 12px;box-shadow: 4px 4px 4px;\">\n",
    "    <div><h4> Таблица <code style=\"background:palegreen\"><b>calls</b></code></div>\n",
    "        <p>\n",
    "<li>id — уникальный номер звонка\n",
    "<li>call_date — дата звонка\n",
    "<li>duration — длительность звонка в минутах\n",
    "<li>user_id — идентификатор пользователя, сделавшего звонок"
   ]
  },
  {
   "cell_type": "markdown",
   "metadata": {},
   "source": [
    "<div style=\"background:rgba(4, 203, 217, 0.1);border:inset skyblue 5px; padding: 12px;box-shadow: 4px 4px 4px;\">\n",
    "    <div><h4> Таблица <code style=\"background:palegreen\"><b>messages</b></code></div><p>\n",
    "<li>id — уникальный номер сообщения\n",
    "<li>message_date — дата сообщения\n",
    "<li>user_id — идентификатор пользователя, отправившего сообщение"
   ]
  },
  {
   "cell_type": "markdown",
   "metadata": {},
   "source": [
    "<div style=\"background:rgba(4, 203, 217, 0.1);border:inset skyblue 5px; padding: 12px;box-shadow: 4px 4px 4px;\">\n",
    "<div><h4> Таблица <code style=\"background:palegreen\"><b>internet</b></code></div><p>\n",
    "<li>id — уникальный номер сессии\n",
    "<li>mb_used — объём потраченного за сессию интернет-трафика (в мегабайтах)\n",
    "<li>session_date — дата интернет-сессии\n",
    "<li>user_id — идентификатор пользователя"
   ]
  },
  {
   "cell_type": "markdown",
   "metadata": {},
   "source": [
    "<div style=\"background:rgba(4, 203, 217, 0.1);border:inset skyblue 5px; padding: 12px;box-shadow: 4px 4px 4px;\">\n",
    "<div><h4> Таблица <code style=\"background:palegreen\"><b>tariffs</b></code></div><p>\n",
    "<li>tariff_name — название тарифа\n",
    "<li>rub_monthly_fee — ежемесячная абонентская плата в рублях\n",
    "<li>minutes_included — количество минут разговора в месяц, включённых в абонентскую плату\n",
    "<li>messages_included — количество сообщений в месяц, включённых в абонентскую плату\n",
    "<li>mb_per_month_included — объём интернет-трафика, включённого в абонентскую плату (в мегабайтах)\n",
    "<li>rub_per_minute — стоимость минуты разговора сверх тарифного пакета (например, если в тарифе 100 минут разговора в месяц, то со 101 минуты будет взиматься плата)\n",
    "<li>rub_per_message — стоимость отправки сообщения сверх тарифного пакета\n",
    "<li>rub_per_gb — стоимость дополнительного гигабайта интернет-трафика сверх тарифного пакета (1 гигабайт = 1024 мегабайта)"
   ]
  },
  {
   "cell_type": "markdown",
   "metadata": {},
   "source": [
    "### Начало исследования"
   ]
  },
  {
   "cell_type": "markdown",
   "metadata": {},
   "source": [
    "##### Предобработка"
   ]
  },
  {
   "cell_type": "code",
   "execution_count": 1,
   "metadata": {},
   "outputs": [],
   "source": [
    "import pandas as pd\n",
    "import numpy as np\n",
    "import matplotlib.pyplot as plt\n",
    "import math\n",
    "from scipy import stats as st"
   ]
  },
  {
   "cell_type": "code",
   "execution_count": 2,
   "metadata": {},
   "outputs": [],
   "source": [
    "calls, internet, messages, tariffs, users =(\n",
    "    pd.read_csv('/datasets/calls.csv'),\n",
    "    pd.read_csv('/datasets/internet.csv', index_col = 0),\n",
    "    pd.read_csv('/datasets/messages.csv'),\n",
    "    pd.read_csv('/datasets/tariffs.csv'),\n",
    "    pd.read_csv('/datasets/users.csv')\n",
    ") "
   ]
  },
  {
   "cell_type": "code",
   "execution_count": 3,
   "metadata": {},
   "outputs": [],
   "source": [
    "def first_look (df):\n",
    "    '''Функция получения первичной информации о датафрейме'''\n",
    "    print('\\033[1m' + 'Первые 5 строк' + '\\033[0m')\n",
    "    display(df.head())\n",
    "    print('')\n",
    "    print('')\n",
    "    print('\\033[1m' + 'Типы данных' + '\\033[0m')\n",
    "    print (df.info())\n",
    "    print('')\n",
    "    print('')\n",
    "    print('\\033[1m' + 'Пропуски' + '\\033[0m')\n",
    "    count = 0\n",
    "    for element in df.columns:\n",
    "        if df[element].isna().sum() > 0:\n",
    "            print(element, ' - ', df[element].isna().sum(), 'пропусков')\n",
    "            count = +1\n",
    "        if count == 0:\n",
    "            print('Колонка', element,'пропусков не имеет')\n",
    "    print('')\n",
    "    print('')\n",
    "    print('\\033[1m' + 'Дубликаты' + '\\033[0m')\n",
    "    print(df.duplicated().sum(), 'дубликатов')"
   ]
  },
  {
   "cell_type": "code",
   "execution_count": 4,
   "metadata": {},
   "outputs": [
    {
     "name": "stdout",
     "output_type": "stream",
     "text": [
      "\u001b[1mПервые 5 строк\u001b[0m\n"
     ]
    },
    {
     "data": {
      "text/html": [
       "<div>\n",
       "<style scoped>\n",
       "    .dataframe tbody tr th:only-of-type {\n",
       "        vertical-align: middle;\n",
       "    }\n",
       "\n",
       "    .dataframe tbody tr th {\n",
       "        vertical-align: top;\n",
       "    }\n",
       "\n",
       "    .dataframe thead th {\n",
       "        text-align: right;\n",
       "    }\n",
       "</style>\n",
       "<table border=\"1\" class=\"dataframe\">\n",
       "  <thead>\n",
       "    <tr style=\"text-align: right;\">\n",
       "      <th></th>\n",
       "      <th>id</th>\n",
       "      <th>call_date</th>\n",
       "      <th>duration</th>\n",
       "      <th>user_id</th>\n",
       "    </tr>\n",
       "  </thead>\n",
       "  <tbody>\n",
       "    <tr>\n",
       "      <th>0</th>\n",
       "      <td>1000_0</td>\n",
       "      <td>2018-07-25</td>\n",
       "      <td>0.00</td>\n",
       "      <td>1000</td>\n",
       "    </tr>\n",
       "    <tr>\n",
       "      <th>1</th>\n",
       "      <td>1000_1</td>\n",
       "      <td>2018-08-17</td>\n",
       "      <td>0.00</td>\n",
       "      <td>1000</td>\n",
       "    </tr>\n",
       "    <tr>\n",
       "      <th>2</th>\n",
       "      <td>1000_2</td>\n",
       "      <td>2018-06-11</td>\n",
       "      <td>2.85</td>\n",
       "      <td>1000</td>\n",
       "    </tr>\n",
       "    <tr>\n",
       "      <th>3</th>\n",
       "      <td>1000_3</td>\n",
       "      <td>2018-09-21</td>\n",
       "      <td>13.80</td>\n",
       "      <td>1000</td>\n",
       "    </tr>\n",
       "    <tr>\n",
       "      <th>4</th>\n",
       "      <td>1000_4</td>\n",
       "      <td>2018-12-15</td>\n",
       "      <td>5.18</td>\n",
       "      <td>1000</td>\n",
       "    </tr>\n",
       "  </tbody>\n",
       "</table>\n",
       "</div>"
      ],
      "text/plain": [
       "       id   call_date  duration  user_id\n",
       "0  1000_0  2018-07-25      0.00     1000\n",
       "1  1000_1  2018-08-17      0.00     1000\n",
       "2  1000_2  2018-06-11      2.85     1000\n",
       "3  1000_3  2018-09-21     13.80     1000\n",
       "4  1000_4  2018-12-15      5.18     1000"
      ]
     },
     "metadata": {},
     "output_type": "display_data"
    },
    {
     "name": "stdout",
     "output_type": "stream",
     "text": [
      "\n",
      "\n",
      "\u001b[1mТипы данных\u001b[0m\n",
      "<class 'pandas.core.frame.DataFrame'>\n",
      "RangeIndex: 202607 entries, 0 to 202606\n",
      "Data columns (total 4 columns):\n",
      " #   Column     Non-Null Count   Dtype  \n",
      "---  ------     --------------   -----  \n",
      " 0   id         202607 non-null  object \n",
      " 1   call_date  202607 non-null  object \n",
      " 2   duration   202607 non-null  float64\n",
      " 3   user_id    202607 non-null  int64  \n",
      "dtypes: float64(1), int64(1), object(2)\n",
      "memory usage: 6.2+ MB\n",
      "None\n",
      "\n",
      "\n",
      "\u001b[1mПропуски\u001b[0m\n",
      "Колонка id пропусков не имеет\n",
      "Колонка call_date пропусков не имеет\n",
      "Колонка duration пропусков не имеет\n",
      "Колонка user_id пропусков не имеет\n",
      "\n",
      "\n",
      "\u001b[1mДубликаты\u001b[0m\n",
      "0 дубликатов\n"
     ]
    }
   ],
   "source": [
    "first_look(calls)"
   ]
  },
  {
   "cell_type": "code",
   "execution_count": 5,
   "metadata": {},
   "outputs": [
    {
     "name": "stdout",
     "output_type": "stream",
     "text": [
      "\u001b[1mПервые 5 строк\u001b[0m\n"
     ]
    },
    {
     "data": {
      "text/html": [
       "<div>\n",
       "<style scoped>\n",
       "    .dataframe tbody tr th:only-of-type {\n",
       "        vertical-align: middle;\n",
       "    }\n",
       "\n",
       "    .dataframe tbody tr th {\n",
       "        vertical-align: top;\n",
       "    }\n",
       "\n",
       "    .dataframe thead th {\n",
       "        text-align: right;\n",
       "    }\n",
       "</style>\n",
       "<table border=\"1\" class=\"dataframe\">\n",
       "  <thead>\n",
       "    <tr style=\"text-align: right;\">\n",
       "      <th></th>\n",
       "      <th>id</th>\n",
       "      <th>mb_used</th>\n",
       "      <th>session_date</th>\n",
       "      <th>user_id</th>\n",
       "    </tr>\n",
       "  </thead>\n",
       "  <tbody>\n",
       "    <tr>\n",
       "      <th>0</th>\n",
       "      <td>1000_0</td>\n",
       "      <td>112.95</td>\n",
       "      <td>2018-11-25</td>\n",
       "      <td>1000</td>\n",
       "    </tr>\n",
       "    <tr>\n",
       "      <th>1</th>\n",
       "      <td>1000_1</td>\n",
       "      <td>1052.81</td>\n",
       "      <td>2018-09-07</td>\n",
       "      <td>1000</td>\n",
       "    </tr>\n",
       "    <tr>\n",
       "      <th>2</th>\n",
       "      <td>1000_2</td>\n",
       "      <td>1197.26</td>\n",
       "      <td>2018-06-25</td>\n",
       "      <td>1000</td>\n",
       "    </tr>\n",
       "    <tr>\n",
       "      <th>3</th>\n",
       "      <td>1000_3</td>\n",
       "      <td>550.27</td>\n",
       "      <td>2018-08-22</td>\n",
       "      <td>1000</td>\n",
       "    </tr>\n",
       "    <tr>\n",
       "      <th>4</th>\n",
       "      <td>1000_4</td>\n",
       "      <td>302.56</td>\n",
       "      <td>2018-09-24</td>\n",
       "      <td>1000</td>\n",
       "    </tr>\n",
       "  </tbody>\n",
       "</table>\n",
       "</div>"
      ],
      "text/plain": [
       "       id  mb_used session_date  user_id\n",
       "0  1000_0   112.95   2018-11-25     1000\n",
       "1  1000_1  1052.81   2018-09-07     1000\n",
       "2  1000_2  1197.26   2018-06-25     1000\n",
       "3  1000_3   550.27   2018-08-22     1000\n",
       "4  1000_4   302.56   2018-09-24     1000"
      ]
     },
     "metadata": {},
     "output_type": "display_data"
    },
    {
     "name": "stdout",
     "output_type": "stream",
     "text": [
      "\n",
      "\n",
      "\u001b[1mТипы данных\u001b[0m\n",
      "<class 'pandas.core.frame.DataFrame'>\n",
      "Int64Index: 149396 entries, 0 to 149395\n",
      "Data columns (total 4 columns):\n",
      " #   Column        Non-Null Count   Dtype  \n",
      "---  ------        --------------   -----  \n",
      " 0   id            149396 non-null  object \n",
      " 1   mb_used       149396 non-null  float64\n",
      " 2   session_date  149396 non-null  object \n",
      " 3   user_id       149396 non-null  int64  \n",
      "dtypes: float64(1), int64(1), object(2)\n",
      "memory usage: 5.7+ MB\n",
      "None\n",
      "\n",
      "\n",
      "\u001b[1mПропуски\u001b[0m\n",
      "Колонка id пропусков не имеет\n",
      "Колонка mb_used пропусков не имеет\n",
      "Колонка session_date пропусков не имеет\n",
      "Колонка user_id пропусков не имеет\n",
      "\n",
      "\n",
      "\u001b[1mДубликаты\u001b[0m\n",
      "0 дубликатов\n"
     ]
    }
   ],
   "source": [
    "first_look(internet)"
   ]
  },
  {
   "cell_type": "code",
   "execution_count": 6,
   "metadata": {},
   "outputs": [
    {
     "name": "stdout",
     "output_type": "stream",
     "text": [
      "\u001b[1mПервые 5 строк\u001b[0m\n"
     ]
    },
    {
     "data": {
      "text/html": [
       "<div>\n",
       "<style scoped>\n",
       "    .dataframe tbody tr th:only-of-type {\n",
       "        vertical-align: middle;\n",
       "    }\n",
       "\n",
       "    .dataframe tbody tr th {\n",
       "        vertical-align: top;\n",
       "    }\n",
       "\n",
       "    .dataframe thead th {\n",
       "        text-align: right;\n",
       "    }\n",
       "</style>\n",
       "<table border=\"1\" class=\"dataframe\">\n",
       "  <thead>\n",
       "    <tr style=\"text-align: right;\">\n",
       "      <th></th>\n",
       "      <th>id</th>\n",
       "      <th>message_date</th>\n",
       "      <th>user_id</th>\n",
       "    </tr>\n",
       "  </thead>\n",
       "  <tbody>\n",
       "    <tr>\n",
       "      <th>0</th>\n",
       "      <td>1000_0</td>\n",
       "      <td>2018-06-27</td>\n",
       "      <td>1000</td>\n",
       "    </tr>\n",
       "    <tr>\n",
       "      <th>1</th>\n",
       "      <td>1000_1</td>\n",
       "      <td>2018-10-08</td>\n",
       "      <td>1000</td>\n",
       "    </tr>\n",
       "    <tr>\n",
       "      <th>2</th>\n",
       "      <td>1000_2</td>\n",
       "      <td>2018-08-04</td>\n",
       "      <td>1000</td>\n",
       "    </tr>\n",
       "    <tr>\n",
       "      <th>3</th>\n",
       "      <td>1000_3</td>\n",
       "      <td>2018-06-16</td>\n",
       "      <td>1000</td>\n",
       "    </tr>\n",
       "    <tr>\n",
       "      <th>4</th>\n",
       "      <td>1000_4</td>\n",
       "      <td>2018-12-05</td>\n",
       "      <td>1000</td>\n",
       "    </tr>\n",
       "  </tbody>\n",
       "</table>\n",
       "</div>"
      ],
      "text/plain": [
       "       id message_date  user_id\n",
       "0  1000_0   2018-06-27     1000\n",
       "1  1000_1   2018-10-08     1000\n",
       "2  1000_2   2018-08-04     1000\n",
       "3  1000_3   2018-06-16     1000\n",
       "4  1000_4   2018-12-05     1000"
      ]
     },
     "metadata": {},
     "output_type": "display_data"
    },
    {
     "name": "stdout",
     "output_type": "stream",
     "text": [
      "\n",
      "\n",
      "\u001b[1mТипы данных\u001b[0m\n",
      "<class 'pandas.core.frame.DataFrame'>\n",
      "RangeIndex: 123036 entries, 0 to 123035\n",
      "Data columns (total 3 columns):\n",
      " #   Column        Non-Null Count   Dtype \n",
      "---  ------        --------------   ----- \n",
      " 0   id            123036 non-null  object\n",
      " 1   message_date  123036 non-null  object\n",
      " 2   user_id       123036 non-null  int64 \n",
      "dtypes: int64(1), object(2)\n",
      "memory usage: 2.8+ MB\n",
      "None\n",
      "\n",
      "\n",
      "\u001b[1mПропуски\u001b[0m\n",
      "Колонка id пропусков не имеет\n",
      "Колонка message_date пропусков не имеет\n",
      "Колонка user_id пропусков не имеет\n",
      "\n",
      "\n",
      "\u001b[1mДубликаты\u001b[0m\n",
      "0 дубликатов\n"
     ]
    }
   ],
   "source": [
    "first_look(messages)"
   ]
  },
  {
   "cell_type": "code",
   "execution_count": 7,
   "metadata": {},
   "outputs": [
    {
     "name": "stdout",
     "output_type": "stream",
     "text": [
      "\u001b[1mПервые 5 строк\u001b[0m\n"
     ]
    },
    {
     "data": {
      "text/html": [
       "<div>\n",
       "<style scoped>\n",
       "    .dataframe tbody tr th:only-of-type {\n",
       "        vertical-align: middle;\n",
       "    }\n",
       "\n",
       "    .dataframe tbody tr th {\n",
       "        vertical-align: top;\n",
       "    }\n",
       "\n",
       "    .dataframe thead th {\n",
       "        text-align: right;\n",
       "    }\n",
       "</style>\n",
       "<table border=\"1\" class=\"dataframe\">\n",
       "  <thead>\n",
       "    <tr style=\"text-align: right;\">\n",
       "      <th></th>\n",
       "      <th>messages_included</th>\n",
       "      <th>mb_per_month_included</th>\n",
       "      <th>minutes_included</th>\n",
       "      <th>rub_monthly_fee</th>\n",
       "      <th>rub_per_gb</th>\n",
       "      <th>rub_per_message</th>\n",
       "      <th>rub_per_minute</th>\n",
       "      <th>tariff_name</th>\n",
       "    </tr>\n",
       "  </thead>\n",
       "  <tbody>\n",
       "    <tr>\n",
       "      <th>0</th>\n",
       "      <td>50</td>\n",
       "      <td>15360</td>\n",
       "      <td>500</td>\n",
       "      <td>550</td>\n",
       "      <td>200</td>\n",
       "      <td>3</td>\n",
       "      <td>3</td>\n",
       "      <td>smart</td>\n",
       "    </tr>\n",
       "    <tr>\n",
       "      <th>1</th>\n",
       "      <td>1000</td>\n",
       "      <td>30720</td>\n",
       "      <td>3000</td>\n",
       "      <td>1950</td>\n",
       "      <td>150</td>\n",
       "      <td>1</td>\n",
       "      <td>1</td>\n",
       "      <td>ultra</td>\n",
       "    </tr>\n",
       "  </tbody>\n",
       "</table>\n",
       "</div>"
      ],
      "text/plain": [
       "   messages_included  mb_per_month_included  minutes_included  \\\n",
       "0                 50                  15360               500   \n",
       "1               1000                  30720              3000   \n",
       "\n",
       "   rub_monthly_fee  rub_per_gb  rub_per_message  rub_per_minute tariff_name  \n",
       "0              550         200                3               3       smart  \n",
       "1             1950         150                1               1       ultra  "
      ]
     },
     "metadata": {},
     "output_type": "display_data"
    },
    {
     "name": "stdout",
     "output_type": "stream",
     "text": [
      "\n",
      "\n",
      "\u001b[1mТипы данных\u001b[0m\n",
      "<class 'pandas.core.frame.DataFrame'>\n",
      "RangeIndex: 2 entries, 0 to 1\n",
      "Data columns (total 8 columns):\n",
      " #   Column                 Non-Null Count  Dtype \n",
      "---  ------                 --------------  ----- \n",
      " 0   messages_included      2 non-null      int64 \n",
      " 1   mb_per_month_included  2 non-null      int64 \n",
      " 2   minutes_included       2 non-null      int64 \n",
      " 3   rub_monthly_fee        2 non-null      int64 \n",
      " 4   rub_per_gb             2 non-null      int64 \n",
      " 5   rub_per_message        2 non-null      int64 \n",
      " 6   rub_per_minute         2 non-null      int64 \n",
      " 7   tariff_name            2 non-null      object\n",
      "dtypes: int64(7), object(1)\n",
      "memory usage: 256.0+ bytes\n",
      "None\n",
      "\n",
      "\n",
      "\u001b[1mПропуски\u001b[0m\n",
      "Колонка messages_included пропусков не имеет\n",
      "Колонка mb_per_month_included пропусков не имеет\n",
      "Колонка minutes_included пропусков не имеет\n",
      "Колонка rub_monthly_fee пропусков не имеет\n",
      "Колонка rub_per_gb пропусков не имеет\n",
      "Колонка rub_per_message пропусков не имеет\n",
      "Колонка rub_per_minute пропусков не имеет\n",
      "Колонка tariff_name пропусков не имеет\n",
      "\n",
      "\n",
      "\u001b[1mДубликаты\u001b[0m\n",
      "0 дубликатов\n"
     ]
    }
   ],
   "source": [
    "first_look(tariffs)"
   ]
  },
  {
   "cell_type": "code",
   "execution_count": 8,
   "metadata": {},
   "outputs": [
    {
     "name": "stdout",
     "output_type": "stream",
     "text": [
      "\u001b[1mПервые 5 строк\u001b[0m\n"
     ]
    },
    {
     "data": {
      "text/html": [
       "<div>\n",
       "<style scoped>\n",
       "    .dataframe tbody tr th:only-of-type {\n",
       "        vertical-align: middle;\n",
       "    }\n",
       "\n",
       "    .dataframe tbody tr th {\n",
       "        vertical-align: top;\n",
       "    }\n",
       "\n",
       "    .dataframe thead th {\n",
       "        text-align: right;\n",
       "    }\n",
       "</style>\n",
       "<table border=\"1\" class=\"dataframe\">\n",
       "  <thead>\n",
       "    <tr style=\"text-align: right;\">\n",
       "      <th></th>\n",
       "      <th>user_id</th>\n",
       "      <th>age</th>\n",
       "      <th>churn_date</th>\n",
       "      <th>city</th>\n",
       "      <th>first_name</th>\n",
       "      <th>last_name</th>\n",
       "      <th>reg_date</th>\n",
       "      <th>tariff</th>\n",
       "    </tr>\n",
       "  </thead>\n",
       "  <tbody>\n",
       "    <tr>\n",
       "      <th>0</th>\n",
       "      <td>1000</td>\n",
       "      <td>52</td>\n",
       "      <td>NaN</td>\n",
       "      <td>Краснодар</td>\n",
       "      <td>Рафаил</td>\n",
       "      <td>Верещагин</td>\n",
       "      <td>2018-05-25</td>\n",
       "      <td>ultra</td>\n",
       "    </tr>\n",
       "    <tr>\n",
       "      <th>1</th>\n",
       "      <td>1001</td>\n",
       "      <td>41</td>\n",
       "      <td>NaN</td>\n",
       "      <td>Москва</td>\n",
       "      <td>Иван</td>\n",
       "      <td>Ежов</td>\n",
       "      <td>2018-11-01</td>\n",
       "      <td>smart</td>\n",
       "    </tr>\n",
       "    <tr>\n",
       "      <th>2</th>\n",
       "      <td>1002</td>\n",
       "      <td>59</td>\n",
       "      <td>NaN</td>\n",
       "      <td>Стерлитамак</td>\n",
       "      <td>Евгений</td>\n",
       "      <td>Абрамович</td>\n",
       "      <td>2018-06-17</td>\n",
       "      <td>smart</td>\n",
       "    </tr>\n",
       "    <tr>\n",
       "      <th>3</th>\n",
       "      <td>1003</td>\n",
       "      <td>23</td>\n",
       "      <td>NaN</td>\n",
       "      <td>Москва</td>\n",
       "      <td>Белла</td>\n",
       "      <td>Белякова</td>\n",
       "      <td>2018-08-17</td>\n",
       "      <td>ultra</td>\n",
       "    </tr>\n",
       "    <tr>\n",
       "      <th>4</th>\n",
       "      <td>1004</td>\n",
       "      <td>68</td>\n",
       "      <td>NaN</td>\n",
       "      <td>Новокузнецк</td>\n",
       "      <td>Татьяна</td>\n",
       "      <td>Авдеенко</td>\n",
       "      <td>2018-05-14</td>\n",
       "      <td>ultra</td>\n",
       "    </tr>\n",
       "  </tbody>\n",
       "</table>\n",
       "</div>"
      ],
      "text/plain": [
       "   user_id  age churn_date         city first_name  last_name    reg_date  \\\n",
       "0     1000   52        NaN    Краснодар     Рафаил  Верещагин  2018-05-25   \n",
       "1     1001   41        NaN       Москва       Иван       Ежов  2018-11-01   \n",
       "2     1002   59        NaN  Стерлитамак    Евгений  Абрамович  2018-06-17   \n",
       "3     1003   23        NaN       Москва      Белла   Белякова  2018-08-17   \n",
       "4     1004   68        NaN  Новокузнецк    Татьяна   Авдеенко  2018-05-14   \n",
       "\n",
       "  tariff  \n",
       "0  ultra  \n",
       "1  smart  \n",
       "2  smart  \n",
       "3  ultra  \n",
       "4  ultra  "
      ]
     },
     "metadata": {},
     "output_type": "display_data"
    },
    {
     "name": "stdout",
     "output_type": "stream",
     "text": [
      "\n",
      "\n",
      "\u001b[1mТипы данных\u001b[0m\n",
      "<class 'pandas.core.frame.DataFrame'>\n",
      "RangeIndex: 500 entries, 0 to 499\n",
      "Data columns (total 8 columns):\n",
      " #   Column      Non-Null Count  Dtype \n",
      "---  ------      --------------  ----- \n",
      " 0   user_id     500 non-null    int64 \n",
      " 1   age         500 non-null    int64 \n",
      " 2   churn_date  38 non-null     object\n",
      " 3   city        500 non-null    object\n",
      " 4   first_name  500 non-null    object\n",
      " 5   last_name   500 non-null    object\n",
      " 6   reg_date    500 non-null    object\n",
      " 7   tariff      500 non-null    object\n",
      "dtypes: int64(2), object(6)\n",
      "memory usage: 31.4+ KB\n",
      "None\n",
      "\n",
      "\n",
      "\u001b[1mПропуски\u001b[0m\n",
      "Колонка user_id пропусков не имеет\n",
      "Колонка age пропусков не имеет\n",
      "churn_date  -  462 пропусков\n",
      "\n",
      "\n",
      "\u001b[1mДубликаты\u001b[0m\n",
      "0 дубликатов\n"
     ]
    }
   ],
   "source": [
    "first_look(users)"
   ]
  },
  {
   "cell_type": "markdown",
   "metadata": {},
   "source": [
    "<div style=\"background:rgba(4, 203, 217, 0.1); padding: 12px\">\n",
    "Меня смущает только тип данных о времени во всех таблицах. Им и займусь. Мне нужны только месяцы. <p>Еще думал сделать что-то с данными в колонках <code>id</code>, но мне эти колонки показались бесполезными в ислледовании. Данные там по принципу 1000_1, где \"1000\" - совпадает с айди юзера, а \"_1\" - скорее всего порядковый номер звонка/смски/инет сессии. Можно конечно счесть за ошибку, но я проигнорирую."
   ]
  },
  {
   "cell_type": "code",
   "execution_count": 9,
   "metadata": {},
   "outputs": [],
   "source": [
    "users['reg_date'] = pd.to_datetime(users['reg_date']).dt.month \n",
    "calls['call_date'] = pd.to_datetime(calls['call_date']).dt.month \n",
    "messages['message_date'] = pd.to_datetime(messages['message_date']).dt.month \n",
    "internet['session_date'] = pd.to_datetime(internet['session_date']).dt.month "
   ]
  },
  {
   "cell_type": "markdown",
   "metadata": {},
   "source": [
    "##### Kоличество сделанных звонков и израсходованных минут разговора по месяцам."
   ]
  },
  {
   "cell_type": "code",
   "execution_count": 10,
   "metadata": {},
   "outputs": [],
   "source": [
    "# округляю в большую сторону по принципу политики \"Мегалайн\"\n",
    "calls['duration'] = calls['duration'].apply(np.ceil)"
   ]
  },
  {
   "cell_type": "code",
   "execution_count": 11,
   "metadata": {},
   "outputs": [
    {
     "data": {
      "text/html": [
       "<div>\n",
       "<style scoped>\n",
       "    .dataframe tbody tr th:only-of-type {\n",
       "        vertical-align: middle;\n",
       "    }\n",
       "\n",
       "    .dataframe tbody tr th {\n",
       "        vertical-align: top;\n",
       "    }\n",
       "\n",
       "    .dataframe thead tr th {\n",
       "        text-align: left;\n",
       "    }\n",
       "\n",
       "    .dataframe thead tr:last-of-type th {\n",
       "        text-align: right;\n",
       "    }\n",
       "</style>\n",
       "<table border=\"1\" class=\"dataframe\">\n",
       "  <thead>\n",
       "    <tr>\n",
       "      <th></th>\n",
       "      <th></th>\n",
       "      <th>sum</th>\n",
       "      <th>count</th>\n",
       "    </tr>\n",
       "    <tr>\n",
       "      <th></th>\n",
       "      <th></th>\n",
       "      <th>duration</th>\n",
       "      <th>duration</th>\n",
       "    </tr>\n",
       "    <tr>\n",
       "      <th>user_id</th>\n",
       "      <th>call_date</th>\n",
       "      <th></th>\n",
       "      <th></th>\n",
       "    </tr>\n",
       "  </thead>\n",
       "  <tbody>\n",
       "    <tr>\n",
       "      <th rowspan=\"5\" valign=\"top\">1000</th>\n",
       "      <th>5</th>\n",
       "      <td>159.0</td>\n",
       "      <td>22</td>\n",
       "    </tr>\n",
       "    <tr>\n",
       "      <th>6</th>\n",
       "      <td>172.0</td>\n",
       "      <td>43</td>\n",
       "    </tr>\n",
       "    <tr>\n",
       "      <th>7</th>\n",
       "      <td>340.0</td>\n",
       "      <td>47</td>\n",
       "    </tr>\n",
       "    <tr>\n",
       "      <th>8</th>\n",
       "      <td>408.0</td>\n",
       "      <td>52</td>\n",
       "    </tr>\n",
       "    <tr>\n",
       "      <th>9</th>\n",
       "      <td>466.0</td>\n",
       "      <td>58</td>\n",
       "    </tr>\n",
       "  </tbody>\n",
       "</table>\n",
       "</div>"
      ],
      "text/plain": [
       "                       sum    count\n",
       "                  duration duration\n",
       "user_id call_date                  \n",
       "1000    5            159.0       22\n",
       "        6            172.0       43\n",
       "        7            340.0       47\n",
       "        8            408.0       52\n",
       "        9            466.0       58"
      ]
     },
     "execution_count": 11,
     "metadata": {},
     "output_type": "execute_result"
    }
   ],
   "source": [
    "call_counter = pd.pivot_table(calls,\n",
    "               index=['user_id','call_date'],\n",
    "               values='duration',\n",
    "               aggfunc=['sum', 'count']\n",
    "               )\n",
    "call_counter.head()"
   ]
  },
  {
   "cell_type": "markdown",
   "metadata": {},
   "source": [
    "##### Количество отправленных сообщений по месяцам."
   ]
  },
  {
   "cell_type": "code",
   "execution_count": 12,
   "metadata": {
    "scrolled": false
   },
   "outputs": [
    {
     "data": {
      "text/html": [
       "<div>\n",
       "<style scoped>\n",
       "    .dataframe tbody tr th:only-of-type {\n",
       "        vertical-align: middle;\n",
       "    }\n",
       "\n",
       "    .dataframe tbody tr th {\n",
       "        vertical-align: top;\n",
       "    }\n",
       "\n",
       "    .dataframe thead th {\n",
       "        text-align: right;\n",
       "    }\n",
       "</style>\n",
       "<table border=\"1\" class=\"dataframe\">\n",
       "  <thead>\n",
       "    <tr style=\"text-align: right;\">\n",
       "      <th></th>\n",
       "      <th></th>\n",
       "      <th>id</th>\n",
       "    </tr>\n",
       "    <tr>\n",
       "      <th>user_id</th>\n",
       "      <th>message_date</th>\n",
       "      <th></th>\n",
       "    </tr>\n",
       "  </thead>\n",
       "  <tbody>\n",
       "    <tr>\n",
       "      <th rowspan=\"5\" valign=\"top\">1000</th>\n",
       "      <th>5</th>\n",
       "      <td>22</td>\n",
       "    </tr>\n",
       "    <tr>\n",
       "      <th>6</th>\n",
       "      <td>60</td>\n",
       "    </tr>\n",
       "    <tr>\n",
       "      <th>7</th>\n",
       "      <td>75</td>\n",
       "    </tr>\n",
       "    <tr>\n",
       "      <th>8</th>\n",
       "      <td>81</td>\n",
       "    </tr>\n",
       "    <tr>\n",
       "      <th>9</th>\n",
       "      <td>57</td>\n",
       "    </tr>\n",
       "    <tr>\n",
       "      <th>...</th>\n",
       "      <th>...</th>\n",
       "      <td>...</td>\n",
       "    </tr>\n",
       "    <tr>\n",
       "      <th>1498</th>\n",
       "      <th>10</th>\n",
       "      <td>42</td>\n",
       "    </tr>\n",
       "    <tr>\n",
       "      <th rowspan=\"4\" valign=\"top\">1499</th>\n",
       "      <th>9</th>\n",
       "      <td>11</td>\n",
       "    </tr>\n",
       "    <tr>\n",
       "      <th>10</th>\n",
       "      <td>48</td>\n",
       "    </tr>\n",
       "    <tr>\n",
       "      <th>11</th>\n",
       "      <td>59</td>\n",
       "    </tr>\n",
       "    <tr>\n",
       "      <th>12</th>\n",
       "      <td>66</td>\n",
       "    </tr>\n",
       "  </tbody>\n",
       "</table>\n",
       "<p>2717 rows × 1 columns</p>\n",
       "</div>"
      ],
      "text/plain": [
       "                      id\n",
       "user_id message_date    \n",
       "1000    5             22\n",
       "        6             60\n",
       "        7             75\n",
       "        8             81\n",
       "        9             57\n",
       "...                   ..\n",
       "1498    10            42\n",
       "1499    9             11\n",
       "        10            48\n",
       "        11            59\n",
       "        12            66\n",
       "\n",
       "[2717 rows x 1 columns]"
      ]
     },
     "execution_count": 12,
     "metadata": {},
     "output_type": "execute_result"
    }
   ],
   "source": [
    "message_counter = pd.pivot_table(messages,\n",
    "               index=['user_id','message_date'],\n",
    "               values='id',\n",
    "               aggfunc='count'\n",
    "               )\n",
    "message_counter"
   ]
  },
  {
   "cell_type": "markdown",
   "metadata": {},
   "source": [
    "##### Объем израсходованного интернет-трафика по месяцам в гигабайтах с округлением."
   ]
  },
  {
   "cell_type": "code",
   "execution_count": 13,
   "metadata": {},
   "outputs": [],
   "source": [
    "inet_counter = pd.pivot_table(internet,\n",
    "               index=['user_id','session_date'],\n",
    "               values='mb_used',\n",
    "               aggfunc='sum'\n",
    "               )\n",
    "inet_counter['mb_used'] = inet_counter['mb_used'] / 1024"
   ]
  },
  {
   "cell_type": "code",
   "execution_count": 14,
   "metadata": {},
   "outputs": [
    {
     "data": {
      "text/html": [
       "<div>\n",
       "<style scoped>\n",
       "    .dataframe tbody tr th:only-of-type {\n",
       "        vertical-align: middle;\n",
       "    }\n",
       "\n",
       "    .dataframe tbody tr th {\n",
       "        vertical-align: top;\n",
       "    }\n",
       "\n",
       "    .dataframe thead th {\n",
       "        text-align: right;\n",
       "    }\n",
       "</style>\n",
       "<table border=\"1\" class=\"dataframe\">\n",
       "  <thead>\n",
       "    <tr style=\"text-align: right;\">\n",
       "      <th></th>\n",
       "      <th></th>\n",
       "      <th>mb_used</th>\n",
       "    </tr>\n",
       "    <tr>\n",
       "      <th>user_id</th>\n",
       "      <th>session_date</th>\n",
       "      <th></th>\n",
       "    </tr>\n",
       "  </thead>\n",
       "  <tbody>\n",
       "    <tr>\n",
       "      <th rowspan=\"5\" valign=\"top\">1000</th>\n",
       "      <th>5</th>\n",
       "      <td>3.0</td>\n",
       "    </tr>\n",
       "    <tr>\n",
       "      <th>6</th>\n",
       "      <td>23.0</td>\n",
       "    </tr>\n",
       "    <tr>\n",
       "      <th>7</th>\n",
       "      <td>14.0</td>\n",
       "    </tr>\n",
       "    <tr>\n",
       "      <th>8</th>\n",
       "      <td>14.0</td>\n",
       "    </tr>\n",
       "    <tr>\n",
       "      <th>9</th>\n",
       "      <td>15.0</td>\n",
       "    </tr>\n",
       "  </tbody>\n",
       "</table>\n",
       "</div>"
      ],
      "text/plain": [
       "                      mb_used\n",
       "user_id session_date         \n",
       "1000    5                 3.0\n",
       "        6                23.0\n",
       "        7                14.0\n",
       "        8                14.0\n",
       "        9                15.0"
      ]
     },
     "execution_count": 14,
     "metadata": {},
     "output_type": "execute_result"
    }
   ],
   "source": [
    "inet_counter['mb_used'] = inet_counter['mb_used'].apply(np.ceil)\n",
    "inet_counter.head()"
   ]
  },
  {
   "cell_type": "markdown",
   "metadata": {},
   "source": [
    "##### Помесячная выручка с каждого пользователя."
   ]
  },
  {
   "cell_type": "code",
   "execution_count": 15,
   "metadata": {},
   "outputs": [],
   "source": [
    "# подсчет для звонков\n",
    "# сброс индекса \n",
    "call_counter = call_counter.reset_index()"
   ]
  },
  {
   "cell_type": "code",
   "execution_count": 16,
   "metadata": {},
   "outputs": [],
   "source": [
    "# смена имем колонок\n",
    "call_counter.columns = ['user_id', 'date', 'call_duration', 'call_count']"
   ]
  },
  {
   "cell_type": "code",
   "execution_count": 17,
   "metadata": {},
   "outputs": [],
   "source": [
    "# мерджу раз\n",
    "df1 = call_counter.merge(users[['user_id','tariff']])"
   ]
  },
  {
   "cell_type": "code",
   "execution_count": 18,
   "metadata": {},
   "outputs": [],
   "source": [
    "# мерджу два\n",
    "df1 = df1.merge(tariffs[['tariff_name','rub_per_minute','rub_monthly_fee','minutes_included']],\n",
    "                left_on='tariff',right_on='tariff_name')"
   ]
  },
  {
   "cell_type": "code",
   "execution_count": 19,
   "metadata": {},
   "outputs": [],
   "source": [
    "# удаление повторяющей колонки\n",
    "del df1['tariff']"
   ]
  },
  {
   "cell_type": "code",
   "execution_count": 20,
   "metadata": {},
   "outputs": [],
   "source": [
    "# создание новое колонки с переплатой при выходе из месячного лимита\n",
    "df1['call_overpay'] = (df1['call_duration'] - df1['minutes_included']) * df1['rub_per_minute']"
   ]
  },
  {
   "cell_type": "code",
   "execution_count": 21,
   "metadata": {},
   "outputs": [],
   "source": [
    "# избавление от отрицательных значений\n",
    "df1.loc[df1['call_overpay']<0,'call_overpay'] = 0"
   ]
  },
  {
   "cell_type": "code",
   "execution_count": 22,
   "metadata": {},
   "outputs": [],
   "source": [
    "# подсчет помесячной выручки \n",
    "df1['monthly_revenue'] = df1['rub_monthly_fee'] + df1['call_overpay']"
   ]
  },
  {
   "cell_type": "code",
   "execution_count": 23,
   "metadata": {},
   "outputs": [],
   "source": [
    "# подсчет для сообщений\n",
    "message_counter = message_counter.reset_index()"
   ]
  },
  {
   "cell_type": "code",
   "execution_count": 24,
   "metadata": {},
   "outputs": [],
   "source": [
    "message_counter.columns = ['user_id','message_date','message_count']"
   ]
  },
  {
   "cell_type": "code",
   "execution_count": 25,
   "metadata": {},
   "outputs": [],
   "source": [
    "df2 = message_counter.merge(users[['user_id','tariff']])"
   ]
  },
  {
   "cell_type": "code",
   "execution_count": 26,
   "metadata": {},
   "outputs": [],
   "source": [
    "df2 = df2.merge(tariffs[['tariff_name','rub_per_message','rub_monthly_fee','messages_included']],\n",
    "                left_on='tariff',right_on='tariff_name')"
   ]
  },
  {
   "cell_type": "code",
   "execution_count": 27,
   "metadata": {},
   "outputs": [],
   "source": [
    "del df2['tariff']"
   ]
  },
  {
   "cell_type": "code",
   "execution_count": 28,
   "metadata": {},
   "outputs": [],
   "source": [
    "df2['msg_overpay'] = (df2['message_count'] - df2['messages_included']) * df2['rub_per_message']"
   ]
  },
  {
   "cell_type": "code",
   "execution_count": 29,
   "metadata": {},
   "outputs": [],
   "source": [
    "df2.loc[df2['msg_overpay']<0,'msg_overpay'] = 0"
   ]
  },
  {
   "cell_type": "code",
   "execution_count": 30,
   "metadata": {},
   "outputs": [],
   "source": [
    "df2['monthly_revenue'] = df2['rub_monthly_fee'] + df2['msg_overpay']"
   ]
  },
  {
   "cell_type": "code",
   "execution_count": 31,
   "metadata": {},
   "outputs": [],
   "source": [
    "# подсчет мегабайт переведенных в гигабайты\n",
    "inet_counter = inet_counter.reset_index()"
   ]
  },
  {
   "cell_type": "code",
   "execution_count": 32,
   "metadata": {},
   "outputs": [],
   "source": [
    "inet_counter.columns = ['user_id','session_date','gb_used']"
   ]
  },
  {
   "cell_type": "code",
   "execution_count": 33,
   "metadata": {},
   "outputs": [],
   "source": [
    "df3 = inet_counter.merge(users[['user_id','tariff']])"
   ]
  },
  {
   "cell_type": "code",
   "execution_count": 34,
   "metadata": {},
   "outputs": [],
   "source": [
    "df3 = df3.merge(tariffs[['tariff_name','rub_per_gb','rub_monthly_fee','mb_per_month_included']],\n",
    "                left_on='tariff',right_on='tariff_name')"
   ]
  },
  {
   "cell_type": "code",
   "execution_count": 35,
   "metadata": {},
   "outputs": [],
   "source": [
    "del df3['tariff']"
   ]
  },
  {
   "cell_type": "code",
   "execution_count": 36,
   "metadata": {},
   "outputs": [],
   "source": [
    "df3['gb_overpay'] = (df3['gb_used'] - (df3['mb_per_month_included']/1024)) * df3['rub_per_gb']"
   ]
  },
  {
   "cell_type": "code",
   "execution_count": 37,
   "metadata": {},
   "outputs": [],
   "source": [
    "df3.loc[df3['gb_overpay']<0,'gb_overpay'] = 0"
   ]
  },
  {
   "cell_type": "code",
   "execution_count": 38,
   "metadata": {},
   "outputs": [],
   "source": [
    "df3['monthly_revenue'] = df3['rub_monthly_fee'] + df3['gb_overpay']"
   ]
  },
  {
   "cell_type": "code",
   "execution_count": 39,
   "metadata": {
    "scrolled": false
   },
   "outputs": [],
   "source": [
    "# здесь и ниже установлю нужные мне индексы для удобства (выше уже менял имя колонок)\n",
    "df1 = df1.set_index(['user_id','date'])"
   ]
  },
  {
   "cell_type": "code",
   "execution_count": 40,
   "metadata": {},
   "outputs": [],
   "source": [
    "# сменю имя колонки для удобства\n",
    "df2.rename(columns={'message_date': 'date'}, inplace=True)\n",
    "df2 = df2.set_index(['user_id','date'])"
   ]
  },
  {
   "cell_type": "code",
   "execution_count": 41,
   "metadata": {},
   "outputs": [],
   "source": [
    "df3.rename(columns={'session_date': 'date'}, inplace=True)\n",
    "df3 = df3.set_index(['user_id','date'])"
   ]
  },
  {
   "cell_type": "code",
   "execution_count": 42,
   "metadata": {
    "scrolled": true
   },
   "outputs": [
    {
     "data": {
      "text/plain": [
       "user_id  date\n",
       "1000     5       1950.0\n",
       "         6       1950.0\n",
       "         7       1950.0\n",
       "         8       1950.0\n",
       "         9       1950.0\n",
       "                  ...  \n",
       "1498     10      1750.0\n",
       "1499     9        550.0\n",
       "         10      1150.0\n",
       "         11      1513.0\n",
       "         12       598.0\n",
       "Length: 3214, dtype: float64"
      ]
     },
     "execution_count": 42,
     "metadata": {},
     "output_type": "execute_result"
    }
   ],
   "source": [
    "# рассчитаю общую выручку\n",
    "total = (\n",
    "    df1['call_overpay'].fillna(0) + \n",
    "    df2['msg_overpay'].fillna(0) + \n",
    "    df3['gb_overpay'].fillna(0) + \n",
    "    df1['rub_monthly_fee'].fillna(0)\n",
    ")\n",
    "total"
   ]
  },
  {
   "cell_type": "code",
   "execution_count": 43,
   "metadata": {},
   "outputs": [],
   "source": [
    "# а тут я сделаю небольшую подготовку на будущее и добавлю колонку с тарифами\n",
    "total = total.reset_index()"
   ]
  },
  {
   "cell_type": "code",
   "execution_count": 44,
   "metadata": {},
   "outputs": [
    {
     "name": "stdout",
     "output_type": "stream",
     "text": [
      "<class 'pandas.core.frame.DataFrame'>\n",
      "RangeIndex: 3214 entries, 0 to 3213\n",
      "Data columns (total 3 columns):\n",
      " #   Column   Non-Null Count  Dtype  \n",
      "---  ------   --------------  -----  \n",
      " 0   user_id  3214 non-null   int64  \n",
      " 1   date     3214 non-null   int64  \n",
      " 2   0        2667 non-null   float64\n",
      "dtypes: float64(1), int64(2)\n",
      "memory usage: 75.5 KB\n"
     ]
    }
   ],
   "source": [
    "total.info()"
   ]
  },
  {
   "cell_type": "code",
   "execution_count": 45,
   "metadata": {},
   "outputs": [],
   "source": [
    "total = total.merge(users[['user_id','tariff','city']])\n",
    "total.rename(columns={0: 'bill'}, inplace=True)"
   ]
  },
  {
   "cell_type": "code",
   "execution_count": 46,
   "metadata": {},
   "outputs": [
    {
     "data": {
      "text/html": [
       "<div>\n",
       "<style scoped>\n",
       "    .dataframe tbody tr th:only-of-type {\n",
       "        vertical-align: middle;\n",
       "    }\n",
       "\n",
       "    .dataframe tbody tr th {\n",
       "        vertical-align: top;\n",
       "    }\n",
       "\n",
       "    .dataframe thead th {\n",
       "        text-align: right;\n",
       "    }\n",
       "</style>\n",
       "<table border=\"1\" class=\"dataframe\">\n",
       "  <thead>\n",
       "    <tr style=\"text-align: right;\">\n",
       "      <th></th>\n",
       "      <th>user_id</th>\n",
       "      <th>date</th>\n",
       "      <th>bill</th>\n",
       "      <th>tariff</th>\n",
       "      <th>city</th>\n",
       "    </tr>\n",
       "  </thead>\n",
       "  <tbody>\n",
       "    <tr>\n",
       "      <th>0</th>\n",
       "      <td>1000</td>\n",
       "      <td>5</td>\n",
       "      <td>1950.0</td>\n",
       "      <td>ultra</td>\n",
       "      <td>Краснодар</td>\n",
       "    </tr>\n",
       "    <tr>\n",
       "      <th>1</th>\n",
       "      <td>1000</td>\n",
       "      <td>6</td>\n",
       "      <td>1950.0</td>\n",
       "      <td>ultra</td>\n",
       "      <td>Краснодар</td>\n",
       "    </tr>\n",
       "    <tr>\n",
       "      <th>2</th>\n",
       "      <td>1000</td>\n",
       "      <td>7</td>\n",
       "      <td>1950.0</td>\n",
       "      <td>ultra</td>\n",
       "      <td>Краснодар</td>\n",
       "    </tr>\n",
       "    <tr>\n",
       "      <th>3</th>\n",
       "      <td>1000</td>\n",
       "      <td>8</td>\n",
       "      <td>1950.0</td>\n",
       "      <td>ultra</td>\n",
       "      <td>Краснодар</td>\n",
       "    </tr>\n",
       "    <tr>\n",
       "      <th>4</th>\n",
       "      <td>1000</td>\n",
       "      <td>9</td>\n",
       "      <td>1950.0</td>\n",
       "      <td>ultra</td>\n",
       "      <td>Краснодар</td>\n",
       "    </tr>\n",
       "    <tr>\n",
       "      <th>...</th>\n",
       "      <td>...</td>\n",
       "      <td>...</td>\n",
       "      <td>...</td>\n",
       "      <td>...</td>\n",
       "      <td>...</td>\n",
       "    </tr>\n",
       "    <tr>\n",
       "      <th>3209</th>\n",
       "      <td>1498</td>\n",
       "      <td>10</td>\n",
       "      <td>1750.0</td>\n",
       "      <td>smart</td>\n",
       "      <td>Владикавказ</td>\n",
       "    </tr>\n",
       "    <tr>\n",
       "      <th>3210</th>\n",
       "      <td>1499</td>\n",
       "      <td>9</td>\n",
       "      <td>550.0</td>\n",
       "      <td>smart</td>\n",
       "      <td>Пермь</td>\n",
       "    </tr>\n",
       "    <tr>\n",
       "      <th>3211</th>\n",
       "      <td>1499</td>\n",
       "      <td>10</td>\n",
       "      <td>1150.0</td>\n",
       "      <td>smart</td>\n",
       "      <td>Пермь</td>\n",
       "    </tr>\n",
       "    <tr>\n",
       "      <th>3212</th>\n",
       "      <td>1499</td>\n",
       "      <td>11</td>\n",
       "      <td>1513.0</td>\n",
       "      <td>smart</td>\n",
       "      <td>Пермь</td>\n",
       "    </tr>\n",
       "    <tr>\n",
       "      <th>3213</th>\n",
       "      <td>1499</td>\n",
       "      <td>12</td>\n",
       "      <td>598.0</td>\n",
       "      <td>smart</td>\n",
       "      <td>Пермь</td>\n",
       "    </tr>\n",
       "  </tbody>\n",
       "</table>\n",
       "<p>3214 rows × 5 columns</p>\n",
       "</div>"
      ],
      "text/plain": [
       "      user_id  date    bill tariff         city\n",
       "0        1000     5  1950.0  ultra    Краснодар\n",
       "1        1000     6  1950.0  ultra    Краснодар\n",
       "2        1000     7  1950.0  ultra    Краснодар\n",
       "3        1000     8  1950.0  ultra    Краснодар\n",
       "4        1000     9  1950.0  ultra    Краснодар\n",
       "...       ...   ...     ...    ...          ...\n",
       "3209     1498    10  1750.0  smart  Владикавказ\n",
       "3210     1499     9   550.0  smart        Пермь\n",
       "3211     1499    10  1150.0  smart        Пермь\n",
       "3212     1499    11  1513.0  smart        Пермь\n",
       "3213     1499    12   598.0  smart        Пермь\n",
       "\n",
       "[3214 rows x 5 columns]"
      ]
     },
     "execution_count": 46,
     "metadata": {},
     "output_type": "execute_result"
    }
   ],
   "source": [
    "total"
   ]
  },
  {
   "cell_type": "markdown",
   "metadata": {},
   "source": [
    "###### Вывод\n"
   ]
  },
  {
   "cell_type": "markdown",
   "metadata": {},
   "source": [
    "<div style=\"background:rgba(4, 203, 217, 0.1); padding: 12px\">\n",
    "\n",
    "- Вот таким сверх-затейлевым способом я получил помесячную выручку с каждого пользователя. Хотелось бы конечно все это оптимизировать и минимизировать, но игра Despotism 3k научила меня не лезть если все работает. Потом научусь и сделаю красивее.\n",
    "\n",
    "- Все нужные данные получены, можно заняться анализом данных."
   ]
  },
  {
   "cell_type": "markdown",
   "metadata": {},
   "source": [
    "### Анализ данных"
   ]
  },
  {
   "cell_type": "markdown",
   "metadata": {},
   "source": [
    "<div style=\"background:rgba(4, 203, 217, 0.1); padding: 12px\">\n",
    "Сколько минут разговора, сколько сообщений и какой объём интернет-трафика требуется пользователям каждого тарифа в месяц?"
   ]
  },
  {
   "cell_type": "code",
   "execution_count": 47,
   "metadata": {
    "scrolled": true
   },
   "outputs": [
    {
     "data": {
      "image/png": "[encoded data removed]",
      "text/plain": [
       "<Figure size 432x288 with 1 Axes>"
      ]
     },
     "metadata": {
      "needs_background": "light"
     },
     "output_type": "display_data"
    }
   ],
   "source": [
    "df1.query(\"tariff_name == 'smart'\")['call_duration'].plot(kind='hist',alpha=1,grid=True)\n",
    "df1.query(\"tariff_name == 'ultra'\")['call_duration'].plot(kind='hist',alpha=0.8,grid=True)\n",
    "plt.xlabel('Длительность')\n",
    "plt.ylabel('Количество')\n",
    "plt.title('Сумма звонков по тарифам')\n",
    "plt.legend(['Смарт','Ультра'])\n",
    "plt.show()"
   ]
  },
  {
   "cell_type": "code",
   "execution_count": 48,
   "metadata": {},
   "outputs": [
    {
     "data": {
      "image/png": "[encoded data removed]",
      "text/plain": [
       "<Figure size 432x288 with 1 Axes>"
      ]
     },
     "metadata": {
      "needs_background": "light"
     },
     "output_type": "display_data"
    }
   ],
   "source": [
    "df2.query(\"tariff_name == 'smart'\")['message_count'].plot(kind='hist',alpha=1,grid=True)\n",
    "df2.query(\"tariff_name == 'ultra'\")['message_count'].plot(kind='hist',alpha=0.8,grid=True)\n",
    "plt.xlabel('Количество сообщений')\n",
    "plt.ylabel('Количество')\n",
    "plt.title('Количество смс по тарифам')\n",
    "plt.legend(['Смарт','Ультра'])\n",
    "plt.show()"
   ]
  },
  {
   "cell_type": "code",
   "execution_count": 49,
   "metadata": {},
   "outputs": [
    {
     "data": {
      "image/png": "[encoded data removed]",
      "text/plain": [
       "<Figure size 432x288 with 1 Axes>"
      ]
     },
     "metadata": {
      "needs_background": "light"
     },
     "output_type": "display_data"
    }
   ],
   "source": [
    "df3.query(\"tariff_name == 'smart'\")['gb_used'].plot(kind='hist',alpha=1,grid=True)\n",
    "df3.query(\"tariff_name == 'ultra'\")['gb_used'].plot(kind='hist',alpha=0.8,grid=True)\n",
    "plt.xlabel('Объем')\n",
    "plt.ylabel('Количество')\n",
    "plt.title('Объем трафика по тарифам')\n",
    "plt.legend(['Смарт','Ультра'])\n",
    "plt.show()"
   ]
  },
  {
   "cell_type": "markdown",
   "metadata": {},
   "source": [
    "<div style=\"background:rgba(4, 203, 217, 0.1); padding: 12px\">\n",
    "    \n",
    "- В среднем, по тарифу смарт звонят на 500 минут в месяц, по тарифу ультра - 650 минут.\n",
    "- Большинство пользователей тарифа смарт отправляют не более 20 сообщений в месяц, тарифа ультра - не более 50 сообщений.\n",
    "- В среднем, ежемесячно пользователи тарифа смарт тратят от 12 до 22 гб интернета, пользователи тарифа ультра - где-то от 15 и до 30 гб."
   ]
  },
  {
   "cell_type": "markdown",
   "metadata": {},
   "source": [
    " <div style=\"background:rgba(4, 203, 217, 0.1); padding: 12px\">\n",
    "Посчитаю среднее количество, дисперсию и стандартное отклонение. "
   ]
  },
  {
   "cell_type": "code",
   "execution_count": 50,
   "metadata": {
    "scrolled": false
   },
   "outputs": [
    {
     "data": {
      "text/html": [
       "<div>\n",
       "<style scoped>\n",
       "    .dataframe tbody tr th:only-of-type {\n",
       "        vertical-align: middle;\n",
       "    }\n",
       "\n",
       "    .dataframe tbody tr th {\n",
       "        vertical-align: top;\n",
       "    }\n",
       "\n",
       "    .dataframe thead tr th {\n",
       "        text-align: left;\n",
       "    }\n",
       "\n",
       "    .dataframe thead tr:last-of-type th {\n",
       "        text-align: right;\n",
       "    }\n",
       "</style>\n",
       "<table border=\"1\" class=\"dataframe\">\n",
       "  <thead>\n",
       "    <tr>\n",
       "      <th></th>\n",
       "      <th colspan=\"2\" halign=\"left\">mean</th>\n",
       "      <th colspan=\"2\" halign=\"left\">var</th>\n",
       "      <th colspan=\"2\" halign=\"left\">std</th>\n",
       "    </tr>\n",
       "    <tr>\n",
       "      <th>tariff_name</th>\n",
       "      <th>smart</th>\n",
       "      <th>ultra</th>\n",
       "      <th>smart</th>\n",
       "      <th>ultra</th>\n",
       "      <th>smart</th>\n",
       "      <th>ultra</th>\n",
       "    </tr>\n",
       "    <tr>\n",
       "      <th>date</th>\n",
       "      <th></th>\n",
       "      <th></th>\n",
       "      <th></th>\n",
       "      <th></th>\n",
       "      <th></th>\n",
       "      <th></th>\n",
       "    </tr>\n",
       "  </thead>\n",
       "  <tbody>\n",
       "    <tr>\n",
       "      <th>1</th>\n",
       "      <td>203.852941</td>\n",
       "      <td>428.111111</td>\n",
       "      <td>23787.341355</td>\n",
       "      <td>72769.361111</td>\n",
       "      <td>154.231454</td>\n",
       "      <td>269.757968</td>\n",
       "    </tr>\n",
       "    <tr>\n",
       "      <th>2</th>\n",
       "      <td>298.689655</td>\n",
       "      <td>297.125000</td>\n",
       "      <td>36412.287961</td>\n",
       "      <td>87919.679348</td>\n",
       "      <td>190.820041</td>\n",
       "      <td>296.512528</td>\n",
       "    </tr>\n",
       "    <tr>\n",
       "      <th>3</th>\n",
       "      <td>390.051948</td>\n",
       "      <td>489.648649</td>\n",
       "      <td>36823.155161</td>\n",
       "      <td>111384.900901</td>\n",
       "      <td>191.893604</td>\n",
       "      <td>333.743765</td>\n",
       "    </tr>\n",
       "    <tr>\n",
       "      <th>4</th>\n",
       "      <td>367.133929</td>\n",
       "      <td>475.301887</td>\n",
       "      <td>34778.207127</td>\n",
       "      <td>66036.830189</td>\n",
       "      <td>186.489161</td>\n",
       "      <td>256.976322</td>\n",
       "    </tr>\n",
       "    <tr>\n",
       "      <th>5</th>\n",
       "      <td>387.361702</td>\n",
       "      <td>534.250000</td>\n",
       "      <td>34820.061094</td>\n",
       "      <td>74881.015873</td>\n",
       "      <td>186.601343</td>\n",
       "      <td>273.643958</td>\n",
       "    </tr>\n",
       "    <tr>\n",
       "      <th>6</th>\n",
       "      <td>398.067485</td>\n",
       "      <td>497.469136</td>\n",
       "      <td>29960.520109</td>\n",
       "      <td>86019.652160</td>\n",
       "      <td>173.091075</td>\n",
       "      <td>293.291071</td>\n",
       "    </tr>\n",
       "    <tr>\n",
       "      <th>7</th>\n",
       "      <td>408.353234</td>\n",
       "      <td>564.397727</td>\n",
       "      <td>32250.269602</td>\n",
       "      <td>86952.587121</td>\n",
       "      <td>179.583601</td>\n",
       "      <td>294.877241</td>\n",
       "    </tr>\n",
       "    <tr>\n",
       "      <th>8</th>\n",
       "      <td>423.269231</td>\n",
       "      <td>530.611650</td>\n",
       "      <td>34177.270551</td>\n",
       "      <td>91169.553588</td>\n",
       "      <td>184.870956</td>\n",
       "      <td>301.942964</td>\n",
       "    </tr>\n",
       "    <tr>\n",
       "      <th>9</th>\n",
       "      <td>430.266409</td>\n",
       "      <td>558.882883</td>\n",
       "      <td>32950.529526</td>\n",
       "      <td>98597.904341</td>\n",
       "      <td>181.522807</td>\n",
       "      <td>314.003032</td>\n",
       "    </tr>\n",
       "    <tr>\n",
       "      <th>10</th>\n",
       "      <td>427.590444</td>\n",
       "      <td>581.728814</td>\n",
       "      <td>34889.530319</td>\n",
       "      <td>97140.336086</td>\n",
       "      <td>186.787393</td>\n",
       "      <td>311.673445</td>\n",
       "    </tr>\n",
       "    <tr>\n",
       "      <th>11</th>\n",
       "      <td>436.647619</td>\n",
       "      <td>562.364341</td>\n",
       "      <td>31100.611101</td>\n",
       "      <td>88449.624031</td>\n",
       "      <td>176.353653</td>\n",
       "      <td>297.404815</td>\n",
       "    </tr>\n",
       "    <tr>\n",
       "      <th>12</th>\n",
       "      <td>479.985119</td>\n",
       "      <td>614.925373</td>\n",
       "      <td>39131.447539</td>\n",
       "      <td>107981.031983</td>\n",
       "      <td>197.816702</td>\n",
       "      <td>328.604674</td>\n",
       "    </tr>\n",
       "  </tbody>\n",
       "</table>\n",
       "</div>"
      ],
      "text/plain": [
       "                   mean                       var                        std  \\\n",
       "tariff_name       smart       ultra         smart          ultra       smart   \n",
       "date                                                                           \n",
       "1            203.852941  428.111111  23787.341355   72769.361111  154.231454   \n",
       "2            298.689655  297.125000  36412.287961   87919.679348  190.820041   \n",
       "3            390.051948  489.648649  36823.155161  111384.900901  191.893604   \n",
       "4            367.133929  475.301887  34778.207127   66036.830189  186.489161   \n",
       "5            387.361702  534.250000  34820.061094   74881.015873  186.601343   \n",
       "6            398.067485  497.469136  29960.520109   86019.652160  173.091075   \n",
       "7            408.353234  564.397727  32250.269602   86952.587121  179.583601   \n",
       "8            423.269231  530.611650  34177.270551   91169.553588  184.870956   \n",
       "9            430.266409  558.882883  32950.529526   98597.904341  181.522807   \n",
       "10           427.590444  581.728814  34889.530319   97140.336086  186.787393   \n",
       "11           436.647619  562.364341  31100.611101   88449.624031  176.353653   \n",
       "12           479.985119  614.925373  39131.447539  107981.031983  197.816702   \n",
       "\n",
       "                         \n",
       "tariff_name       ultra  \n",
       "date                     \n",
       "1            269.757968  \n",
       "2            296.512528  \n",
       "3            333.743765  \n",
       "4            256.976322  \n",
       "5            273.643958  \n",
       "6            293.291071  \n",
       "7            294.877241  \n",
       "8            301.942964  \n",
       "9            314.003032  \n",
       "10           311.673445  \n",
       "11           297.404815  \n",
       "12           328.604674  "
      ]
     },
     "execution_count": 50,
     "metadata": {},
     "output_type": "execute_result"
    }
   ],
   "source": [
    "calls = pd.pivot_table(df1,\n",
    "               index=['date'],\n",
    "               values='call_duration',\n",
    "               aggfunc=['mean','var','std'],\n",
    "               columns=['tariff_name']\n",
    "               )\n",
    "calls"
   ]
  },
  {
   "cell_type": "code",
   "execution_count": 51,
   "metadata": {
    "scrolled": false
   },
   "outputs": [
    {
     "data": {
      "text/html": [
       "<div>\n",
       "<style scoped>\n",
       "    .dataframe tbody tr th:only-of-type {\n",
       "        vertical-align: middle;\n",
       "    }\n",
       "\n",
       "    .dataframe tbody tr th {\n",
       "        vertical-align: top;\n",
       "    }\n",
       "\n",
       "    .dataframe thead tr th {\n",
       "        text-align: left;\n",
       "    }\n",
       "\n",
       "    .dataframe thead tr:last-of-type th {\n",
       "        text-align: right;\n",
       "    }\n",
       "</style>\n",
       "<table border=\"1\" class=\"dataframe\">\n",
       "  <thead>\n",
       "    <tr>\n",
       "      <th></th>\n",
       "      <th colspan=\"2\" halign=\"left\">mean</th>\n",
       "      <th colspan=\"2\" halign=\"left\">var</th>\n",
       "      <th colspan=\"2\" halign=\"left\">std</th>\n",
       "    </tr>\n",
       "    <tr>\n",
       "      <th>tariff_name</th>\n",
       "      <th>smart</th>\n",
       "      <th>ultra</th>\n",
       "      <th>smart</th>\n",
       "      <th>ultra</th>\n",
       "      <th>smart</th>\n",
       "      <th>ultra</th>\n",
       "    </tr>\n",
       "    <tr>\n",
       "      <th>date</th>\n",
       "      <th></th>\n",
       "      <th></th>\n",
       "      <th></th>\n",
       "      <th></th>\n",
       "      <th></th>\n",
       "      <th></th>\n",
       "    </tr>\n",
       "  </thead>\n",
       "  <tbody>\n",
       "    <tr>\n",
       "      <th>1</th>\n",
       "      <td>20.000000</td>\n",
       "      <td>43.428571</td>\n",
       "      <td>252.133333</td>\n",
       "      <td>765.285714</td>\n",
       "      <td>15.878707</td>\n",
       "      <td>27.663798</td>\n",
       "    </tr>\n",
       "    <tr>\n",
       "      <th>2</th>\n",
       "      <td>27.940000</td>\n",
       "      <td>32.937500</td>\n",
       "      <td>440.465714</td>\n",
       "      <td>713.395833</td>\n",
       "      <td>20.987275</td>\n",
       "      <td>26.709471</td>\n",
       "    </tr>\n",
       "    <tr>\n",
       "      <th>3</th>\n",
       "      <td>35.550725</td>\n",
       "      <td>47.800000</td>\n",
       "      <td>669.780477</td>\n",
       "      <td>1826.666667</td>\n",
       "      <td>25.880117</td>\n",
       "      <td>42.739521</td>\n",
       "    </tr>\n",
       "    <tr>\n",
       "      <th>4</th>\n",
       "      <td>35.864583</td>\n",
       "      <td>44.512821</td>\n",
       "      <td>517.865680</td>\n",
       "      <td>1408.256410</td>\n",
       "      <td>22.756662</td>\n",
       "      <td>37.526743</td>\n",
       "    </tr>\n",
       "    <tr>\n",
       "      <th>5</th>\n",
       "      <td>39.032787</td>\n",
       "      <td>48.769231</td>\n",
       "      <td>638.775776</td>\n",
       "      <td>1559.553544</td>\n",
       "      <td>25.274014</td>\n",
       "      <td>39.491183</td>\n",
       "    </tr>\n",
       "    <tr>\n",
       "      <th>6</th>\n",
       "      <td>38.577465</td>\n",
       "      <td>52.313433</td>\n",
       "      <td>731.635801</td>\n",
       "      <td>1935.672999</td>\n",
       "      <td>27.048767</td>\n",
       "      <td>43.996284</td>\n",
       "    </tr>\n",
       "    <tr>\n",
       "      <th>7</th>\n",
       "      <td>38.988506</td>\n",
       "      <td>62.136986</td>\n",
       "      <td>719.352468</td>\n",
       "      <td>2190.730974</td>\n",
       "      <td>26.820747</td>\n",
       "      <td>46.805245</td>\n",
       "    </tr>\n",
       "    <tr>\n",
       "      <th>8</th>\n",
       "      <td>38.750000</td>\n",
       "      <td>58.897727</td>\n",
       "      <td>767.213054</td>\n",
       "      <td>2022.966432</td>\n",
       "      <td>27.698611</td>\n",
       "      <td>44.977399</td>\n",
       "    </tr>\n",
       "    <tr>\n",
       "      <th>9</th>\n",
       "      <td>39.219731</td>\n",
       "      <td>63.294737</td>\n",
       "      <td>702.505555</td>\n",
       "      <td>1906.763270</td>\n",
       "      <td>26.504821</td>\n",
       "      <td>43.666501</td>\n",
       "    </tr>\n",
       "    <tr>\n",
       "      <th>10</th>\n",
       "      <td>39.082677</td>\n",
       "      <td>69.776699</td>\n",
       "      <td>736.503019</td>\n",
       "      <td>2426.606511</td>\n",
       "      <td>27.138589</td>\n",
       "      <td>49.260598</td>\n",
       "    </tr>\n",
       "    <tr>\n",
       "      <th>11</th>\n",
       "      <td>39.881481</td>\n",
       "      <td>66.159292</td>\n",
       "      <td>711.361366</td>\n",
       "      <td>2249.295828</td>\n",
       "      <td>26.671359</td>\n",
       "      <td>47.426742</td>\n",
       "    </tr>\n",
       "    <tr>\n",
       "      <th>12</th>\n",
       "      <td>42.264808</td>\n",
       "      <td>72.008547</td>\n",
       "      <td>832.447114</td>\n",
       "      <td>2362.870616</td>\n",
       "      <td>28.852160</td>\n",
       "      <td>48.609368</td>\n",
       "    </tr>\n",
       "  </tbody>\n",
       "</table>\n",
       "</div>"
      ],
      "text/plain": [
       "                  mean                    var                     std  \\\n",
       "tariff_name      smart      ultra       smart        ultra      smart   \n",
       "date                                                                    \n",
       "1            20.000000  43.428571  252.133333   765.285714  15.878707   \n",
       "2            27.940000  32.937500  440.465714   713.395833  20.987275   \n",
       "3            35.550725  47.800000  669.780477  1826.666667  25.880117   \n",
       "4            35.864583  44.512821  517.865680  1408.256410  22.756662   \n",
       "5            39.032787  48.769231  638.775776  1559.553544  25.274014   \n",
       "6            38.577465  52.313433  731.635801  1935.672999  27.048767   \n",
       "7            38.988506  62.136986  719.352468  2190.730974  26.820747   \n",
       "8            38.750000  58.897727  767.213054  2022.966432  27.698611   \n",
       "9            39.219731  63.294737  702.505555  1906.763270  26.504821   \n",
       "10           39.082677  69.776699  736.503019  2426.606511  27.138589   \n",
       "11           39.881481  66.159292  711.361366  2249.295828  26.671359   \n",
       "12           42.264808  72.008547  832.447114  2362.870616  28.852160   \n",
       "\n",
       "                        \n",
       "tariff_name      ultra  \n",
       "date                    \n",
       "1            27.663798  \n",
       "2            26.709471  \n",
       "3            42.739521  \n",
       "4            37.526743  \n",
       "5            39.491183  \n",
       "6            43.996284  \n",
       "7            46.805245  \n",
       "8            44.977399  \n",
       "9            43.666501  \n",
       "10           49.260598  \n",
       "11           47.426742  \n",
       "12           48.609368  "
      ]
     },
     "execution_count": 51,
     "metadata": {},
     "output_type": "execute_result"
    }
   ],
   "source": [
    "messages = pd.pivot_table(df2,\n",
    "               index=['date'],\n",
    "               values='message_count',\n",
    "               aggfunc=['mean','var','std'],\n",
    "               columns=['tariff_name']\n",
    "               )\n",
    "messages"
   ]
  },
  {
   "cell_type": "code",
   "execution_count": 52,
   "metadata": {
    "scrolled": false
   },
   "outputs": [
    {
     "data": {
      "text/html": [
       "<div>\n",
       "<style scoped>\n",
       "    .dataframe tbody tr th:only-of-type {\n",
       "        vertical-align: middle;\n",
       "    }\n",
       "\n",
       "    .dataframe tbody tr th {\n",
       "        vertical-align: top;\n",
       "    }\n",
       "\n",
       "    .dataframe thead tr th {\n",
       "        text-align: left;\n",
       "    }\n",
       "\n",
       "    .dataframe thead tr:last-of-type th {\n",
       "        text-align: right;\n",
       "    }\n",
       "</style>\n",
       "<table border=\"1\" class=\"dataframe\">\n",
       "  <thead>\n",
       "    <tr>\n",
       "      <th></th>\n",
       "      <th colspan=\"2\" halign=\"left\">mean</th>\n",
       "      <th colspan=\"2\" halign=\"left\">var</th>\n",
       "      <th colspan=\"2\" halign=\"left\">std</th>\n",
       "    </tr>\n",
       "    <tr>\n",
       "      <th>tariff_name</th>\n",
       "      <th>smart</th>\n",
       "      <th>ultra</th>\n",
       "      <th>smart</th>\n",
       "      <th>ultra</th>\n",
       "      <th>smart</th>\n",
       "      <th>ultra</th>\n",
       "    </tr>\n",
       "    <tr>\n",
       "      <th>date</th>\n",
       "      <th></th>\n",
       "      <th></th>\n",
       "      <th></th>\n",
       "      <th></th>\n",
       "      <th></th>\n",
       "      <th></th>\n",
       "    </tr>\n",
       "  </thead>\n",
       "  <tbody>\n",
       "    <tr>\n",
       "      <th>1</th>\n",
       "      <td>8.735294</td>\n",
       "      <td>13.222222</td>\n",
       "      <td>39.412656</td>\n",
       "      <td>44.444444</td>\n",
       "      <td>6.277950</td>\n",
       "      <td>6.666667</td>\n",
       "    </tr>\n",
       "    <tr>\n",
       "      <th>2</th>\n",
       "      <td>11.844828</td>\n",
       "      <td>13.090909</td>\n",
       "      <td>37.150938</td>\n",
       "      <td>104.562771</td>\n",
       "      <td>6.095157</td>\n",
       "      <td>10.225594</td>\n",
       "    </tr>\n",
       "    <tr>\n",
       "      <th>3</th>\n",
       "      <td>15.233766</td>\n",
       "      <td>17.648649</td>\n",
       "      <td>32.549897</td>\n",
       "      <td>114.345345</td>\n",
       "      <td>5.705252</td>\n",
       "      <td>10.693238</td>\n",
       "    </tr>\n",
       "    <tr>\n",
       "      <th>4</th>\n",
       "      <td>13.625000</td>\n",
       "      <td>16.963636</td>\n",
       "      <td>31.299550</td>\n",
       "      <td>89.443098</td>\n",
       "      <td>5.594600</td>\n",
       "      <td>9.457436</td>\n",
       "    </tr>\n",
       "    <tr>\n",
       "      <th>5</th>\n",
       "      <td>15.907801</td>\n",
       "      <td>19.666667</td>\n",
       "      <td>34.370010</td>\n",
       "      <td>91.241026</td>\n",
       "      <td>5.862594</td>\n",
       "      <td>9.552017</td>\n",
       "    </tr>\n",
       "    <tr>\n",
       "      <th>6</th>\n",
       "      <td>15.951220</td>\n",
       "      <td>19.168675</td>\n",
       "      <td>31.911716</td>\n",
       "      <td>78.971202</td>\n",
       "      <td>5.649046</td>\n",
       "      <td>8.886574</td>\n",
       "    </tr>\n",
       "    <tr>\n",
       "      <th>7</th>\n",
       "      <td>15.875622</td>\n",
       "      <td>20.733333</td>\n",
       "      <td>33.419453</td>\n",
       "      <td>92.737079</td>\n",
       "      <td>5.780956</td>\n",
       "      <td>9.630009</td>\n",
       "    </tr>\n",
       "    <tr>\n",
       "      <th>8</th>\n",
       "      <td>16.807692</td>\n",
       "      <td>19.783019</td>\n",
       "      <td>28.962859</td>\n",
       "      <td>102.457233</td>\n",
       "      <td>5.381715</td>\n",
       "      <td>10.122116</td>\n",
       "    </tr>\n",
       "    <tr>\n",
       "      <th>9</th>\n",
       "      <td>16.392308</td>\n",
       "      <td>19.412281</td>\n",
       "      <td>25.884110</td>\n",
       "      <td>83.713476</td>\n",
       "      <td>5.087643</td>\n",
       "      <td>9.149507</td>\n",
       "    </tr>\n",
       "    <tr>\n",
       "      <th>10</th>\n",
       "      <td>16.880952</td>\n",
       "      <td>20.229508</td>\n",
       "      <td>32.897042</td>\n",
       "      <td>88.657634</td>\n",
       "      <td>5.735594</td>\n",
       "      <td>9.415818</td>\n",
       "    </tr>\n",
       "    <tr>\n",
       "      <th>11</th>\n",
       "      <td>17.000000</td>\n",
       "      <td>19.954887</td>\n",
       "      <td>27.180952</td>\n",
       "      <td>91.513101</td>\n",
       "      <td>5.213535</td>\n",
       "      <td>9.566248</td>\n",
       "    </tr>\n",
       "    <tr>\n",
       "      <th>12</th>\n",
       "      <td>18.201780</td>\n",
       "      <td>21.898551</td>\n",
       "      <td>29.786544</td>\n",
       "      <td>100.515180</td>\n",
       "      <td>5.457705</td>\n",
       "      <td>10.025726</td>\n",
       "    </tr>\n",
       "  </tbody>\n",
       "</table>\n",
       "</div>"
      ],
      "text/plain": [
       "                  mean                   var                   std           \n",
       "tariff_name      smart      ultra      smart       ultra     smart      ultra\n",
       "date                                                                         \n",
       "1             8.735294  13.222222  39.412656   44.444444  6.277950   6.666667\n",
       "2            11.844828  13.090909  37.150938  104.562771  6.095157  10.225594\n",
       "3            15.233766  17.648649  32.549897  114.345345  5.705252  10.693238\n",
       "4            13.625000  16.963636  31.299550   89.443098  5.594600   9.457436\n",
       "5            15.907801  19.666667  34.370010   91.241026  5.862594   9.552017\n",
       "6            15.951220  19.168675  31.911716   78.971202  5.649046   8.886574\n",
       "7            15.875622  20.733333  33.419453   92.737079  5.780956   9.630009\n",
       "8            16.807692  19.783019  28.962859  102.457233  5.381715  10.122116\n",
       "9            16.392308  19.412281  25.884110   83.713476  5.087643   9.149507\n",
       "10           16.880952  20.229508  32.897042   88.657634  5.735594   9.415818\n",
       "11           17.000000  19.954887  27.180952   91.513101  5.213535   9.566248\n",
       "12           18.201780  21.898551  29.786544  100.515180  5.457705  10.025726"
      ]
     },
     "execution_count": 52,
     "metadata": {},
     "output_type": "execute_result"
    }
   ],
   "source": [
    "gbs = pd.pivot_table(df3,\n",
    "               index=['date'],\n",
    "               values='gb_used',\n",
    "               aggfunc=['mean','var','std'],\n",
    "               columns=['tariff_name']\n",
    "               )\n",
    "gbs"
   ]
  },
  {
   "cell_type": "code",
   "execution_count": 53,
   "metadata": {
    "scrolled": false
   },
   "outputs": [
    {
     "data": {
      "image/png": "[encoded data removed]",
      "text/plain": [
       "<Figure size 864x504 with 1 Axes>"
      ]
     },
     "metadata": {
      "needs_background": "light"
     },
     "output_type": "display_data"
    }
   ],
   "source": [
    "# посчитаю общую выручку в месяц у каждого тарифа\n",
    "s = total.groupby(['date','tariff']).agg({'bill':'sum'}).reset_index().query(\"tariff == 'smart'\")\n",
    "u = total.groupby(['date','tariff']).agg({'bill':'sum'}).reset_index().query(\"tariff == 'ultra'\")\n",
    "\n",
    "plt.figure(figsize=(12, 7))\n",
    "plt.plot(s['date'], s['bill'],label='смарт')\n",
    "plt.plot(u['date'], u['bill'],label='ультра')\n",
    "plt.title('Объем выручки по месяцам по каждому из тарифов', fontsize=17)\n",
    "plt.xlabel('Месяц',fontsize=12)\n",
    "plt.ylabel('Объем выручки,у.е.',fontsize=12)\n",
    "plt.grid(True)\n",
    "plt.legend()\n",
    "plt.show()"
   ]
  },
  {
   "cell_type": "markdown",
   "metadata": {},
   "source": [
    "###### Вывод\n"
   ]
  },
  {
   "cell_type": "markdown",
   "metadata": {},
   "source": [
    "<div style=\"background:rgba(4, 203, 217, 0.1); padding: 12px\">\n",
    "\n",
    "Исходя из полученных значений и можно сделать следующие выводы:\n",
    "\n",
    "Не смотря на то, что стоимость тарифа Ультра выше, общая выручка с него меньше за счет меньшего количества абонентов. Абонент тарифа Ультра ежемесячно и всего в год приносит выручки больше чем абонент тарифа Смарт. Годовая выручка с одного абонента тарифа Ультра почти в 2 раза больше чем с абонента тарифа Смарт.\n",
    "\n",
    "В среднем по тарифу Ультра используется 650 минут в месяц, что почти на 30% больше, чем по тарифу Смарт - 500 минут. Большинство пользователей тарифа Смарт отправляют ежемесячно не более 20 смс, тарифа Ультра - не более 50 смс (почти в 2,5 раза больше). По объему интернет-трафика в тарифе Смарт используется от 12 до 22 ГБ интернета ежемесячно, в тарифе Ультра - от 15 и до 30 ГБ. \n",
    "\n",
    "По диаграммам можно сделать выводы:\n",
    "\n",
    "Звонки:\n",
    "Наиболее распостранена длительность на тарифе Смарт 450-500 минут разговоров в месяц и в случае тарифа Ультра наибольшая длительность очень растянута и достигает от 250 - 800 минут достигая небольшого пика в 650 мин. На тарифе Ультра клиенты разговаривают дольше чем на Смарте.\n",
    "\n",
    "СМС:\n",
    "В основном клиенты отправляют не очень большое количество смс для обоих тарифов это до 50 в месяц На тарифе Ультра есть небоьшое количество клиентов отправляющие более 150 смс.\n",
    "\n",
    "Потребляемый интернет траффик:\n",
    "Максимальное количество потребляемого трафика на тарифе Ультра гораздо выше."
   ]
  },
  {
   "cell_type": "markdown",
   "metadata": {},
   "source": [
    "### Проверка гипотез"
   ]
  },
  {
   "cell_type": "markdown",
   "metadata": {},
   "source": [
    "##### Проверяем гипотезу, что средняя выручка пользователей тарифов «Ультра» и «Смарт» различается. "
   ]
  },
  {
   "cell_type": "markdown",
   "metadata": {},
   "source": [
    "<div style=\"background:rgba(4, 203, 217, 0.1); padding: 12px\">\n",
    "<p>Формируем нулевую и альтернативную гипотезу. Так как нулевая гипотеза всегда содержит знак равенства, то сформулируем ее следующим образом: Средняя выручка пользователей тарифов «Ультра» и «Смарт» равны. Исходя из нулевой гипотезы, альтернативная гипотеза будет звучать так: Средняя выручка пользователей тарифов «Ультра» и «Смарт» различается. Критический уровень статистической значимости alpha = .05. \n",
    "    \n",
    "<p>Н0: Средняя выручка пользователей тарифов «Ультра» и «Смарт» равны.  \n",
    "\n",
    "<p>Н1: Средняя выручка пользователей тарифов «Ультра» и «Смарт» различается.</div>"
   ]
  },
  {
   "cell_type": "code",
   "execution_count": 54,
   "metadata": {},
   "outputs": [],
   "source": [
    "total = total.dropna()"
   ]
  },
  {
   "cell_type": "code",
   "execution_count": 55,
   "metadata": {},
   "outputs": [
    {
     "data": {
      "text/plain": [
       "1290.6778067885118"
      ]
     },
     "execution_count": 55,
     "metadata": {},
     "output_type": "execute_result"
    }
   ],
   "source": [
    "# средняя выручка пользователей Смарт\n",
    "h_s = total[total['tariff'] == 'smart']\n",
    "h_s = h_s['bill']\n",
    "h_s.mean()"
   ]
  },
  {
   "cell_type": "code",
   "execution_count": 56,
   "metadata": {},
   "outputs": [
    {
     "data": {
      "text/plain": [
       "2048.936170212766"
      ]
     },
     "execution_count": 56,
     "metadata": {},
     "output_type": "execute_result"
    }
   ],
   "source": [
    "# средняя выручка пользователей Ультра\n",
    "h_u = total[total['tariff'] == 'ultra']\n",
    "h_u = h_u['bill']\n",
    "h_u.mean()"
   ]
  },
  {
   "cell_type": "code",
   "execution_count": 57,
   "metadata": {},
   "outputs": [
    {
     "name": "stdout",
     "output_type": "stream",
     "text": [
      "p-значение: 1.1515961964890638e-119\n",
      "Отвергаем нулевую гипотезу\n"
     ]
    }
   ],
   "source": [
    "alpha = .05\n",
    "\n",
    "results = st.ttest_ind(h_u, h_s)\n",
    "\n",
    "print('p-значение:', results.pvalue)\n",
    "\n",
    "if (results.pvalue < alpha):\n",
    "    print(\"Отвергаем нулевую гипотезу\")\n",
    "else:\n",
    "    print(\"Не получилось отвергнуть нулевую гипотезу\")"
   ]
  },
  {
   "cell_type": "markdown",
   "metadata": {},
   "source": [
    "<div style=\"background:rgba(4, 203, 217, 0.1); padding: 12px\">\n",
    "Проверим двухстороннюю гипотезу о том, что средняя выручка пользователей тарифов «Ультра» и «Смарт» различается. Воспользуемся выборкой из 100 элементов."
   ]
  },
  {
   "cell_type": "code",
   "execution_count": 58,
   "metadata": {},
   "outputs": [],
   "source": [
    "h_s_100 = h_s[1:101]\n",
    "h_u_100 = h_u[50:151]"
   ]
  },
  {
   "cell_type": "code",
   "execution_count": 59,
   "metadata": {},
   "outputs": [
    {
     "name": "stdout",
     "output_type": "stream",
     "text": [
      "p-значение: 4.653020551401639e-13\n",
      "Отвергаем нулевую гипотезу\n"
     ]
    }
   ],
   "source": [
    "alpha = .05\n",
    "\n",
    "results = st.ttest_ind(h_s_100, h_u_100)\n",
    "\n",
    "print('p-значение:', results.pvalue)\n",
    "\n",
    "if (results.pvalue < alpha):\n",
    "    print(\"Отвергаем нулевую гипотезу\")\n",
    "else:\n",
    "    print(\"Не получилось отвергнуть нулевую гипотезу\")"
   ]
  },
  {
   "cell_type": "markdown",
   "metadata": {},
   "source": [
    "##### Проверяем гипотезу, что средняя выручка пользователей из Москвы отличается от средней выручки пользователей из регионов."
   ]
  },
  {
   "cell_type": "markdown",
   "metadata": {},
   "source": [
    "<div style=\"background:rgba(4, 203, 217, 0.1); padding: 12px\">\n",
    "\n",
    "Н0:Средняя выручка пользователей из Москвы равна от выручки пользователей из других регионов.  \n",
    "\n",
    "Н1:Средняя выручка пользователей из Москвы отличается от выручки пользователей из других регионов."
   ]
  },
  {
   "cell_type": "code",
   "execution_count": 60,
   "metadata": {},
   "outputs": [],
   "source": [
    "h_msc = total[total['city'] == 'Москва']\n",
    "h_msc = h_msc['bill']"
   ]
  },
  {
   "cell_type": "code",
   "execution_count": 61,
   "metadata": {},
   "outputs": [],
   "source": [
    "h_not_msc = total[total['city'] != 'Москва']\n",
    "h_not_msc = h_not_msc['bill']"
   ]
  },
  {
   "cell_type": "code",
   "execution_count": 62,
   "metadata": {},
   "outputs": [
    {
     "name": "stdout",
     "output_type": "stream",
     "text": [
      "p-значение: 0.12167256176036186\n",
      "Не получилось отвергнуть нулевую гипотезу\n"
     ]
    }
   ],
   "source": [
    "alpha = .05\n",
    "\n",
    "results = st.ttest_ind(h_msc, h_not_msc)\n",
    "\n",
    "print('p-значение:', results.pvalue)\n",
    "\n",
    "if (results.pvalue < alpha):\n",
    "    print(\"Отвергаем нулевую гипотезу\")\n",
    "else:\n",
    "    print(\"Не получилось отвергнуть нулевую гипотезу\")"
   ]
  },
  {
   "cell_type": "markdown",
   "metadata": {},
   "source": [
    "### Вывод"
   ]
  },
  {
   "cell_type": "markdown",
   "metadata": {},
   "source": [
    "<div style=\"background:rgba(4, 203, 217, 0.1);border:inset skyblue 5px; padding: 12px;box-shadow: 4px 4px 4px;\">\n",
    "В среднем по тарифу Ультра используется 650 минут в месяц,что почти на 30% больше, чем по тарифу Смарт - 500 минут.\n",
    "Большинство пользователей тарифа Смарт отправляют ежемесячно не более 20 смс, тарифа Ультра - не более 50 смс (почти в 2,5 раза больше). По объему интернет-трафика в тарифе Смарт используется  от 12 до 22 ГБ интернета ежемесячно, в тарифе Ультра - от 15 и до 30 ГБ.  \n",
    "\n",
    "Наиболее распостранена длительность на тарифе \"Смарт\" 450-500 минут разговоров в месяц и в случае тарифа \"Ультра\" наибольшая длительность очень растянута и достигает от 250 - 800 минут достигая небольшого пика в 650 мин. На тарифе \"Ультра клиенты раговаривают дольше чем на \"Смарте\".  \n",
    "\n",
    "В основном клиенты отправляют не очень большшое количество смс для обоих тарифов это до 50 в месяц\n",
    "На тарифе \"Ультра\" есть небоьшое количество клиентов отправляющие более 150 смс.  \n",
    "\n",
    "Максимальное количество потребляемого трафика на тарифе \"Ультра\" гораздо выше.  \n",
    "\n",
    "Не смотря на то, что стоимость тарифа Ультра выше, общая выручка с него меньше за счет меньшего количества абонентов. Абонент тарифа Ультра ежемесячно и всего в год приносит выручки больше чем абонент тарифа Смарт. Годовая выручка с одного абонента тарифа Ультра почти в 2 раза больше чем с абонента тарифа Смарт.  \n",
    "\n",
    "При проверке гипотез получились следующие результаты:  \n",
    "Гипотеза о том, что средняя выручка пользователей тарифов «Ультра» и «Смарт» различается - подтвердилась.  \n",
    "Гипотеза о том, что средняя выручка пользователей из Москвы отличается от выручки пользователей из других регионов - не подтвердилась.\n",
    "Оба тарифа приносят прибыль, в расчете на одного клиента прибыль тарифа Ультра выше, но валовую выручку больше приносит тариф смарт."
   ]
  }
 ],
 "metadata": {
  "ExecuteTimeLog": [
   {
    "duration": 747,
    "start_time": "2022-01-28T12:08:42.293Z"
   },
   {
    "duration": 407,
    "start_time": "2022-01-28T12:10:43.389Z"
   },
   {
    "duration": 4,
    "start_time": "2022-01-28T12:10:56.617Z"
   },
   {
    "duration": 519,
    "start_time": "2022-01-28T12:10:57.287Z"
   },
   {
    "duration": 27,
    "start_time": "2022-01-28T12:14:30.056Z"
   },
   {
    "duration": 10,
    "start_time": "2022-01-28T13:21:58.089Z"
   },
   {
    "duration": 24,
    "start_time": "2022-01-28T13:22:59.170Z"
   },
   {
    "duration": 11,
    "start_time": "2022-01-28T13:25:23.977Z"
   },
   {
    "duration": 28,
    "start_time": "2022-01-28T13:25:36.409Z"
   },
   {
    "duration": 75,
    "start_time": "2022-01-28T13:27:46.526Z"
   },
   {
    "duration": 299,
    "start_time": "2022-01-28T13:28:23.383Z"
   },
   {
    "duration": 307,
    "start_time": "2022-01-28T13:28:27.742Z"
   },
   {
    "duration": 74,
    "start_time": "2022-01-28T13:28:36.465Z"
   },
   {
    "duration": 10,
    "start_time": "2022-01-28T13:29:09.004Z"
   },
   {
    "duration": 30,
    "start_time": "2022-01-28T13:29:09.336Z"
   },
   {
    "duration": 45,
    "start_time": "2022-01-28T13:29:36.720Z"
   },
   {
    "duration": 74,
    "start_time": "2022-01-28T13:29:51.748Z"
   },
   {
    "duration": 275,
    "start_time": "2022-01-28T13:30:08.296Z"
   },
   {
    "duration": 273,
    "start_time": "2022-01-28T13:30:22.378Z"
   },
   {
    "duration": 36,
    "start_time": "2022-01-28T13:30:52.650Z"
   },
   {
    "duration": 84,
    "start_time": "2022-01-28T13:30:57.603Z"
   },
   {
    "duration": 12,
    "start_time": "2022-01-28T13:31:36.001Z"
   },
   {
    "duration": 24,
    "start_time": "2022-01-28T13:32:17.546Z"
   },
   {
    "duration": 4,
    "start_time": "2022-01-28T13:33:41.755Z"
   },
   {
    "duration": 564,
    "start_time": "2022-01-28T13:33:42.130Z"
   },
   {
    "duration": 14,
    "start_time": "2022-01-28T13:33:42.697Z"
   },
   {
    "duration": 11,
    "start_time": "2022-01-28T13:33:42.870Z"
   },
   {
    "duration": 11,
    "start_time": "2022-01-28T13:33:43.321Z"
   },
   {
    "duration": 30,
    "start_time": "2022-01-28T13:33:43.651Z"
   },
   {
    "duration": 11,
    "start_time": "2022-01-28T13:33:43.976Z"
   },
   {
    "duration": 20,
    "start_time": "2022-01-28T13:33:44.375Z"
   },
   {
    "duration": 19,
    "start_time": "2022-01-28T13:33:44.931Z"
   },
   {
    "duration": 35,
    "start_time": "2022-01-28T13:33:46.461Z"
   },
   {
    "duration": 12,
    "start_time": "2022-01-28T13:34:12.717Z"
   },
   {
    "duration": 9,
    "start_time": "2022-01-28T13:34:24.003Z"
   },
   {
    "duration": 26,
    "start_time": "2022-01-28T13:34:47.928Z"
   },
   {
    "duration": 13,
    "start_time": "2022-01-28T13:41:02.813Z"
   },
   {
    "duration": 14,
    "start_time": "2022-01-28T13:41:10.374Z"
   },
   {
    "duration": 14,
    "start_time": "2022-01-28T13:41:20.233Z"
   },
   {
    "duration": 10,
    "start_time": "2022-01-28T13:45:46.178Z"
   },
   {
    "duration": 125,
    "start_time": "2022-01-28T13:51:36.017Z"
   },
   {
    "duration": 136,
    "start_time": "2022-01-28T13:51:46.655Z"
   },
   {
    "duration": 145,
    "start_time": "2022-01-28T14:16:41.762Z"
   },
   {
    "duration": 7285,
    "start_time": "2022-01-28T14:16:56.227Z"
   },
   {
    "duration": 1056,
    "start_time": "2022-01-28T14:17:02.459Z"
   },
   {
    "duration": 374,
    "start_time": "2022-01-28T14:17:47.004Z"
   },
   {
    "duration": 709,
    "start_time": "2022-01-28T14:17:58.967Z"
   },
   {
    "duration": 517,
    "start_time": "2022-01-28T14:17:59.679Z"
   },
   {
    "duration": 25,
    "start_time": "2022-01-28T14:18:00.202Z"
   },
   {
    "duration": 25,
    "start_time": "2022-01-28T14:18:00.229Z"
   },
   {
    "duration": 25,
    "start_time": "2022-01-28T14:18:00.256Z"
   },
   {
    "duration": 40,
    "start_time": "2022-01-28T14:18:00.284Z"
   },
   {
    "duration": 10,
    "start_time": "2022-01-28T14:18:00.327Z"
   },
   {
    "duration": 28,
    "start_time": "2022-01-28T14:18:00.340Z"
   },
   {
    "duration": 15,
    "start_time": "2022-01-28T14:18:00.371Z"
   },
   {
    "duration": 52,
    "start_time": "2022-01-28T14:18:00.389Z"
   },
   {
    "duration": 16,
    "start_time": "2022-01-28T14:18:00.443Z"
   },
   {
    "duration": 35,
    "start_time": "2022-01-28T14:18:00.461Z"
   },
   {
    "duration": 179,
    "start_time": "2022-01-28T14:18:00.499Z"
   },
   {
    "duration": 14,
    "start_time": "2022-01-28T14:18:13.287Z"
   },
   {
    "duration": 13,
    "start_time": "2022-01-28T14:18:22.112Z"
   },
   {
    "duration": 11,
    "start_time": "2022-01-28T14:19:27.500Z"
   },
   {
    "duration": 18,
    "start_time": "2022-01-28T14:19:39.525Z"
   },
   {
    "duration": 366,
    "start_time": "2022-01-28T14:37:39.217Z"
   },
   {
    "duration": 8,
    "start_time": "2022-01-28T14:38:00.676Z"
   },
   {
    "duration": 12,
    "start_time": "2022-01-28T14:38:29.729Z"
   },
   {
    "duration": 6,
    "start_time": "2022-01-28T14:38:37.657Z"
   },
   {
    "duration": 11,
    "start_time": "2022-01-28T14:38:39.684Z"
   },
   {
    "duration": 5,
    "start_time": "2022-01-28T14:39:26.545Z"
   },
   {
    "duration": 90,
    "start_time": "2022-01-28T14:46:52.073Z"
   },
   {
    "duration": 63,
    "start_time": "2022-01-28T14:47:18.854Z"
   },
   {
    "duration": 76,
    "start_time": "2022-01-28T14:47:27.673Z"
   },
   {
    "duration": 77,
    "start_time": "2022-01-28T14:47:33.888Z"
   },
   {
    "duration": 74,
    "start_time": "2022-01-28T14:47:40.908Z"
   },
   {
    "duration": 71,
    "start_time": "2022-01-28T14:49:05.063Z"
   },
   {
    "duration": 316,
    "start_time": "2022-01-28T14:50:44.072Z"
   },
   {
    "duration": 299,
    "start_time": "2022-01-28T14:51:11.138Z"
   },
   {
    "duration": 294,
    "start_time": "2022-01-28T14:51:24.163Z"
   },
   {
    "duration": 36,
    "start_time": "2022-01-28T14:51:28.009Z"
   },
   {
    "duration": 32,
    "start_time": "2022-01-28T14:51:37.689Z"
   },
   {
    "duration": 40,
    "start_time": "2022-01-28T14:53:55.203Z"
   },
   {
    "duration": 44,
    "start_time": "2022-01-28T14:57:26.696Z"
   },
   {
    "duration": 13,
    "start_time": "2022-01-28T14:58:07.138Z"
   },
   {
    "duration": 34,
    "start_time": "2022-01-28T14:58:18.128Z"
   },
   {
    "duration": 14,
    "start_time": "2022-01-28T14:58:21.293Z"
   },
   {
    "duration": 7441,
    "start_time": "2022-01-28T15:14:00.170Z"
   },
   {
    "duration": 334,
    "start_time": "2022-01-28T15:14:28.205Z"
   },
   {
    "duration": 8,
    "start_time": "2022-01-28T15:15:54.709Z"
   },
   {
    "duration": 287,
    "start_time": "2022-01-28T15:15:57.113Z"
   },
   {
    "duration": 24,
    "start_time": "2022-01-28T15:22:53.404Z"
   },
   {
    "duration": 285,
    "start_time": "2022-01-28T15:23:21.900Z"
   },
   {
    "duration": 33,
    "start_time": "2022-01-28T15:23:52.243Z"
   },
   {
    "duration": 280,
    "start_time": "2022-01-28T15:27:18.522Z"
   },
   {
    "duration": 290,
    "start_time": "2022-01-28T15:27:47.670Z"
   },
   {
    "duration": 803,
    "start_time": "2022-01-28T15:28:16.610Z"
   },
   {
    "duration": 520,
    "start_time": "2022-01-28T15:28:17.416Z"
   },
   {
    "duration": 24,
    "start_time": "2022-01-28T15:28:17.939Z"
   },
   {
    "duration": 13,
    "start_time": "2022-01-28T15:28:17.966Z"
   },
   {
    "duration": 14,
    "start_time": "2022-01-28T15:28:17.982Z"
   },
   {
    "duration": 68,
    "start_time": "2022-01-28T15:28:17.998Z"
   },
   {
    "duration": 11,
    "start_time": "2022-01-28T15:28:18.068Z"
   },
   {
    "duration": 50,
    "start_time": "2022-01-28T15:28:18.082Z"
   },
   {
    "duration": 11,
    "start_time": "2022-01-28T15:28:18.135Z"
   },
   {
    "duration": 36,
    "start_time": "2022-01-28T15:28:18.148Z"
   },
   {
    "duration": 12,
    "start_time": "2022-01-28T15:28:18.186Z"
   },
   {
    "duration": 52,
    "start_time": "2022-01-28T15:28:18.200Z"
   },
   {
    "duration": 170,
    "start_time": "2022-01-28T15:28:18.254Z"
   },
   {
    "duration": 7,
    "start_time": "2022-01-28T15:28:18.426Z"
   },
   {
    "duration": 91,
    "start_time": "2022-01-28T15:28:18.436Z"
   },
   {
    "duration": 35,
    "start_time": "2022-01-28T15:28:18.532Z"
   },
   {
    "duration": 65,
    "start_time": "2022-01-28T15:28:18.569Z"
   },
   {
    "duration": 11,
    "start_time": "2022-01-28T15:28:18.636Z"
   },
   {
    "duration": 22,
    "start_time": "2022-01-28T15:28:20.822Z"
   },
   {
    "duration": 9,
    "start_time": "2022-01-28T15:28:31.713Z"
   },
   {
    "duration": 1320,
    "start_time": "2022-01-28T15:30:18.201Z"
   },
   {
    "duration": 276,
    "start_time": "2022-01-28T15:30:34.988Z"
   },
   {
    "duration": 289,
    "start_time": "2022-01-28T15:30:52.738Z"
   },
   {
    "duration": 306,
    "start_time": "2022-01-28T15:31:00.344Z"
   },
   {
    "duration": 297,
    "start_time": "2022-01-28T15:31:15.209Z"
   },
   {
    "duration": 3,
    "start_time": "2022-01-28T15:31:23.548Z"
   },
   {
    "duration": 518,
    "start_time": "2022-01-28T15:31:23.554Z"
   },
   {
    "duration": 14,
    "start_time": "2022-01-28T15:31:24.075Z"
   },
   {
    "duration": 10,
    "start_time": "2022-01-28T15:31:24.091Z"
   },
   {
    "duration": 12,
    "start_time": "2022-01-28T15:31:24.104Z"
   },
   {
    "duration": 38,
    "start_time": "2022-01-28T15:31:24.119Z"
   },
   {
    "duration": 9,
    "start_time": "2022-01-28T15:31:24.160Z"
   },
   {
    "duration": 22,
    "start_time": "2022-01-28T15:31:24.172Z"
   },
   {
    "duration": 11,
    "start_time": "2022-01-28T15:31:24.234Z"
   },
   {
    "duration": 26,
    "start_time": "2022-01-28T15:31:24.248Z"
   },
   {
    "duration": 13,
    "start_time": "2022-01-28T15:31:24.276Z"
   },
   {
    "duration": 49,
    "start_time": "2022-01-28T15:31:24.291Z"
   },
   {
    "duration": 172,
    "start_time": "2022-01-28T15:31:24.342Z"
   },
   {
    "duration": 6,
    "start_time": "2022-01-28T15:31:24.516Z"
   },
   {
    "duration": 102,
    "start_time": "2022-01-28T15:31:24.532Z"
   },
   {
    "duration": 35,
    "start_time": "2022-01-28T15:31:24.637Z"
   },
   {
    "duration": 58,
    "start_time": "2022-01-28T15:31:24.674Z"
   },
   {
    "duration": 12,
    "start_time": "2022-01-28T15:31:24.734Z"
   },
   {
    "duration": 10,
    "start_time": "2022-01-28T15:31:27.249Z"
   },
   {
    "duration": 9,
    "start_time": "2022-01-28T15:31:38.253Z"
   },
   {
    "duration": 9,
    "start_time": "2022-01-28T15:31:41.465Z"
   },
   {
    "duration": 35,
    "start_time": "2022-01-28T15:31:42.321Z"
   },
   {
    "duration": 712,
    "start_time": "2022-01-28T15:32:34.087Z"
   },
   {
    "duration": 528,
    "start_time": "2022-01-28T15:32:34.803Z"
   },
   {
    "duration": 25,
    "start_time": "2022-01-28T15:32:35.334Z"
   },
   {
    "duration": 12,
    "start_time": "2022-01-28T15:32:35.362Z"
   },
   {
    "duration": 25,
    "start_time": "2022-01-28T15:32:35.377Z"
   },
   {
    "duration": 52,
    "start_time": "2022-01-28T15:32:35.404Z"
   },
   {
    "duration": 11,
    "start_time": "2022-01-28T15:32:35.458Z"
   },
   {
    "duration": 29,
    "start_time": "2022-01-28T15:32:35.471Z"
   },
   {
    "duration": 36,
    "start_time": "2022-01-28T15:32:35.504Z"
   },
   {
    "duration": 29,
    "start_time": "2022-01-28T15:32:35.543Z"
   },
   {
    "duration": 17,
    "start_time": "2022-01-28T15:32:35.574Z"
   },
   {
    "duration": 43,
    "start_time": "2022-01-28T15:32:35.593Z"
   },
   {
    "duration": 176,
    "start_time": "2022-01-28T15:32:35.639Z"
   },
   {
    "duration": 15,
    "start_time": "2022-01-28T15:32:35.817Z"
   },
   {
    "duration": 98,
    "start_time": "2022-01-28T15:32:35.835Z"
   },
   {
    "duration": 37,
    "start_time": "2022-01-28T15:32:35.936Z"
   },
   {
    "duration": 63,
    "start_time": "2022-01-28T15:32:35.975Z"
   },
   {
    "duration": 13,
    "start_time": "2022-01-28T15:32:36.041Z"
   },
   {
    "duration": 9,
    "start_time": "2022-01-28T15:32:36.056Z"
   },
   {
    "duration": 3,
    "start_time": "2022-01-28T15:32:47.953Z"
   },
   {
    "duration": 525,
    "start_time": "2022-01-28T15:32:47.959Z"
   },
   {
    "duration": 15,
    "start_time": "2022-01-28T15:32:48.488Z"
   },
   {
    "duration": 11,
    "start_time": "2022-01-28T15:32:48.506Z"
   },
   {
    "duration": 20,
    "start_time": "2022-01-28T15:32:48.520Z"
   },
   {
    "duration": 30,
    "start_time": "2022-01-28T15:32:48.542Z"
   },
   {
    "duration": 11,
    "start_time": "2022-01-28T15:32:48.574Z"
   },
   {
    "duration": 50,
    "start_time": "2022-01-28T15:32:48.589Z"
   },
   {
    "duration": 12,
    "start_time": "2022-01-28T15:32:48.642Z"
   },
   {
    "duration": 29,
    "start_time": "2022-01-28T15:32:48.657Z"
   },
   {
    "duration": 44,
    "start_time": "2022-01-28T15:32:48.688Z"
   },
   {
    "duration": 9,
    "start_time": "2022-01-28T15:32:48.734Z"
   },
   {
    "duration": 172,
    "start_time": "2022-01-28T15:32:48.745Z"
   },
   {
    "duration": 16,
    "start_time": "2022-01-28T15:32:48.920Z"
   },
   {
    "duration": 95,
    "start_time": "2022-01-28T15:32:48.938Z"
   },
   {
    "duration": 38,
    "start_time": "2022-01-28T15:32:49.036Z"
   },
   {
    "duration": 61,
    "start_time": "2022-01-28T15:32:49.076Z"
   },
   {
    "duration": 12,
    "start_time": "2022-01-28T15:32:49.140Z"
   },
   {
    "duration": 9,
    "start_time": "2022-01-28T15:32:49.154Z"
   },
   {
    "duration": 4,
    "start_time": "2022-01-28T15:32:56.882Z"
   },
   {
    "duration": 527,
    "start_time": "2022-01-28T15:32:56.890Z"
   },
   {
    "duration": 14,
    "start_time": "2022-01-28T15:32:57.421Z"
   },
   {
    "duration": 11,
    "start_time": "2022-01-28T15:32:57.438Z"
   },
   {
    "duration": 14,
    "start_time": "2022-01-28T15:32:57.451Z"
   },
   {
    "duration": 72,
    "start_time": "2022-01-28T15:32:57.467Z"
   },
   {
    "duration": 10,
    "start_time": "2022-01-28T15:32:57.541Z"
   },
   {
    "duration": 27,
    "start_time": "2022-01-28T15:32:57.555Z"
   },
   {
    "duration": 46,
    "start_time": "2022-01-28T15:32:57.589Z"
   },
   {
    "duration": 27,
    "start_time": "2022-01-28T15:32:57.639Z"
   },
   {
    "duration": 13,
    "start_time": "2022-01-28T15:32:57.669Z"
   },
   {
    "duration": 54,
    "start_time": "2022-01-28T15:32:57.686Z"
   },
   {
    "duration": 171,
    "start_time": "2022-01-28T15:32:57.742Z"
   },
   {
    "duration": 5,
    "start_time": "2022-01-28T15:32:57.916Z"
   },
   {
    "duration": 76,
    "start_time": "2022-01-28T15:32:57.933Z"
   },
   {
    "duration": 55,
    "start_time": "2022-01-28T15:32:58.012Z"
   },
   {
    "duration": 29,
    "start_time": "2022-01-28T15:32:58.069Z"
   },
   {
    "duration": 41,
    "start_time": "2022-01-28T15:32:58.101Z"
   },
   {
    "duration": 7,
    "start_time": "2022-01-28T15:32:58.145Z"
   },
   {
    "duration": 6,
    "start_time": "2022-01-28T15:32:58.155Z"
   },
   {
    "duration": 1169,
    "start_time": "2022-01-28T15:33:03.319Z"
   },
   {
    "duration": 4,
    "start_time": "2022-01-28T15:33:13.489Z"
   },
   {
    "duration": 18,
    "start_time": "2022-01-28T15:33:21.765Z"
   },
   {
    "duration": 26,
    "start_time": "2022-01-28T15:33:40.256Z"
   },
   {
    "duration": 726,
    "start_time": "2022-01-28T15:33:58.474Z"
   },
   {
    "duration": 531,
    "start_time": "2022-01-28T15:33:59.203Z"
   },
   {
    "duration": 26,
    "start_time": "2022-01-28T15:33:59.737Z"
   },
   {
    "duration": 10,
    "start_time": "2022-01-28T15:33:59.767Z"
   },
   {
    "duration": 55,
    "start_time": "2022-01-28T15:33:59.780Z"
   },
   {
    "duration": 30,
    "start_time": "2022-01-28T15:33:59.838Z"
   },
   {
    "duration": 11,
    "start_time": "2022-01-28T15:33:59.871Z"
   },
   {
    "duration": 66,
    "start_time": "2022-01-28T15:33:59.886Z"
   },
   {
    "duration": 11,
    "start_time": "2022-01-28T15:33:59.956Z"
   },
   {
    "duration": 62,
    "start_time": "2022-01-28T15:33:59.970Z"
   },
   {
    "duration": 11,
    "start_time": "2022-01-28T15:34:00.035Z"
   },
   {
    "duration": 22,
    "start_time": "2022-01-28T15:34:00.048Z"
   },
   {
    "duration": 190,
    "start_time": "2022-01-28T15:34:00.073Z"
   },
   {
    "duration": 7,
    "start_time": "2022-01-28T15:34:00.265Z"
   },
   {
    "duration": 109,
    "start_time": "2022-01-28T15:34:00.275Z"
   },
   {
    "duration": 49,
    "start_time": "2022-01-28T15:34:00.386Z"
   },
   {
    "duration": 42,
    "start_time": "2022-01-28T15:34:00.437Z"
   },
   {
    "duration": 12,
    "start_time": "2022-01-28T15:34:00.481Z"
   },
   {
    "duration": 43,
    "start_time": "2022-01-28T15:34:00.495Z"
   },
   {
    "duration": 18,
    "start_time": "2022-01-28T15:34:00.541Z"
   },
   {
    "duration": 61,
    "start_time": "2022-01-28T15:34:00.562Z"
   },
   {
    "duration": 38,
    "start_time": "2022-01-28T15:34:00.625Z"
   },
   {
    "duration": 4,
    "start_time": "2022-01-28T15:34:15.857Z"
   },
   {
    "duration": 11,
    "start_time": "2022-01-28T15:37:02.483Z"
   },
   {
    "duration": 398,
    "start_time": "2022-01-28T15:40:22.626Z"
   },
   {
    "duration": 28,
    "start_time": "2022-01-28T15:41:03.458Z"
   },
   {
    "duration": 754,
    "start_time": "2022-01-28T15:41:25.408Z"
   },
   {
    "duration": 533,
    "start_time": "2022-01-28T15:41:26.165Z"
   },
   {
    "duration": 25,
    "start_time": "2022-01-28T15:41:26.703Z"
   },
   {
    "duration": 13,
    "start_time": "2022-01-28T15:41:26.731Z"
   },
   {
    "duration": 11,
    "start_time": "2022-01-28T15:41:26.746Z"
   },
   {
    "duration": 28,
    "start_time": "2022-01-28T15:41:26.760Z"
   },
   {
    "duration": 46,
    "start_time": "2022-01-28T15:41:26.793Z"
   },
   {
    "duration": 21,
    "start_time": "2022-01-28T15:41:26.842Z"
   },
   {
    "duration": 12,
    "start_time": "2022-01-28T15:41:26.866Z"
   },
   {
    "duration": 62,
    "start_time": "2022-01-28T15:41:26.880Z"
   },
   {
    "duration": 12,
    "start_time": "2022-01-28T15:41:26.945Z"
   },
   {
    "duration": 10,
    "start_time": "2022-01-28T15:41:26.959Z"
   },
   {
    "duration": 217,
    "start_time": "2022-01-28T15:41:26.972Z"
   },
   {
    "duration": 7,
    "start_time": "2022-01-28T15:41:27.191Z"
   },
   {
    "duration": 102,
    "start_time": "2022-01-28T15:41:27.201Z"
   },
   {
    "duration": 51,
    "start_time": "2022-01-28T15:41:27.306Z"
   },
   {
    "duration": 38,
    "start_time": "2022-01-28T15:41:27.360Z"
   },
   {
    "duration": 37,
    "start_time": "2022-01-28T15:41:27.401Z"
   },
   {
    "duration": 25,
    "start_time": "2022-01-28T15:41:27.441Z"
   },
   {
    "duration": 12,
    "start_time": "2022-01-28T15:41:27.469Z"
   },
   {
    "duration": 6,
    "start_time": "2022-01-28T15:41:27.484Z"
   },
   {
    "duration": 18,
    "start_time": "2022-01-28T15:41:27.493Z"
   },
   {
    "duration": 395,
    "start_time": "2022-01-28T15:41:27.514Z"
   },
   {
    "duration": 31,
    "start_time": "2022-01-28T15:41:39.887Z"
   },
   {
    "duration": 12,
    "start_time": "2022-01-28T15:41:59.513Z"
   },
   {
    "duration": 13,
    "start_time": "2022-01-28T15:42:17.053Z"
   },
   {
    "duration": 18,
    "start_time": "2022-01-28T15:42:18.209Z"
   },
   {
    "duration": 301,
    "start_time": "2022-01-28T15:43:10.053Z"
   },
   {
    "duration": 289,
    "start_time": "2022-01-28T15:43:46.248Z"
   },
   {
    "duration": 278,
    "start_time": "2022-01-28T15:44:45.916Z"
   },
   {
    "duration": 4,
    "start_time": "2022-01-28T15:44:59.550Z"
   },
   {
    "duration": 23,
    "start_time": "2022-01-28T15:45:02.714Z"
   },
   {
    "duration": 800,
    "start_time": "2022-01-28T15:45:42.774Z"
   },
   {
    "duration": 514,
    "start_time": "2022-01-28T15:45:43.577Z"
   },
   {
    "duration": 27,
    "start_time": "2022-01-28T15:45:44.095Z"
   },
   {
    "duration": 10,
    "start_time": "2022-01-28T15:45:44.125Z"
   },
   {
    "duration": 17,
    "start_time": "2022-01-28T15:45:44.138Z"
   },
   {
    "duration": 31,
    "start_time": "2022-01-28T15:45:44.158Z"
   },
   {
    "duration": 47,
    "start_time": "2022-01-28T15:45:44.191Z"
   },
   {
    "duration": 28,
    "start_time": "2022-01-28T15:45:44.240Z"
   },
   {
    "duration": 18,
    "start_time": "2022-01-28T15:45:44.272Z"
   },
   {
    "duration": 50,
    "start_time": "2022-01-28T15:45:44.292Z"
   },
   {
    "duration": 12,
    "start_time": "2022-01-28T15:45:44.344Z"
   },
   {
    "duration": 11,
    "start_time": "2022-01-28T15:45:44.358Z"
   },
   {
    "duration": 191,
    "start_time": "2022-01-28T15:45:44.372Z"
   },
   {
    "duration": 9,
    "start_time": "2022-01-28T15:45:44.566Z"
   },
   {
    "duration": 141,
    "start_time": "2022-01-28T15:45:44.578Z"
   },
   {
    "duration": 54,
    "start_time": "2022-01-28T15:45:44.722Z"
   },
   {
    "duration": 66,
    "start_time": "2022-01-28T15:45:44.779Z"
   },
   {
    "duration": 12,
    "start_time": "2022-01-28T15:45:44.847Z"
   },
   {
    "duration": 19,
    "start_time": "2022-01-28T15:45:44.861Z"
   },
   {
    "duration": 16,
    "start_time": "2022-01-28T15:45:44.882Z"
   },
   {
    "duration": 8,
    "start_time": "2022-01-28T15:45:44.900Z"
   },
   {
    "duration": 33,
    "start_time": "2022-01-28T15:45:44.910Z"
   },
   {
    "duration": 12,
    "start_time": "2022-01-28T15:45:44.945Z"
   },
   {
    "duration": 5,
    "start_time": "2022-01-28T15:45:44.959Z"
   },
   {
    "duration": 25,
    "start_time": "2022-01-28T15:53:27.156Z"
   },
   {
    "duration": 6,
    "start_time": "2022-01-28T16:00:43.698Z"
   },
   {
    "duration": 25,
    "start_time": "2022-01-28T16:00:46.663Z"
   },
   {
    "duration": 5,
    "start_time": "2022-01-28T16:01:52.262Z"
   },
   {
    "duration": 29,
    "start_time": "2022-01-28T16:01:52.751Z"
   },
   {
    "duration": 816,
    "start_time": "2022-01-28T16:02:03.763Z"
   },
   {
    "duration": 546,
    "start_time": "2022-01-28T16:02:04.583Z"
   },
   {
    "duration": 27,
    "start_time": "2022-01-28T16:02:05.132Z"
   },
   {
    "duration": 13,
    "start_time": "2022-01-28T16:02:05.163Z"
   },
   {
    "duration": 55,
    "start_time": "2022-01-28T16:02:05.179Z"
   },
   {
    "duration": 33,
    "start_time": "2022-01-28T16:02:05.237Z"
   },
   {
    "duration": 13,
    "start_time": "2022-01-28T16:02:05.273Z"
   },
   {
    "duration": 21,
    "start_time": "2022-01-28T16:02:05.332Z"
   },
   {
    "duration": 12,
    "start_time": "2022-01-28T16:02:05.357Z"
   },
   {
    "duration": 67,
    "start_time": "2022-01-28T16:02:05.372Z"
   },
   {
    "duration": 11,
    "start_time": "2022-01-28T16:02:05.442Z"
   },
   {
    "duration": 10,
    "start_time": "2022-01-28T16:02:05.456Z"
   },
   {
    "duration": 202,
    "start_time": "2022-01-28T16:02:05.468Z"
   },
   {
    "duration": 7,
    "start_time": "2022-01-28T16:02:05.673Z"
   },
   {
    "duration": 109,
    "start_time": "2022-01-28T16:02:05.682Z"
   },
   {
    "duration": 54,
    "start_time": "2022-01-28T16:02:05.793Z"
   },
   {
    "duration": 34,
    "start_time": "2022-01-28T16:02:05.849Z"
   },
   {
    "duration": 12,
    "start_time": "2022-01-28T16:02:05.885Z"
   },
   {
    "duration": 33,
    "start_time": "2022-01-28T16:02:05.899Z"
   },
   {
    "duration": 9,
    "start_time": "2022-01-28T16:02:05.935Z"
   },
   {
    "duration": 7,
    "start_time": "2022-01-28T16:02:05.946Z"
   },
   {
    "duration": 16,
    "start_time": "2022-01-28T16:02:05.956Z"
   },
   {
    "duration": 58,
    "start_time": "2022-01-28T16:02:05.976Z"
   },
   {
    "duration": 5,
    "start_time": "2022-01-28T16:02:06.036Z"
   },
   {
    "duration": 11,
    "start_time": "2022-01-28T16:02:06.043Z"
   },
   {
    "duration": 29,
    "start_time": "2022-01-28T16:02:06.056Z"
   },
   {
    "duration": 31,
    "start_time": "2022-01-28T16:04:56.682Z"
   },
   {
    "duration": 28,
    "start_time": "2022-01-28T16:11:40.270Z"
   },
   {
    "duration": 26,
    "start_time": "2022-01-28T16:11:47.093Z"
   },
   {
    "duration": 25,
    "start_time": "2022-01-28T16:12:29.860Z"
   },
   {
    "duration": 10,
    "start_time": "2022-01-28T16:13:12.532Z"
   },
   {
    "duration": 8,
    "start_time": "2022-01-28T16:13:35.772Z"
   },
   {
    "duration": 25,
    "start_time": "2022-01-28T16:13:39.997Z"
   },
   {
    "duration": 25,
    "start_time": "2022-01-28T16:13:47.239Z"
   },
   {
    "duration": 11,
    "start_time": "2022-01-28T16:13:54.624Z"
   },
   {
    "duration": 24,
    "start_time": "2022-01-28T16:13:57.524Z"
   },
   {
    "duration": 10,
    "start_time": "2022-01-28T16:14:07.669Z"
   },
   {
    "duration": 26,
    "start_time": "2022-01-28T16:14:17.473Z"
   },
   {
    "duration": 15,
    "start_time": "2022-01-28T16:14:33.029Z"
   },
   {
    "duration": 8,
    "start_time": "2022-01-28T16:15:49.437Z"
   },
   {
    "duration": 18,
    "start_time": "2022-01-28T16:15:51.402Z"
   },
   {
    "duration": 24,
    "start_time": "2022-01-28T16:15:57.868Z"
   },
   {
    "duration": 18,
    "start_time": "2022-01-28T16:18:55.555Z"
   },
   {
    "duration": 14,
    "start_time": "2022-01-28T16:19:12.026Z"
   },
   {
    "duration": 4,
    "start_time": "2022-01-28T16:20:49.649Z"
   },
   {
    "duration": 14,
    "start_time": "2022-01-28T16:20:55.248Z"
   },
   {
    "duration": 11,
    "start_time": "2022-01-28T16:22:53.930Z"
   },
   {
    "duration": 17,
    "start_time": "2022-01-28T16:22:56.733Z"
   },
   {
    "duration": 397,
    "start_time": "2022-01-28T16:23:25.956Z"
   },
   {
    "duration": 11,
    "start_time": "2022-01-28T16:23:29.650Z"
   },
   {
    "duration": 10,
    "start_time": "2022-01-28T16:23:50.936Z"
   },
   {
    "duration": 61,
    "start_time": "2022-01-28T16:23:54.115Z"
   },
   {
    "duration": 4,
    "start_time": "2022-01-28T16:24:25.018Z"
   },
   {
    "duration": 21,
    "start_time": "2022-01-28T16:24:37.289Z"
   },
   {
    "duration": 7451,
    "start_time": "2022-01-28T16:26:02.886Z"
   },
   {
    "duration": 1003,
    "start_time": "2022-01-28T16:26:23.708Z"
   },
   {
    "duration": 732,
    "start_time": "2022-01-28T16:26:24.715Z"
   },
   {
    "duration": 32,
    "start_time": "2022-01-28T16:26:25.452Z"
   },
   {
    "duration": 11,
    "start_time": "2022-01-28T16:26:25.486Z"
   },
   {
    "duration": 41,
    "start_time": "2022-01-28T16:26:25.500Z"
   },
   {
    "duration": 27,
    "start_time": "2022-01-28T16:26:25.544Z"
   },
   {
    "duration": 11,
    "start_time": "2022-01-28T16:26:25.574Z"
   },
   {
    "duration": 74,
    "start_time": "2022-01-28T16:26:25.589Z"
   },
   {
    "duration": 17,
    "start_time": "2022-01-28T16:26:25.666Z"
   },
   {
    "duration": 77,
    "start_time": "2022-01-28T16:26:25.686Z"
   },
   {
    "duration": 12,
    "start_time": "2022-01-28T16:26:25.766Z"
   },
   {
    "duration": 50,
    "start_time": "2022-01-28T16:26:25.782Z"
   },
   {
    "duration": 196,
    "start_time": "2022-01-28T16:26:25.836Z"
   },
   {
    "duration": 9,
    "start_time": "2022-01-28T16:26:26.036Z"
   },
   {
    "duration": 125,
    "start_time": "2022-01-28T16:26:26.048Z"
   },
   {
    "duration": 33,
    "start_time": "2022-01-28T16:26:26.175Z"
   },
   {
    "duration": 51,
    "start_time": "2022-01-28T16:26:26.210Z"
   },
   {
    "duration": 11,
    "start_time": "2022-01-28T16:26:26.263Z"
   },
   {
    "duration": 8,
    "start_time": "2022-01-28T16:26:26.277Z"
   },
   {
    "duration": 5,
    "start_time": "2022-01-28T16:26:26.287Z"
   },
   {
    "duration": 16,
    "start_time": "2022-01-28T16:26:26.333Z"
   },
   {
    "duration": 14,
    "start_time": "2022-01-28T16:26:26.355Z"
   },
   {
    "duration": 5,
    "start_time": "2022-01-28T16:26:26.372Z"
   },
   {
    "duration": 7,
    "start_time": "2022-01-28T16:26:26.380Z"
   },
   {
    "duration": 10,
    "start_time": "2022-01-28T16:26:26.433Z"
   },
   {
    "duration": 27,
    "start_time": "2022-01-28T16:26:26.446Z"
   },
   {
    "duration": 5,
    "start_time": "2022-01-28T16:26:26.476Z"
   },
   {
    "duration": 6,
    "start_time": "2022-01-28T16:26:26.483Z"
   },
   {
    "duration": 49,
    "start_time": "2022-01-28T16:26:26.491Z"
   },
   {
    "duration": 10,
    "start_time": "2022-01-28T16:26:26.542Z"
   },
   {
    "duration": 6,
    "start_time": "2022-01-28T16:26:26.555Z"
   },
   {
    "duration": 12,
    "start_time": "2022-01-28T16:26:26.564Z"
   },
   {
    "duration": 27,
    "start_time": "2022-01-28T16:26:29.992Z"
   },
   {
    "duration": 8,
    "start_time": "2022-01-28T16:27:48.669Z"
   },
   {
    "duration": 18,
    "start_time": "2022-01-28T16:27:53.295Z"
   },
   {
    "duration": 10,
    "start_time": "2022-01-28T16:31:36.543Z"
   },
   {
    "duration": 766,
    "start_time": "2022-01-28T16:33:55.213Z"
   },
   {
    "duration": 558,
    "start_time": "2022-01-28T16:33:55.982Z"
   },
   {
    "duration": 25,
    "start_time": "2022-01-28T16:33:56.542Z"
   },
   {
    "duration": 9,
    "start_time": "2022-01-28T16:33:56.570Z"
   },
   {
    "duration": 12,
    "start_time": "2022-01-28T16:33:56.581Z"
   },
   {
    "duration": 62,
    "start_time": "2022-01-28T16:33:56.595Z"
   },
   {
    "duration": 11,
    "start_time": "2022-01-28T16:33:56.659Z"
   },
   {
    "duration": 22,
    "start_time": "2022-01-28T16:33:56.674Z"
   },
   {
    "duration": 13,
    "start_time": "2022-01-28T16:33:56.734Z"
   },
   {
    "duration": 32,
    "start_time": "2022-01-28T16:33:56.750Z"
   },
   {
    "duration": 48,
    "start_time": "2022-01-28T16:33:56.786Z"
   },
   {
    "duration": 15,
    "start_time": "2022-01-28T16:33:56.837Z"
   },
   {
    "duration": 206,
    "start_time": "2022-01-28T16:33:56.854Z"
   },
   {
    "duration": 7,
    "start_time": "2022-01-28T16:33:57.063Z"
   },
   {
    "duration": 148,
    "start_time": "2022-01-28T16:33:57.073Z"
   },
   {
    "duration": 46,
    "start_time": "2022-01-28T16:33:57.224Z"
   },
   {
    "duration": 73,
    "start_time": "2022-01-28T16:33:57.273Z"
   },
   {
    "duration": 13,
    "start_time": "2022-01-28T16:33:57.348Z"
   },
   {
    "duration": 11,
    "start_time": "2022-01-28T16:33:57.364Z"
   },
   {
    "duration": 9,
    "start_time": "2022-01-28T16:33:57.378Z"
   },
   {
    "duration": 57,
    "start_time": "2022-01-28T16:33:57.390Z"
   },
   {
    "duration": 12,
    "start_time": "2022-01-28T16:33:57.450Z"
   },
   {
    "duration": 4,
    "start_time": "2022-01-28T16:33:57.470Z"
   },
   {
    "duration": 17,
    "start_time": "2022-01-28T16:33:57.476Z"
   },
   {
    "duration": 39,
    "start_time": "2022-01-28T16:33:57.495Z"
   },
   {
    "duration": 6,
    "start_time": "2022-01-28T16:33:57.537Z"
   },
   {
    "duration": 16,
    "start_time": "2022-01-28T16:33:57.545Z"
   },
   {
    "duration": 15,
    "start_time": "2022-01-28T16:33:57.564Z"
   },
   {
    "duration": 14,
    "start_time": "2022-01-28T16:33:57.581Z"
   },
   {
    "duration": 16,
    "start_time": "2022-01-28T16:33:57.598Z"
   },
   {
    "duration": 16,
    "start_time": "2022-01-28T16:33:57.616Z"
   },
   {
    "duration": 12,
    "start_time": "2022-01-28T16:33:57.635Z"
   },
   {
    "duration": 14,
    "start_time": "2022-01-28T16:33:57.649Z"
   },
   {
    "duration": 13,
    "start_time": "2022-01-28T16:33:57.665Z"
   },
   {
    "duration": 13,
    "start_time": "2022-01-28T16:33:57.680Z"
   },
   {
    "duration": 41,
    "start_time": "2022-01-28T16:33:57.695Z"
   },
   {
    "duration": 12,
    "start_time": "2022-01-28T16:33:57.739Z"
   },
   {
    "duration": 5,
    "start_time": "2022-01-28T16:33:57.754Z"
   },
   {
    "duration": 7,
    "start_time": "2022-01-28T16:33:57.762Z"
   },
   {
    "duration": 60,
    "start_time": "2022-01-28T16:33:57.772Z"
   },
   {
    "duration": 22,
    "start_time": "2022-01-28T16:33:57.835Z"
   },
   {
    "duration": 4,
    "start_time": "2022-01-28T16:34:21.855Z"
   },
   {
    "duration": 532,
    "start_time": "2022-01-28T16:34:21.862Z"
   },
   {
    "duration": 14,
    "start_time": "2022-01-28T16:34:22.397Z"
   },
   {
    "duration": 16,
    "start_time": "2022-01-28T16:34:22.414Z"
   },
   {
    "duration": 16,
    "start_time": "2022-01-28T16:34:22.433Z"
   },
   {
    "duration": 29,
    "start_time": "2022-01-28T16:34:22.451Z"
   },
   {
    "duration": 9,
    "start_time": "2022-01-28T16:34:22.482Z"
   },
   {
    "duration": 50,
    "start_time": "2022-01-28T16:34:22.494Z"
   },
   {
    "duration": 11,
    "start_time": "2022-01-28T16:34:22.548Z"
   },
   {
    "duration": 22,
    "start_time": "2022-01-28T16:34:22.562Z"
   },
   {
    "duration": 52,
    "start_time": "2022-01-28T16:34:22.586Z"
   },
   {
    "duration": 12,
    "start_time": "2022-01-28T16:34:22.641Z"
   },
   {
    "duration": 182,
    "start_time": "2022-01-28T16:34:22.655Z"
   },
   {
    "duration": 5,
    "start_time": "2022-01-28T16:34:22.840Z"
   },
   {
    "duration": 96,
    "start_time": "2022-01-28T16:34:22.848Z"
   },
   {
    "duration": 37,
    "start_time": "2022-01-28T16:34:22.947Z"
   },
   {
    "duration": 63,
    "start_time": "2022-01-28T16:34:22.987Z"
   },
   {
    "duration": 12,
    "start_time": "2022-01-28T16:34:23.053Z"
   },
   {
    "duration": 15,
    "start_time": "2022-01-28T16:34:23.067Z"
   },
   {
    "duration": 10,
    "start_time": "2022-01-28T16:34:23.085Z"
   },
   {
    "duration": 42,
    "start_time": "2022-01-28T16:34:23.097Z"
   },
   {
    "duration": 11,
    "start_time": "2022-01-28T16:34:23.142Z"
   },
   {
    "duration": 4,
    "start_time": "2022-01-28T16:34:23.156Z"
   },
   {
    "duration": 8,
    "start_time": "2022-01-28T16:34:23.162Z"
   },
   {
    "duration": 9,
    "start_time": "2022-01-28T16:34:23.172Z"
   },
   {
    "duration": 53,
    "start_time": "2022-01-28T16:34:23.183Z"
   },
   {
    "duration": 4,
    "start_time": "2022-01-28T16:34:23.240Z"
   },
   {
    "duration": 13,
    "start_time": "2022-01-28T16:34:23.246Z"
   },
   {
    "duration": 9,
    "start_time": "2022-01-28T16:34:23.261Z"
   },
   {
    "duration": 3,
    "start_time": "2022-01-28T16:34:23.273Z"
   },
   {
    "duration": 54,
    "start_time": "2022-01-28T16:34:23.279Z"
   },
   {
    "duration": 10,
    "start_time": "2022-01-28T16:34:23.335Z"
   },
   {
    "duration": 7,
    "start_time": "2022-01-28T16:34:23.347Z"
   },
   {
    "duration": 6,
    "start_time": "2022-01-28T16:34:23.356Z"
   },
   {
    "duration": 13,
    "start_time": "2022-01-28T16:34:23.364Z"
   },
   {
    "duration": 9,
    "start_time": "2022-01-28T16:34:23.380Z"
   },
   {
    "duration": 13,
    "start_time": "2022-01-28T16:34:26.822Z"
   },
   {
    "duration": 4,
    "start_time": "2022-01-28T16:34:27.238Z"
   },
   {
    "duration": 28,
    "start_time": "2022-01-28T16:34:33.082Z"
   },
   {
    "duration": 4,
    "start_time": "2022-01-28T16:35:56.246Z"
   },
   {
    "duration": 544,
    "start_time": "2022-01-28T16:35:56.252Z"
   },
   {
    "duration": 15,
    "start_time": "2022-01-28T16:35:56.799Z"
   },
   {
    "duration": 10,
    "start_time": "2022-01-28T16:35:56.816Z"
   },
   {
    "duration": 15,
    "start_time": "2022-01-28T16:35:56.829Z"
   },
   {
    "duration": 29,
    "start_time": "2022-01-28T16:35:56.846Z"
   },
   {
    "duration": 10,
    "start_time": "2022-01-28T16:35:56.877Z"
   },
   {
    "duration": 51,
    "start_time": "2022-01-28T16:35:56.891Z"
   },
   {
    "duration": 12,
    "start_time": "2022-01-28T16:35:56.945Z"
   },
   {
    "duration": 24,
    "start_time": "2022-01-28T16:35:56.960Z"
   },
   {
    "duration": 60,
    "start_time": "2022-01-28T16:35:56.986Z"
   },
   {
    "duration": 10,
    "start_time": "2022-01-28T16:35:57.049Z"
   },
   {
    "duration": 188,
    "start_time": "2022-01-28T16:35:57.061Z"
   },
   {
    "duration": 5,
    "start_time": "2022-01-28T16:35:57.251Z"
   },
   {
    "duration": 105,
    "start_time": "2022-01-28T16:35:57.259Z"
   },
   {
    "duration": 36,
    "start_time": "2022-01-28T16:35:57.366Z"
   },
   {
    "duration": 57,
    "start_time": "2022-01-28T16:35:57.404Z"
   },
   {
    "duration": 12,
    "start_time": "2022-01-28T16:35:57.463Z"
   },
   {
    "duration": 11,
    "start_time": "2022-01-28T16:35:57.478Z"
   },
   {
    "duration": 42,
    "start_time": "2022-01-28T16:35:57.492Z"
   },
   {
    "duration": 16,
    "start_time": "2022-01-28T16:35:57.537Z"
   },
   {
    "duration": 12,
    "start_time": "2022-01-28T16:35:57.556Z"
   },
   {
    "duration": 4,
    "start_time": "2022-01-28T16:35:57.575Z"
   },
   {
    "duration": 55,
    "start_time": "2022-01-28T16:35:57.582Z"
   },
   {
    "duration": 10,
    "start_time": "2022-01-28T16:35:57.640Z"
   },
   {
    "duration": 8,
    "start_time": "2022-01-28T16:35:57.653Z"
   },
   {
    "duration": 4,
    "start_time": "2022-01-28T16:35:57.664Z"
   },
   {
    "duration": 67,
    "start_time": "2022-01-28T16:35:57.671Z"
   },
   {
    "duration": 13,
    "start_time": "2022-01-28T16:35:57.740Z"
   },
   {
    "duration": 9,
    "start_time": "2022-01-28T16:35:57.756Z"
   },
   {
    "duration": 10,
    "start_time": "2022-01-28T16:35:57.768Z"
   },
   {
    "duration": 53,
    "start_time": "2022-01-28T16:35:57.781Z"
   },
   {
    "duration": 8,
    "start_time": "2022-01-28T16:35:57.837Z"
   },
   {
    "duration": 4,
    "start_time": "2022-01-28T16:35:57.848Z"
   },
   {
    "duration": 15,
    "start_time": "2022-01-28T16:35:57.855Z"
   },
   {
    "duration": 63,
    "start_time": "2022-01-28T16:35:57.873Z"
   },
   {
    "duration": 5,
    "start_time": "2022-01-28T16:35:57.938Z"
   },
   {
    "duration": 22,
    "start_time": "2022-01-28T16:36:00.746Z"
   },
   {
    "duration": 24,
    "start_time": "2022-01-28T16:38:17.581Z"
   },
   {
    "duration": 713,
    "start_time": "2022-01-28T16:39:47.847Z"
   },
   {
    "duration": 509,
    "start_time": "2022-01-28T16:39:48.563Z"
   },
   {
    "duration": 24,
    "start_time": "2022-01-28T16:39:49.077Z"
   },
   {
    "duration": 11,
    "start_time": "2022-01-28T16:39:49.103Z"
   },
   {
    "duration": 22,
    "start_time": "2022-01-28T16:39:49.116Z"
   },
   {
    "duration": 27,
    "start_time": "2022-01-28T16:39:49.140Z"
   },
   {
    "duration": 10,
    "start_time": "2022-01-28T16:39:49.170Z"
   },
   {
    "duration": 56,
    "start_time": "2022-01-28T16:39:49.183Z"
   },
   {
    "duration": 10,
    "start_time": "2022-01-28T16:39:49.242Z"
   },
   {
    "duration": 22,
    "start_time": "2022-01-28T16:39:49.255Z"
   },
   {
    "duration": 11,
    "start_time": "2022-01-28T16:39:49.280Z"
   },
   {
    "duration": 9,
    "start_time": "2022-01-28T16:39:49.332Z"
   },
   {
    "duration": 182,
    "start_time": "2022-01-28T16:39:49.343Z"
   },
   {
    "duration": 7,
    "start_time": "2022-01-28T16:39:49.528Z"
   },
   {
    "duration": 120,
    "start_time": "2022-01-28T16:39:49.537Z"
   },
   {
    "duration": 35,
    "start_time": "2022-01-28T16:39:49.659Z"
   },
   {
    "duration": 60,
    "start_time": "2022-01-28T16:39:49.696Z"
   },
   {
    "duration": 11,
    "start_time": "2022-01-28T16:39:49.759Z"
   },
   {
    "duration": 8,
    "start_time": "2022-01-28T16:39:49.773Z"
   },
   {
    "duration": 4,
    "start_time": "2022-01-28T16:39:49.783Z"
   },
   {
    "duration": 14,
    "start_time": "2022-01-28T16:39:49.789Z"
   },
   {
    "duration": 11,
    "start_time": "2022-01-28T16:39:49.807Z"
   },
   {
    "duration": 4,
    "start_time": "2022-01-28T16:39:49.820Z"
   },
   {
    "duration": 8,
    "start_time": "2022-01-28T16:39:49.826Z"
   },
   {
    "duration": 11,
    "start_time": "2022-01-28T16:39:49.836Z"
   },
   {
    "duration": 7,
    "start_time": "2022-01-28T16:39:49.849Z"
   },
   {
    "duration": 6,
    "start_time": "2022-01-28T16:39:49.858Z"
   },
   {
    "duration": 15,
    "start_time": "2022-01-28T16:39:49.866Z"
   },
   {
    "duration": 8,
    "start_time": "2022-01-28T16:39:49.884Z"
   },
   {
    "duration": 5,
    "start_time": "2022-01-28T16:39:49.894Z"
   },
   {
    "duration": 6,
    "start_time": "2022-01-28T16:39:49.901Z"
   },
   {
    "duration": 9,
    "start_time": "2022-01-28T16:39:49.910Z"
   },
   {
    "duration": 7,
    "start_time": "2022-01-28T16:39:49.921Z"
   },
   {
    "duration": 5,
    "start_time": "2022-01-28T16:39:49.930Z"
   },
   {
    "duration": 12,
    "start_time": "2022-01-28T16:39:49.937Z"
   },
   {
    "duration": 10,
    "start_time": "2022-01-28T16:39:49.952Z"
   },
   {
    "duration": 5,
    "start_time": "2022-01-28T16:39:49.964Z"
   },
   {
    "duration": 22,
    "start_time": "2022-01-28T16:39:49.971Z"
   },
   {
    "duration": 6,
    "start_time": "2022-01-28T16:39:49.995Z"
   },
   {
    "duration": 12,
    "start_time": "2022-01-28T16:39:50.004Z"
   },
   {
    "duration": 29,
    "start_time": "2022-01-28T16:39:50.018Z"
   },
   {
    "duration": 709,
    "start_time": "2022-01-28T16:41:40.061Z"
   },
   {
    "duration": 527,
    "start_time": "2022-01-28T16:41:40.773Z"
   },
   {
    "duration": 25,
    "start_time": "2022-01-28T16:41:41.303Z"
   },
   {
    "duration": 10,
    "start_time": "2022-01-28T16:41:41.330Z"
   },
   {
    "duration": 12,
    "start_time": "2022-01-28T16:41:41.342Z"
   },
   {
    "duration": 32,
    "start_time": "2022-01-28T16:41:41.357Z"
   },
   {
    "duration": 9,
    "start_time": "2022-01-28T16:41:41.391Z"
   },
   {
    "duration": 19,
    "start_time": "2022-01-28T16:41:41.434Z"
   },
   {
    "duration": 11,
    "start_time": "2022-01-28T16:41:41.456Z"
   },
   {
    "duration": 70,
    "start_time": "2022-01-28T16:41:41.469Z"
   },
   {
    "duration": 16,
    "start_time": "2022-01-28T16:41:41.541Z"
   },
   {
    "duration": 9,
    "start_time": "2022-01-28T16:41:41.559Z"
   },
   {
    "duration": 183,
    "start_time": "2022-01-28T16:41:41.570Z"
   },
   {
    "duration": 7,
    "start_time": "2022-01-28T16:41:41.756Z"
   },
   {
    "duration": 113,
    "start_time": "2022-01-28T16:41:41.765Z"
   },
   {
    "duration": 56,
    "start_time": "2022-01-28T16:41:41.880Z"
   },
   {
    "duration": 33,
    "start_time": "2022-01-28T16:41:41.938Z"
   },
   {
    "duration": 14,
    "start_time": "2022-01-28T16:41:41.973Z"
   },
   {
    "duration": 10,
    "start_time": "2022-01-28T16:41:41.990Z"
   },
   {
    "duration": 5,
    "start_time": "2022-01-28T16:41:42.033Z"
   },
   {
    "duration": 17,
    "start_time": "2022-01-28T16:41:42.040Z"
   },
   {
    "duration": 20,
    "start_time": "2022-01-28T16:41:42.060Z"
   },
   {
    "duration": 4,
    "start_time": "2022-01-28T16:41:42.088Z"
   },
   {
    "duration": 38,
    "start_time": "2022-01-28T16:41:42.096Z"
   },
   {
    "duration": 9,
    "start_time": "2022-01-28T16:41:42.138Z"
   },
   {
    "duration": 6,
    "start_time": "2022-01-28T16:41:42.150Z"
   },
   {
    "duration": 5,
    "start_time": "2022-01-28T16:41:42.158Z"
   },
   {
    "duration": 12,
    "start_time": "2022-01-28T16:41:42.165Z"
   },
   {
    "duration": 58,
    "start_time": "2022-01-28T16:41:42.179Z"
   },
   {
    "duration": 6,
    "start_time": "2022-01-28T16:41:42.239Z"
   },
   {
    "duration": 9,
    "start_time": "2022-01-28T16:41:42.247Z"
   },
   {
    "duration": 11,
    "start_time": "2022-01-28T16:41:42.258Z"
   },
   {
    "duration": 10,
    "start_time": "2022-01-28T16:41:42.272Z"
   },
   {
    "duration": 4,
    "start_time": "2022-01-28T16:41:42.285Z"
   },
   {
    "duration": 11,
    "start_time": "2022-01-28T16:41:42.333Z"
   },
   {
    "duration": 17,
    "start_time": "2022-01-28T16:41:42.346Z"
   },
   {
    "duration": 8,
    "start_time": "2022-01-28T16:41:42.365Z"
   },
   {
    "duration": 31,
    "start_time": "2022-01-28T16:41:42.375Z"
   },
   {
    "duration": 27,
    "start_time": "2022-01-28T16:41:42.408Z"
   },
   {
    "duration": 20,
    "start_time": "2022-01-28T16:41:42.437Z"
   },
   {
    "duration": 27,
    "start_time": "2022-01-28T16:41:42.460Z"
   },
   {
    "duration": 416,
    "start_time": "2022-01-29T11:56:54.636Z"
   },
   {
    "duration": 722,
    "start_time": "2022-01-29T11:57:06.965Z"
   },
   {
    "duration": 534,
    "start_time": "2022-01-29T11:57:07.690Z"
   },
   {
    "duration": 30,
    "start_time": "2022-01-29T11:57:08.227Z"
   },
   {
    "duration": 13,
    "start_time": "2022-01-29T11:57:08.262Z"
   },
   {
    "duration": 55,
    "start_time": "2022-01-29T11:57:08.278Z"
   },
   {
    "duration": 32,
    "start_time": "2022-01-29T11:57:08.336Z"
   },
   {
    "duration": 11,
    "start_time": "2022-01-29T11:57:08.370Z"
   },
   {
    "duration": 61,
    "start_time": "2022-01-29T11:57:08.386Z"
   },
   {
    "duration": 10,
    "start_time": "2022-01-29T11:57:08.450Z"
   },
   {
    "duration": 22,
    "start_time": "2022-01-29T11:57:08.463Z"
   },
   {
    "duration": 54,
    "start_time": "2022-01-29T11:57:08.487Z"
   },
   {
    "duration": 10,
    "start_time": "2022-01-29T11:57:08.543Z"
   },
   {
    "duration": 183,
    "start_time": "2022-01-29T11:57:08.555Z"
   },
   {
    "duration": 6,
    "start_time": "2022-01-29T11:57:08.740Z"
   },
   {
    "duration": 111,
    "start_time": "2022-01-29T11:57:08.749Z"
   },
   {
    "duration": 33,
    "start_time": "2022-01-29T11:57:08.862Z"
   },
   {
    "duration": 54,
    "start_time": "2022-01-29T11:57:08.897Z"
   },
   {
    "duration": 12,
    "start_time": "2022-01-29T11:57:08.954Z"
   },
   {
    "duration": 11,
    "start_time": "2022-01-29T11:57:08.969Z"
   },
   {
    "duration": 45,
    "start_time": "2022-01-29T11:57:08.983Z"
   },
   {
    "duration": 17,
    "start_time": "2022-01-29T11:57:09.030Z"
   },
   {
    "duration": 10,
    "start_time": "2022-01-29T11:57:09.049Z"
   },
   {
    "duration": 5,
    "start_time": "2022-01-29T11:57:09.064Z"
   },
   {
    "duration": 8,
    "start_time": "2022-01-29T11:57:09.071Z"
   },
   {
    "duration": 56,
    "start_time": "2022-01-29T11:57:09.081Z"
   },
   {
    "duration": 8,
    "start_time": "2022-01-29T11:57:09.140Z"
   },
   {
    "duration": 4,
    "start_time": "2022-01-29T11:57:09.151Z"
   },
   {
    "duration": 13,
    "start_time": "2022-01-29T11:57:09.157Z"
   },
   {
    "duration": 9,
    "start_time": "2022-01-29T11:57:09.173Z"
   },
   {
    "duration": 12,
    "start_time": "2022-01-29T11:57:09.223Z"
   },
   {
    "duration": 8,
    "start_time": "2022-01-29T11:57:09.238Z"
   },
   {
    "duration": 9,
    "start_time": "2022-01-29T11:57:09.248Z"
   },
   {
    "duration": 7,
    "start_time": "2022-01-29T11:57:09.260Z"
   },
   {
    "duration": 7,
    "start_time": "2022-01-29T11:57:09.269Z"
   },
   {
    "duration": 63,
    "start_time": "2022-01-29T11:57:09.279Z"
   },
   {
    "duration": 12,
    "start_time": "2022-01-29T11:57:09.344Z"
   },
   {
    "duration": 8,
    "start_time": "2022-01-29T11:57:09.358Z"
   },
   {
    "duration": 9,
    "start_time": "2022-01-29T11:57:09.368Z"
   },
   {
    "duration": 12,
    "start_time": "2022-01-29T11:57:09.379Z"
   },
   {
    "duration": 86,
    "start_time": "2022-01-29T11:57:09.393Z"
   },
   {
    "duration": 32,
    "start_time": "2022-01-29T11:57:30.477Z"
   },
   {
    "duration": 40,
    "start_time": "2022-01-29T11:58:36.838Z"
   },
   {
    "duration": 444,
    "start_time": "2022-02-06T14:45:22.088Z"
   },
   {
    "duration": 867,
    "start_time": "2022-02-06T14:45:36.759Z"
   },
   {
    "duration": 615,
    "start_time": "2022-02-06T14:45:37.630Z"
   },
   {
    "duration": 26,
    "start_time": "2022-02-06T14:45:38.248Z"
   },
   {
    "duration": 9,
    "start_time": "2022-02-06T14:45:38.276Z"
   },
   {
    "duration": 15,
    "start_time": "2022-02-06T14:45:38.287Z"
   },
   {
    "duration": 25,
    "start_time": "2022-02-06T14:45:38.304Z"
   },
   {
    "duration": 7,
    "start_time": "2022-02-06T14:45:38.331Z"
   },
   {
    "duration": 17,
    "start_time": "2022-02-06T14:45:38.340Z"
   },
   {
    "duration": 11,
    "start_time": "2022-02-06T14:45:38.360Z"
   },
   {
    "duration": 52,
    "start_time": "2022-02-06T14:45:38.373Z"
   },
   {
    "duration": 12,
    "start_time": "2022-02-06T14:45:38.428Z"
   },
   {
    "duration": 11,
    "start_time": "2022-02-06T14:45:38.443Z"
   },
   {
    "duration": 141,
    "start_time": "2022-02-06T14:45:38.456Z"
   },
   {
    "duration": 5,
    "start_time": "2022-02-06T14:45:38.599Z"
   },
   {
    "duration": 80,
    "start_time": "2022-02-06T14:45:38.606Z"
   },
   {
    "duration": 49,
    "start_time": "2022-02-06T14:45:38.688Z"
   },
   {
    "duration": 27,
    "start_time": "2022-02-06T14:45:38.740Z"
   },
   {
    "duration": 8,
    "start_time": "2022-02-06T14:45:38.769Z"
   },
   {
    "duration": 24,
    "start_time": "2022-02-06T14:45:38.779Z"
   },
   {
    "duration": 3,
    "start_time": "2022-02-06T14:45:38.818Z"
   },
   {
    "duration": 19,
    "start_time": "2022-02-06T14:45:38.823Z"
   },
   {
    "duration": 10,
    "start_time": "2022-02-06T14:45:38.844Z"
   },
   {
    "duration": 21,
    "start_time": "2022-02-06T14:45:38.858Z"
   },
   {
    "duration": 18,
    "start_time": "2022-02-06T14:45:38.881Z"
   },
   {
    "duration": 13,
    "start_time": "2022-02-06T14:45:38.901Z"
   },
   {
    "duration": 19,
    "start_time": "2022-02-06T14:45:38.915Z"
   },
   {
    "duration": 21,
    "start_time": "2022-02-06T14:45:38.936Z"
   },
   {
    "duration": 25,
    "start_time": "2022-02-06T14:45:38.960Z"
   },
   {
    "duration": 9,
    "start_time": "2022-02-06T14:45:38.987Z"
   },
   {
    "duration": 17,
    "start_time": "2022-02-06T14:45:38.998Z"
   },
   {
    "duration": 6,
    "start_time": "2022-02-06T14:45:39.017Z"
   },
   {
    "duration": 18,
    "start_time": "2022-02-06T14:45:39.024Z"
   },
   {
    "duration": 17,
    "start_time": "2022-02-06T14:45:39.043Z"
   },
   {
    "duration": 19,
    "start_time": "2022-02-06T14:45:39.061Z"
   },
   {
    "duration": 27,
    "start_time": "2022-02-06T14:45:39.082Z"
   },
   {
    "duration": 23,
    "start_time": "2022-02-06T14:45:39.111Z"
   },
   {
    "duration": 12,
    "start_time": "2022-02-06T14:45:39.137Z"
   },
   {
    "duration": 6,
    "start_time": "2022-02-06T14:45:39.152Z"
   },
   {
    "duration": 8,
    "start_time": "2022-02-06T14:45:39.159Z"
   },
   {
    "duration": 25,
    "start_time": "2022-02-06T14:45:39.168Z"
   },
   {
    "duration": 9,
    "start_time": "2022-02-06T14:55:14.039Z"
   },
   {
    "duration": 4,
    "start_time": "2022-02-06T14:56:34.672Z"
   },
   {
    "duration": 10,
    "start_time": "2022-02-06T14:56:37.182Z"
   },
   {
    "duration": 20,
    "start_time": "2022-02-06T14:56:42.717Z"
   },
   {
    "duration": 613,
    "start_time": "2022-02-06T14:59:24.462Z"
   },
   {
    "duration": 612,
    "start_time": "2022-02-06T14:59:25.077Z"
   },
   {
    "duration": 25,
    "start_time": "2022-02-06T14:59:25.691Z"
   },
   {
    "duration": 8,
    "start_time": "2022-02-06T14:59:25.718Z"
   },
   {
    "duration": 14,
    "start_time": "2022-02-06T14:59:25.728Z"
   },
   {
    "duration": 38,
    "start_time": "2022-02-06T14:59:25.744Z"
   },
   {
    "duration": 10,
    "start_time": "2022-02-06T14:59:25.784Z"
   },
   {
    "duration": 25,
    "start_time": "2022-02-06T14:59:25.820Z"
   },
   {
    "duration": 11,
    "start_time": "2022-02-06T14:59:25.848Z"
   },
   {
    "duration": 58,
    "start_time": "2022-02-06T14:59:25.860Z"
   },
   {
    "duration": 11,
    "start_time": "2022-02-06T14:59:25.921Z"
   },
   {
    "duration": 8,
    "start_time": "2022-02-06T14:59:25.934Z"
   },
   {
    "duration": 139,
    "start_time": "2022-02-06T14:59:25.944Z"
   },
   {
    "duration": 6,
    "start_time": "2022-02-06T14:59:26.084Z"
   },
   {
    "duration": 81,
    "start_time": "2022-02-06T14:59:26.092Z"
   },
   {
    "duration": 27,
    "start_time": "2022-02-06T14:59:26.174Z"
   },
   {
    "duration": 42,
    "start_time": "2022-02-06T14:59:26.202Z"
   },
   {
    "duration": 8,
    "start_time": "2022-02-06T14:59:26.246Z"
   },
   {
    "duration": 7,
    "start_time": "2022-02-06T14:59:26.256Z"
   },
   {
    "duration": 5,
    "start_time": "2022-02-06T14:59:26.264Z"
   },
   {
    "duration": 47,
    "start_time": "2022-02-06T14:59:26.272Z"
   },
   {
    "duration": 11,
    "start_time": "2022-02-06T14:59:26.320Z"
   },
   {
    "duration": 8,
    "start_time": "2022-02-06T14:59:26.336Z"
   },
   {
    "duration": 10,
    "start_time": "2022-02-06T14:59:26.347Z"
   },
   {
    "duration": 11,
    "start_time": "2022-02-06T14:59:26.359Z"
   },
   {
    "duration": 5,
    "start_time": "2022-02-06T14:59:26.372Z"
   },
   {
    "duration": 13,
    "start_time": "2022-02-06T14:59:26.379Z"
   },
   {
    "duration": 24,
    "start_time": "2022-02-06T14:59:26.394Z"
   },
   {
    "duration": 14,
    "start_time": "2022-02-06T14:59:26.421Z"
   },
   {
    "duration": 15,
    "start_time": "2022-02-06T14:59:26.438Z"
   },
   {
    "duration": 4,
    "start_time": "2022-02-06T14:59:26.455Z"
   },
   {
    "duration": 9,
    "start_time": "2022-02-06T14:59:26.461Z"
   },
   {
    "duration": 8,
    "start_time": "2022-02-06T14:59:26.472Z"
   },
   {
    "duration": 5,
    "start_time": "2022-02-06T14:59:26.482Z"
   },
   {
    "duration": 3,
    "start_time": "2022-02-06T14:59:26.518Z"
   },
   {
    "duration": 12,
    "start_time": "2022-02-06T14:59:26.523Z"
   },
   {
    "duration": 8,
    "start_time": "2022-02-06T14:59:26.536Z"
   },
   {
    "duration": 3,
    "start_time": "2022-02-06T14:59:26.546Z"
   },
   {
    "duration": 7,
    "start_time": "2022-02-06T14:59:26.551Z"
   },
   {
    "duration": 8,
    "start_time": "2022-02-06T14:59:26.560Z"
   },
   {
    "duration": 64,
    "start_time": "2022-02-06T14:59:26.570Z"
   },
   {
    "duration": 563,
    "start_time": "2022-02-06T15:00:37.952Z"
   },
   {
    "duration": 444,
    "start_time": "2022-02-06T15:00:38.519Z"
   },
   {
    "duration": 17,
    "start_time": "2022-02-06T15:00:38.965Z"
   },
   {
    "duration": 8,
    "start_time": "2022-02-06T15:00:38.984Z"
   },
   {
    "duration": 12,
    "start_time": "2022-02-06T15:00:38.994Z"
   },
   {
    "duration": 25,
    "start_time": "2022-02-06T15:00:39.007Z"
   },
   {
    "duration": 7,
    "start_time": "2022-02-06T15:00:39.034Z"
   },
   {
    "duration": 23,
    "start_time": "2022-02-06T15:00:39.043Z"
   },
   {
    "duration": 7,
    "start_time": "2022-02-06T15:00:39.070Z"
   },
   {
    "duration": 45,
    "start_time": "2022-02-06T15:00:39.079Z"
   },
   {
    "duration": 8,
    "start_time": "2022-02-06T15:00:39.126Z"
   },
   {
    "duration": 7,
    "start_time": "2022-02-06T15:00:39.136Z"
   },
   {
    "duration": 140,
    "start_time": "2022-02-06T15:00:39.145Z"
   },
   {
    "duration": 5,
    "start_time": "2022-02-06T15:00:39.287Z"
   },
   {
    "duration": 81,
    "start_time": "2022-02-06T15:00:39.294Z"
   },
   {
    "duration": 43,
    "start_time": "2022-02-06T15:00:39.377Z"
   },
   {
    "duration": 27,
    "start_time": "2022-02-06T15:00:39.421Z"
   },
   {
    "duration": 8,
    "start_time": "2022-02-06T15:00:39.450Z"
   },
   {
    "duration": 10,
    "start_time": "2022-02-06T15:00:39.460Z"
   },
   {
    "duration": 9,
    "start_time": "2022-02-06T15:00:39.472Z"
   },
   {
    "duration": 11,
    "start_time": "2022-02-06T15:00:39.482Z"
   },
   {
    "duration": 26,
    "start_time": "2022-02-06T15:00:39.494Z"
   },
   {
    "duration": 8,
    "start_time": "2022-02-06T15:00:39.522Z"
   },
   {
    "duration": 11,
    "start_time": "2022-02-06T15:00:39.532Z"
   },
   {
    "duration": 10,
    "start_time": "2022-02-06T15:00:39.544Z"
   },
   {
    "duration": 13,
    "start_time": "2022-02-06T15:00:39.556Z"
   },
   {
    "duration": 5,
    "start_time": "2022-02-06T15:00:39.572Z"
   },
   {
    "duration": 4,
    "start_time": "2022-02-06T15:00:39.579Z"
   },
   {
    "duration": 37,
    "start_time": "2022-02-06T15:00:39.584Z"
   },
   {
    "duration": 6,
    "start_time": "2022-02-06T15:00:39.623Z"
   },
   {
    "duration": 11,
    "start_time": "2022-02-06T15:00:39.631Z"
   },
   {
    "duration": 7,
    "start_time": "2022-02-06T15:00:39.644Z"
   },
   {
    "duration": 10,
    "start_time": "2022-02-06T15:00:39.653Z"
   },
   {
    "duration": 15,
    "start_time": "2022-02-06T15:00:39.664Z"
   },
   {
    "duration": 7,
    "start_time": "2022-02-06T15:00:39.682Z"
   },
   {
    "duration": 3,
    "start_time": "2022-02-06T15:00:39.691Z"
   },
   {
    "duration": 28,
    "start_time": "2022-02-06T15:00:39.696Z"
   },
   {
    "duration": 12,
    "start_time": "2022-02-06T15:00:39.726Z"
   },
   {
    "duration": 5,
    "start_time": "2022-02-06T15:00:39.739Z"
   },
   {
    "duration": 9,
    "start_time": "2022-02-06T15:00:39.746Z"
   },
   {
    "duration": 9,
    "start_time": "2022-02-06T15:00:39.757Z"
   },
   {
    "duration": 5,
    "start_time": "2022-02-06T15:00:39.767Z"
   },
   {
    "duration": 55,
    "start_time": "2022-02-06T15:00:39.773Z"
   },
   {
    "duration": 30,
    "start_time": "2022-02-06T15:01:37.183Z"
   },
   {
    "duration": 28,
    "start_time": "2022-02-06T15:01:50.328Z"
   },
   {
    "duration": 7,
    "start_time": "2022-02-06T15:02:52.276Z"
   },
   {
    "duration": 274,
    "start_time": "2022-02-06T15:02:59.481Z"
   },
   {
    "duration": 171,
    "start_time": "2022-02-21T13:33:56.848Z"
   },
   {
    "duration": 230,
    "start_time": "2022-02-21T13:34:01.420Z"
   },
   {
    "duration": 558,
    "start_time": "2022-02-21T13:34:12.589Z"
   },
   {
    "duration": 396,
    "start_time": "2022-02-21T13:34:13.149Z"
   },
   {
    "duration": 16,
    "start_time": "2022-02-21T13:34:13.547Z"
   },
   {
    "duration": 28,
    "start_time": "2022-02-21T13:34:13.565Z"
   },
   {
    "duration": 28,
    "start_time": "2022-02-21T13:34:13.595Z"
   },
   {
    "duration": 58,
    "start_time": "2022-02-21T13:34:13.624Z"
   },
   {
    "duration": 19,
    "start_time": "2022-02-21T13:34:13.684Z"
   },
   {
    "duration": 36,
    "start_time": "2022-02-21T13:34:13.707Z"
   },
   {
    "duration": 19,
    "start_time": "2022-02-21T13:34:13.746Z"
   },
   {
    "duration": 39,
    "start_time": "2022-02-21T13:34:13.767Z"
   },
   {
    "duration": 37,
    "start_time": "2022-02-21T13:34:13.808Z"
   },
   {
    "duration": 34,
    "start_time": "2022-02-21T13:34:13.847Z"
   },
   {
    "duration": 152,
    "start_time": "2022-02-21T13:34:13.882Z"
   },
   {
    "duration": 6,
    "start_time": "2022-02-21T13:34:14.036Z"
   },
   {
    "duration": 119,
    "start_time": "2022-02-21T13:34:14.044Z"
   },
   {
    "duration": 30,
    "start_time": "2022-02-21T13:34:14.165Z"
   },
   {
    "duration": 25,
    "start_time": "2022-02-21T13:34:14.197Z"
   },
   {
    "duration": 36,
    "start_time": "2022-02-21T13:34:14.224Z"
   },
   {
    "duration": 22,
    "start_time": "2022-02-21T13:34:14.262Z"
   },
   {
    "duration": 38,
    "start_time": "2022-02-21T13:34:14.286Z"
   },
   {
    "duration": 39,
    "start_time": "2022-02-21T13:34:14.326Z"
   },
   {
    "duration": 35,
    "start_time": "2022-02-21T13:34:14.367Z"
   },
   {
    "duration": 26,
    "start_time": "2022-02-21T13:34:14.405Z"
   },
   {
    "duration": 40,
    "start_time": "2022-02-21T13:34:14.433Z"
   },
   {
    "duration": 29,
    "start_time": "2022-02-21T13:34:14.475Z"
   },
   {
    "duration": 35,
    "start_time": "2022-02-21T13:34:14.505Z"
   },
   {
    "duration": 43,
    "start_time": "2022-02-21T13:34:14.541Z"
   },
   {
    "duration": 17,
    "start_time": "2022-02-21T13:34:14.586Z"
   },
   {
    "duration": 32,
    "start_time": "2022-02-21T13:34:14.606Z"
   },
   {
    "duration": 38,
    "start_time": "2022-02-21T13:34:14.640Z"
   },
   {
    "duration": 37,
    "start_time": "2022-02-21T13:34:14.680Z"
   },
   {
    "duration": 29,
    "start_time": "2022-02-21T13:34:14.719Z"
   },
   {
    "duration": 33,
    "start_time": "2022-02-21T13:34:14.750Z"
   },
   {
    "duration": 35,
    "start_time": "2022-02-21T13:34:14.784Z"
   },
   {
    "duration": 27,
    "start_time": "2022-02-21T13:34:14.821Z"
   },
   {
    "duration": 34,
    "start_time": "2022-02-21T13:34:14.850Z"
   },
   {
    "duration": 39,
    "start_time": "2022-02-21T13:34:14.886Z"
   },
   {
    "duration": 32,
    "start_time": "2022-02-21T13:34:14.927Z"
   },
   {
    "duration": 31,
    "start_time": "2022-02-21T13:34:14.961Z"
   },
   {
    "duration": 59,
    "start_time": "2022-02-21T13:34:14.994Z"
   },
   {
    "duration": 34,
    "start_time": "2022-02-21T13:34:15.055Z"
   },
   {
    "duration": 38,
    "start_time": "2022-02-21T13:34:15.091Z"
   },
   {
    "duration": 41,
    "start_time": "2022-02-21T13:34:15.131Z"
   },
   {
    "duration": 47,
    "start_time": "2022-02-21T13:34:32.388Z"
   },
   {
    "duration": 19,
    "start_time": "2022-02-21T13:34:38.836Z"
   },
   {
    "duration": 27,
    "start_time": "2022-02-21T13:34:49.031Z"
   },
   {
    "duration": 460,
    "start_time": "2022-02-21T13:39:01.543Z"
   },
   {
    "duration": 6,
    "start_time": "2022-02-21T13:39:09.842Z"
   },
   {
    "duration": 10,
    "start_time": "2022-02-21T13:39:18.962Z"
   },
   {
    "duration": 25,
    "start_time": "2022-02-21T13:46:17.500Z"
   },
   {
    "duration": 37,
    "start_time": "2022-02-21T13:47:06.875Z"
   },
   {
    "duration": 27,
    "start_time": "2022-02-21T13:47:44.383Z"
   },
   {
    "duration": 22,
    "start_time": "2022-02-21T13:48:02.609Z"
   },
   {
    "duration": 19,
    "start_time": "2022-02-21T13:48:36.393Z"
   },
   {
    "duration": 23,
    "start_time": "2022-02-21T13:48:47.013Z"
   },
   {
    "duration": 6,
    "start_time": "2022-02-21T13:50:07.756Z"
   },
   {
    "duration": 27,
    "start_time": "2022-02-21T13:50:10.293Z"
   },
   {
    "duration": 6,
    "start_time": "2022-02-21T13:50:31.433Z"
   },
   {
    "duration": 6,
    "start_time": "2022-02-21T13:50:35.003Z"
   },
   {
    "duration": 27,
    "start_time": "2022-02-21T13:50:37.962Z"
   },
   {
    "duration": 312,
    "start_time": "2022-02-21T13:52:25.848Z"
   },
   {
    "duration": 3339,
    "start_time": "2022-02-21T13:58:38.101Z"
   },
   {
    "duration": 3,
    "start_time": "2022-02-21T14:00:37.577Z"
   },
   {
    "duration": 35,
    "start_time": "2022-02-21T14:00:40.996Z"
   },
   {
    "duration": 559,
    "start_time": "2022-02-21T14:01:08.029Z"
   },
   {
    "duration": 389,
    "start_time": "2022-02-21T14:01:08.590Z"
   },
   {
    "duration": 15,
    "start_time": "2022-02-21T14:01:08.981Z"
   },
   {
    "duration": 10,
    "start_time": "2022-02-21T14:01:08.998Z"
   },
   {
    "duration": 10,
    "start_time": "2022-02-21T14:01:09.010Z"
   },
   {
    "duration": 30,
    "start_time": "2022-02-21T14:01:09.021Z"
   },
   {
    "duration": 7,
    "start_time": "2022-02-21T14:01:09.053Z"
   },
   {
    "duration": 19,
    "start_time": "2022-02-21T14:01:09.061Z"
   },
   {
    "duration": 8,
    "start_time": "2022-02-21T14:01:09.083Z"
   },
   {
    "duration": 18,
    "start_time": "2022-02-21T14:01:09.093Z"
   },
   {
    "duration": 7,
    "start_time": "2022-02-21T14:01:09.112Z"
   },
   {
    "duration": 9,
    "start_time": "2022-02-21T14:01:09.121Z"
   },
   {
    "duration": 148,
    "start_time": "2022-02-21T14:01:09.132Z"
   },
   {
    "duration": 6,
    "start_time": "2022-02-21T14:01:09.281Z"
   },
   {
    "duration": 83,
    "start_time": "2022-02-21T14:01:09.288Z"
   },
   {
    "duration": 30,
    "start_time": "2022-02-21T14:01:09.373Z"
   },
   {
    "duration": 24,
    "start_time": "2022-02-21T14:01:09.405Z"
   },
   {
    "duration": 31,
    "start_time": "2022-02-21T14:01:09.431Z"
   },
   {
    "duration": 9,
    "start_time": "2022-02-21T14:01:09.464Z"
   },
   {
    "duration": 5,
    "start_time": "2022-02-21T14:01:09.475Z"
   },
   {
    "duration": 18,
    "start_time": "2022-02-21T14:01:09.482Z"
   },
   {
    "duration": 10,
    "start_time": "2022-02-21T14:01:09.502Z"
   },
   {
    "duration": 5,
    "start_time": "2022-02-21T14:01:09.514Z"
   },
   {
    "duration": 8,
    "start_time": "2022-02-21T14:01:09.521Z"
   },
   {
    "duration": 8,
    "start_time": "2022-02-21T14:01:09.531Z"
   },
   {
    "duration": 24,
    "start_time": "2022-02-21T14:01:09.541Z"
   },
   {
    "duration": 5,
    "start_time": "2022-02-21T14:01:09.569Z"
   },
   {
    "duration": 8,
    "start_time": "2022-02-21T14:01:09.577Z"
   },
   {
    "duration": 12,
    "start_time": "2022-02-21T14:01:09.587Z"
   },
   {
    "duration": 7,
    "start_time": "2022-02-21T14:01:09.601Z"
   },
   {
    "duration": 11,
    "start_time": "2022-02-21T14:01:09.610Z"
   },
   {
    "duration": 6,
    "start_time": "2022-02-21T14:01:09.623Z"
   },
   {
    "duration": 9,
    "start_time": "2022-02-21T14:01:09.631Z"
   },
   {
    "duration": 20,
    "start_time": "2022-02-21T14:01:09.642Z"
   },
   {
    "duration": 8,
    "start_time": "2022-02-21T14:01:09.664Z"
   },
   {
    "duration": 5,
    "start_time": "2022-02-21T14:01:09.674Z"
   },
   {
    "duration": 16,
    "start_time": "2022-02-21T14:01:09.681Z"
   },
   {
    "duration": 14,
    "start_time": "2022-02-21T14:01:09.698Z"
   },
   {
    "duration": 4,
    "start_time": "2022-02-21T14:01:09.714Z"
   },
   {
    "duration": 17,
    "start_time": "2022-02-21T14:01:09.720Z"
   },
   {
    "duration": 20,
    "start_time": "2022-02-21T14:01:09.738Z"
   },
   {
    "duration": 18,
    "start_time": "2022-02-21T14:01:09.760Z"
   },
   {
    "duration": 242,
    "start_time": "2022-02-21T14:01:09.780Z"
   },
   {
    "duration": 827,
    "start_time": "2022-02-21T14:01:09.197Z"
   },
   {
    "duration": 826,
    "start_time": "2022-02-21T14:01:09.199Z"
   },
   {
    "duration": 826,
    "start_time": "2022-02-21T14:01:09.200Z"
   },
   {
    "duration": 825,
    "start_time": "2022-02-21T14:01:09.202Z"
   },
   {
    "duration": 7,
    "start_time": "2022-02-21T14:01:17.522Z"
   },
   {
    "duration": 7,
    "start_time": "2022-02-21T14:01:19.591Z"
   },
   {
    "duration": 8,
    "start_time": "2022-02-21T14:01:20.335Z"
   },
   {
    "duration": 26,
    "start_time": "2022-02-21T14:01:21.605Z"
   },
   {
    "duration": 183,
    "start_time": "2022-02-21T14:02:33.849Z"
   },
   {
    "duration": 134,
    "start_time": "2022-02-21T14:02:56.360Z"
   },
   {
    "duration": 5,
    "start_time": "2022-02-21T14:03:00.436Z"
   },
   {
    "duration": 557,
    "start_time": "2022-02-21T14:03:08.820Z"
   },
   {
    "duration": 427,
    "start_time": "2022-02-21T14:03:09.380Z"
   },
   {
    "duration": 18,
    "start_time": "2022-02-21T14:03:09.809Z"
   },
   {
    "duration": 7,
    "start_time": "2022-02-21T14:03:09.829Z"
   },
   {
    "duration": 22,
    "start_time": "2022-02-21T14:03:09.837Z"
   },
   {
    "duration": 34,
    "start_time": "2022-02-21T14:03:09.861Z"
   },
   {
    "duration": 12,
    "start_time": "2022-02-21T14:03:09.897Z"
   },
   {
    "duration": 19,
    "start_time": "2022-02-21T14:03:09.912Z"
   },
   {
    "duration": 9,
    "start_time": "2022-02-21T14:03:09.933Z"
   },
   {
    "duration": 31,
    "start_time": "2022-02-21T14:03:09.944Z"
   },
   {
    "duration": 8,
    "start_time": "2022-02-21T14:03:09.978Z"
   },
   {
    "duration": 13,
    "start_time": "2022-02-21T14:03:09.988Z"
   },
   {
    "duration": 148,
    "start_time": "2022-02-21T14:03:10.003Z"
   },
   {
    "duration": 10,
    "start_time": "2022-02-21T14:03:10.153Z"
   },
   {
    "duration": 95,
    "start_time": "2022-02-21T14:03:10.165Z"
   },
   {
    "duration": 31,
    "start_time": "2022-02-21T14:03:10.262Z"
   },
   {
    "duration": 26,
    "start_time": "2022-02-21T14:03:10.294Z"
   },
   {
    "duration": 35,
    "start_time": "2022-02-21T14:03:10.321Z"
   },
   {
    "duration": 11,
    "start_time": "2022-02-21T14:03:10.357Z"
   },
   {
    "duration": 29,
    "start_time": "2022-02-21T14:03:10.369Z"
   },
   {
    "duration": 52,
    "start_time": "2022-02-21T14:03:10.401Z"
   },
   {
    "duration": 19,
    "start_time": "2022-02-21T14:03:10.455Z"
   },
   {
    "duration": 54,
    "start_time": "2022-02-21T14:03:10.478Z"
   },
   {
    "duration": 41,
    "start_time": "2022-02-21T14:03:10.535Z"
   },
   {
    "duration": 140,
    "start_time": "2022-02-21T14:03:10.578Z"
   },
   {
    "duration": 72,
    "start_time": "2022-02-21T14:03:10.720Z"
   },
   {
    "duration": 70,
    "start_time": "2022-02-21T14:03:10.794Z"
   },
   {
    "duration": 8,
    "start_time": "2022-02-21T14:03:10.866Z"
   },
   {
    "duration": 47,
    "start_time": "2022-02-21T14:03:10.876Z"
   },
   {
    "duration": 9,
    "start_time": "2022-02-21T14:03:10.926Z"
   },
   {
    "duration": 16,
    "start_time": "2022-02-21T14:03:10.937Z"
   },
   {
    "duration": 9,
    "start_time": "2022-02-21T14:03:10.955Z"
   },
   {
    "duration": 17,
    "start_time": "2022-02-21T14:03:10.965Z"
   },
   {
    "duration": 12,
    "start_time": "2022-02-21T14:03:10.984Z"
   },
   {
    "duration": 8,
    "start_time": "2022-02-21T14:03:10.998Z"
   },
   {
    "duration": 8,
    "start_time": "2022-02-21T14:03:11.007Z"
   },
   {
    "duration": 15,
    "start_time": "2022-02-21T14:03:11.017Z"
   },
   {
    "duration": 9,
    "start_time": "2022-02-21T14:03:11.034Z"
   },
   {
    "duration": 3,
    "start_time": "2022-02-21T14:03:11.045Z"
   },
   {
    "duration": 14,
    "start_time": "2022-02-21T14:03:11.050Z"
   },
   {
    "duration": 10,
    "start_time": "2022-02-21T14:03:11.066Z"
   },
   {
    "duration": 7,
    "start_time": "2022-02-21T14:03:11.078Z"
   },
   {
    "duration": 10,
    "start_time": "2022-02-21T14:03:11.086Z"
   },
   {
    "duration": 4,
    "start_time": "2022-02-21T14:03:11.098Z"
   },
   {
    "duration": 8,
    "start_time": "2022-02-21T14:03:11.104Z"
   },
   {
    "duration": 17,
    "start_time": "2022-02-21T14:03:11.114Z"
   },
   {
    "duration": 37,
    "start_time": "2022-02-21T14:03:11.133Z"
   },
   {
    "duration": 43,
    "start_time": "2022-02-21T14:03:11.172Z"
   },
   {
    "duration": 590,
    "start_time": "2022-02-21T14:03:27.040Z"
   },
   {
    "duration": 390,
    "start_time": "2022-02-21T14:03:27.632Z"
   },
   {
    "duration": 16,
    "start_time": "2022-02-21T14:03:28.025Z"
   },
   {
    "duration": 7,
    "start_time": "2022-02-21T14:03:28.043Z"
   },
   {
    "duration": 9,
    "start_time": "2022-02-21T14:03:28.051Z"
   },
   {
    "duration": 26,
    "start_time": "2022-02-21T14:03:28.062Z"
   },
   {
    "duration": 7,
    "start_time": "2022-02-21T14:03:28.090Z"
   },
   {
    "duration": 19,
    "start_time": "2022-02-21T14:03:28.099Z"
   },
   {
    "duration": 8,
    "start_time": "2022-02-21T14:03:28.121Z"
   },
   {
    "duration": 43,
    "start_time": "2022-02-21T14:03:28.131Z"
   },
   {
    "duration": 8,
    "start_time": "2022-02-21T14:03:28.176Z"
   },
   {
    "duration": 15,
    "start_time": "2022-02-21T14:03:28.186Z"
   },
   {
    "duration": 125,
    "start_time": "2022-02-21T14:03:28.203Z"
   },
   {
    "duration": 6,
    "start_time": "2022-02-21T14:03:28.330Z"
   },
   {
    "duration": 79,
    "start_time": "2022-02-21T14:03:28.338Z"
   },
   {
    "duration": 28,
    "start_time": "2022-02-21T14:03:28.419Z"
   },
   {
    "duration": 24,
    "start_time": "2022-02-21T14:03:28.459Z"
   },
   {
    "duration": 9,
    "start_time": "2022-02-21T14:03:28.485Z"
   },
   {
    "duration": 8,
    "start_time": "2022-02-21T14:03:28.496Z"
   },
   {
    "duration": 4,
    "start_time": "2022-02-21T14:03:28.505Z"
   },
   {
    "duration": 19,
    "start_time": "2022-02-21T14:03:28.511Z"
   },
   {
    "duration": 27,
    "start_time": "2022-02-21T14:03:28.532Z"
   },
   {
    "duration": 5,
    "start_time": "2022-02-21T14:03:28.561Z"
   },
   {
    "duration": 8,
    "start_time": "2022-02-21T14:03:28.567Z"
   },
   {
    "duration": 10,
    "start_time": "2022-02-21T14:03:28.577Z"
   },
   {
    "duration": 11,
    "start_time": "2022-02-21T14:03:28.588Z"
   },
   {
    "duration": 7,
    "start_time": "2022-02-21T14:03:28.602Z"
   },
   {
    "duration": 5,
    "start_time": "2022-02-21T14:03:28.611Z"
   },
   {
    "duration": 16,
    "start_time": "2022-02-21T14:03:28.618Z"
   },
   {
    "duration": 10,
    "start_time": "2022-02-21T14:03:28.635Z"
   },
   {
    "duration": 12,
    "start_time": "2022-02-21T14:03:28.647Z"
   },
   {
    "duration": 4,
    "start_time": "2022-02-21T14:03:28.661Z"
   },
   {
    "duration": 8,
    "start_time": "2022-02-21T14:03:28.667Z"
   },
   {
    "duration": 9,
    "start_time": "2022-02-21T14:03:28.676Z"
   },
   {
    "duration": 11,
    "start_time": "2022-02-21T14:03:28.688Z"
   },
   {
    "duration": 6,
    "start_time": "2022-02-21T14:03:28.701Z"
   },
   {
    "duration": 10,
    "start_time": "2022-02-21T14:03:28.708Z"
   },
   {
    "duration": 9,
    "start_time": "2022-02-21T14:03:28.720Z"
   },
   {
    "duration": 27,
    "start_time": "2022-02-21T14:03:28.731Z"
   },
   {
    "duration": 5,
    "start_time": "2022-02-21T14:03:28.760Z"
   },
   {
    "duration": 11,
    "start_time": "2022-02-21T14:03:28.767Z"
   },
   {
    "duration": 6,
    "start_time": "2022-02-21T14:03:28.779Z"
   },
   {
    "duration": 11,
    "start_time": "2022-02-21T14:03:28.787Z"
   },
   {
    "duration": 7,
    "start_time": "2022-02-21T14:03:28.800Z"
   },
   {
    "duration": 7,
    "start_time": "2022-02-21T14:03:28.809Z"
   },
   {
    "duration": 43,
    "start_time": "2022-02-21T14:03:28.818Z"
   },
   {
    "duration": 47,
    "start_time": "2022-02-21T14:03:28.863Z"
   },
   {
    "duration": 191,
    "start_time": "2022-02-21T14:03:58.843Z"
   },
   {
    "duration": 864,
    "start_time": "2022-02-21T14:04:11.853Z"
   },
   {
    "duration": 415,
    "start_time": "2022-02-21T14:04:12.720Z"
   },
   {
    "duration": 17,
    "start_time": "2022-02-21T14:04:13.137Z"
   },
   {
    "duration": 23,
    "start_time": "2022-02-21T14:04:13.156Z"
   },
   {
    "duration": 26,
    "start_time": "2022-02-21T14:04:13.180Z"
   },
   {
    "duration": 46,
    "start_time": "2022-02-21T14:04:13.208Z"
   },
   {
    "duration": 24,
    "start_time": "2022-02-21T14:04:13.256Z"
   },
   {
    "duration": 46,
    "start_time": "2022-02-21T14:04:13.281Z"
   },
   {
    "duration": 32,
    "start_time": "2022-02-21T14:04:13.330Z"
   },
   {
    "duration": 43,
    "start_time": "2022-02-21T14:04:13.364Z"
   },
   {
    "duration": 21,
    "start_time": "2022-02-21T14:04:13.408Z"
   },
   {
    "duration": 37,
    "start_time": "2022-02-21T14:04:13.430Z"
   },
   {
    "duration": 156,
    "start_time": "2022-02-21T14:04:13.469Z"
   },
   {
    "duration": 6,
    "start_time": "2022-02-21T14:04:13.627Z"
   },
   {
    "duration": 109,
    "start_time": "2022-02-21T14:04:13.635Z"
   },
   {
    "duration": 32,
    "start_time": "2022-02-21T14:04:13.745Z"
   },
   {
    "duration": 24,
    "start_time": "2022-02-21T14:04:13.779Z"
   },
   {
    "duration": 8,
    "start_time": "2022-02-21T14:04:13.805Z"
   },
   {
    "duration": 8,
    "start_time": "2022-02-21T14:04:13.815Z"
   },
   {
    "duration": 6,
    "start_time": "2022-02-21T14:04:13.825Z"
   },
   {
    "duration": 32,
    "start_time": "2022-02-21T14:04:13.832Z"
   },
   {
    "duration": 8,
    "start_time": "2022-02-21T14:04:13.866Z"
   },
   {
    "duration": 5,
    "start_time": "2022-02-21T14:04:13.876Z"
   },
   {
    "duration": 14,
    "start_time": "2022-02-21T14:04:13.883Z"
   },
   {
    "duration": 11,
    "start_time": "2022-02-21T14:04:13.899Z"
   },
   {
    "duration": 5,
    "start_time": "2022-02-21T14:04:13.912Z"
   },
   {
    "duration": 12,
    "start_time": "2022-02-21T14:04:13.921Z"
   },
   {
    "duration": 7,
    "start_time": "2022-02-21T14:04:13.935Z"
   },
   {
    "duration": 21,
    "start_time": "2022-02-21T14:04:13.944Z"
   },
   {
    "duration": 12,
    "start_time": "2022-02-21T14:04:13.967Z"
   },
   {
    "duration": 4,
    "start_time": "2022-02-21T14:04:13.981Z"
   },
   {
    "duration": 7,
    "start_time": "2022-02-21T14:04:13.987Z"
   },
   {
    "duration": 9,
    "start_time": "2022-02-21T14:04:13.995Z"
   },
   {
    "duration": 9,
    "start_time": "2022-02-21T14:04:14.006Z"
   },
   {
    "duration": 9,
    "start_time": "2022-02-21T14:04:14.017Z"
   },
   {
    "duration": 6,
    "start_time": "2022-02-21T14:04:14.028Z"
   },
   {
    "duration": 23,
    "start_time": "2022-02-21T14:04:14.036Z"
   },
   {
    "duration": 8,
    "start_time": "2022-02-21T14:04:14.061Z"
   },
   {
    "duration": 9,
    "start_time": "2022-02-21T14:04:14.070Z"
   },
   {
    "duration": 7,
    "start_time": "2022-02-21T14:04:14.080Z"
   },
   {
    "duration": 9,
    "start_time": "2022-02-21T14:04:14.089Z"
   },
   {
    "duration": 6,
    "start_time": "2022-02-21T14:04:14.100Z"
   },
   {
    "duration": 9,
    "start_time": "2022-02-21T14:04:14.107Z"
   },
   {
    "duration": 7,
    "start_time": "2022-02-21T14:04:14.118Z"
   },
   {
    "duration": 32,
    "start_time": "2022-02-21T14:04:14.127Z"
   },
   {
    "duration": 31,
    "start_time": "2022-02-21T14:04:14.161Z"
   },
   {
    "duration": 40,
    "start_time": "2022-02-21T14:04:14.194Z"
   },
   {
    "duration": 24,
    "start_time": "2022-02-21T14:25:14.327Z"
   },
   {
    "duration": 122,
    "start_time": "2022-02-21T14:36:49.277Z"
   },
   {
    "duration": 135,
    "start_time": "2022-02-21T14:36:54.382Z"
   },
   {
    "duration": 142,
    "start_time": "2022-02-21T14:37:10.479Z"
   },
   {
    "duration": 136,
    "start_time": "2022-02-21T14:38:56.168Z"
   },
   {
    "duration": 573,
    "start_time": "2022-02-21T14:39:11.947Z"
   },
   {
    "duration": 538,
    "start_time": "2022-02-21T14:39:29.974Z"
   },
   {
    "duration": 253,
    "start_time": "2022-02-21T14:39:43.060Z"
   },
   {
    "duration": 610,
    "start_time": "2022-02-21T14:39:48.404Z"
   },
   {
    "duration": 514,
    "start_time": "2022-02-21T14:39:54.900Z"
   },
   {
    "duration": 476,
    "start_time": "2022-02-21T14:41:35.948Z"
   },
   {
    "duration": 485,
    "start_time": "2022-02-21T14:41:49.169Z"
   },
   {
    "duration": 478,
    "start_time": "2022-02-21T14:42:02.354Z"
   },
   {
    "duration": 554,
    "start_time": "2022-02-21T14:42:13.039Z"
   },
   {
    "duration": 144,
    "start_time": "2022-02-21T14:42:22.420Z"
   },
   {
    "duration": 496,
    "start_time": "2022-02-21T14:42:53.145Z"
   },
   {
    "duration": 752,
    "start_time": "2022-02-21T14:43:05.476Z"
   },
   {
    "duration": 166,
    "start_time": "2022-02-21T14:43:27.103Z"
   },
   {
    "duration": 188,
    "start_time": "2022-02-21T14:47:41.917Z"
   },
   {
    "duration": 161,
    "start_time": "2022-02-21T14:48:22.207Z"
   },
   {
    "duration": 232,
    "start_time": "2022-02-21T14:48:29.935Z"
   },
   {
    "duration": 261,
    "start_time": "2022-02-21T14:48:52.555Z"
   },
   {
    "duration": 381,
    "start_time": "2022-02-21T14:51:26.593Z"
   },
   {
    "duration": 288,
    "start_time": "2022-02-21T14:51:51.851Z"
   },
   {
    "duration": 277,
    "start_time": "2022-02-21T15:00:17.895Z"
   },
   {
    "duration": 275,
    "start_time": "2022-02-21T15:00:22.220Z"
   },
   {
    "duration": 276,
    "start_time": "2022-02-21T15:01:20.957Z"
   },
   {
    "duration": 24,
    "start_time": "2022-02-21T15:04:41.455Z"
   },
   {
    "duration": 233,
    "start_time": "2022-02-21T15:05:19.711Z"
   },
   {
    "duration": 290,
    "start_time": "2022-02-21T15:06:05.143Z"
   },
   {
    "duration": 284,
    "start_time": "2022-02-21T15:06:53.749Z"
   },
   {
    "duration": 265,
    "start_time": "2022-02-21T15:07:33.040Z"
   },
   {
    "duration": 264,
    "start_time": "2022-02-21T15:07:37.111Z"
   },
   {
    "duration": 267,
    "start_time": "2022-02-21T15:07:40.636Z"
   },
   {
    "duration": 20,
    "start_time": "2022-02-21T15:08:12.922Z"
   },
   {
    "duration": 22,
    "start_time": "2022-02-21T15:08:31.384Z"
   },
   {
    "duration": 348,
    "start_time": "2022-02-21T15:10:18.577Z"
   },
   {
    "duration": 132,
    "start_time": "2022-02-21T15:12:35.147Z"
   },
   {
    "duration": 9,
    "start_time": "2022-02-21T15:21:48.092Z"
   },
   {
    "duration": 12,
    "start_time": "2022-02-21T15:21:56.843Z"
   },
   {
    "duration": 12,
    "start_time": "2022-02-21T15:22:10.880Z"
   },
   {
    "duration": 8,
    "start_time": "2022-02-21T15:22:53.470Z"
   },
   {
    "duration": 8,
    "start_time": "2022-02-21T15:22:55.949Z"
   },
   {
    "duration": 265,
    "start_time": "2022-02-21T15:25:15.410Z"
   },
   {
    "duration": 284,
    "start_time": "2022-02-21T15:25:16.404Z"
   },
   {
    "duration": 34,
    "start_time": "2022-02-21T15:26:29.888Z"
   },
   {
    "duration": 25,
    "start_time": "2022-02-21T15:26:47.313Z"
   },
   {
    "duration": 12,
    "start_time": "2022-02-21T15:28:54.108Z"
   },
   {
    "duration": 181,
    "start_time": "2022-02-21T15:29:08.223Z"
   },
   {
    "duration": 287,
    "start_time": "2022-02-21T15:32:29.780Z"
   },
   {
    "duration": 261,
    "start_time": "2022-02-21T15:33:22.198Z"
   },
   {
    "duration": 264,
    "start_time": "2022-02-21T15:33:39.069Z"
   },
   {
    "duration": 256,
    "start_time": "2022-02-21T15:34:28.185Z"
   },
   {
    "duration": 376,
    "start_time": "2022-02-21T15:34:32.345Z"
   },
   {
    "duration": 280,
    "start_time": "2022-02-21T15:34:35.445Z"
   },
   {
    "duration": 354,
    "start_time": "2022-02-21T15:34:53.681Z"
   },
   {
    "duration": 681,
    "start_time": "2022-02-22T12:12:20.114Z"
   },
   {
    "duration": 371,
    "start_time": "2022-02-22T12:12:20.797Z"
   },
   {
    "duration": 12,
    "start_time": "2022-02-22T12:12:21.169Z"
   },
   {
    "duration": 6,
    "start_time": "2022-02-22T12:12:21.182Z"
   },
   {
    "duration": 9,
    "start_time": "2022-02-22T12:12:21.189Z"
   },
   {
    "duration": 21,
    "start_time": "2022-02-22T12:12:21.199Z"
   },
   {
    "duration": 6,
    "start_time": "2022-02-22T12:12:21.221Z"
   },
   {
    "duration": 14,
    "start_time": "2022-02-22T12:12:21.229Z"
   },
   {
    "duration": 7,
    "start_time": "2022-02-22T12:12:21.245Z"
   },
   {
    "duration": 17,
    "start_time": "2022-02-22T12:12:21.253Z"
   },
   {
    "duration": 7,
    "start_time": "2022-02-22T12:12:21.271Z"
   },
   {
    "duration": 7,
    "start_time": "2022-02-22T12:12:21.280Z"
   },
   {
    "duration": 148,
    "start_time": "2022-02-22T12:12:21.288Z"
   },
   {
    "duration": 5,
    "start_time": "2022-02-22T12:12:21.438Z"
   },
   {
    "duration": 93,
    "start_time": "2022-02-22T12:12:21.445Z"
   },
   {
    "duration": 32,
    "start_time": "2022-02-22T12:12:21.540Z"
   },
   {
    "duration": 25,
    "start_time": "2022-02-22T12:12:21.574Z"
   },
   {
    "duration": 6,
    "start_time": "2022-02-22T12:12:21.601Z"
   },
   {
    "duration": 25,
    "start_time": "2022-02-22T12:12:21.609Z"
   },
   {
    "duration": 2,
    "start_time": "2022-02-22T12:12:21.636Z"
   },
   {
    "duration": 11,
    "start_time": "2022-02-22T12:12:21.640Z"
   },
   {
    "duration": 6,
    "start_time": "2022-02-22T12:12:21.652Z"
   },
   {
    "duration": 3,
    "start_time": "2022-02-22T12:12:21.661Z"
   },
   {
    "duration": 7,
    "start_time": "2022-02-22T12:12:21.666Z"
   },
   {
    "duration": 8,
    "start_time": "2022-02-22T12:12:21.674Z"
   },
   {
    "duration": 8,
    "start_time": "2022-02-22T12:12:21.683Z"
   },
   {
    "duration": 9,
    "start_time": "2022-02-22T12:12:21.693Z"
   },
   {
    "duration": 7,
    "start_time": "2022-02-22T12:12:21.703Z"
   },
   {
    "duration": 23,
    "start_time": "2022-02-22T12:12:21.712Z"
   },
   {
    "duration": 7,
    "start_time": "2022-02-22T12:12:21.736Z"
   },
   {
    "duration": 7,
    "start_time": "2022-02-22T12:12:21.745Z"
   },
   {
    "duration": 9,
    "start_time": "2022-02-22T12:12:21.753Z"
   },
   {
    "duration": 10,
    "start_time": "2022-02-22T12:12:21.764Z"
   },
   {
    "duration": 8,
    "start_time": "2022-02-22T12:12:21.775Z"
   },
   {
    "duration": 9,
    "start_time": "2022-02-22T12:12:21.784Z"
   },
   {
    "duration": 6,
    "start_time": "2022-02-22T12:12:21.794Z"
   },
   {
    "duration": 13,
    "start_time": "2022-02-22T12:12:21.801Z"
   },
   {
    "duration": 9,
    "start_time": "2022-02-22T12:12:21.815Z"
   },
   {
    "duration": 9,
    "start_time": "2022-02-22T12:12:21.825Z"
   },
   {
    "duration": 9,
    "start_time": "2022-02-22T12:12:21.835Z"
   },
   {
    "duration": 12,
    "start_time": "2022-02-22T12:12:21.845Z"
   },
   {
    "duration": 10,
    "start_time": "2022-02-22T12:12:21.859Z"
   },
   {
    "duration": 19,
    "start_time": "2022-02-22T12:12:21.870Z"
   },
   {
    "duration": 7,
    "start_time": "2022-02-22T12:12:21.891Z"
   },
   {
    "duration": 7,
    "start_time": "2022-02-22T12:12:21.899Z"
   },
   {
    "duration": 69,
    "start_time": "2022-02-22T12:12:21.908Z"
   },
   {
    "duration": 125,
    "start_time": "2022-02-22T12:12:21.979Z"
   },
   {
    "duration": 229,
    "start_time": "2022-02-22T12:12:22.106Z"
   },
   {
    "duration": 223,
    "start_time": "2022-02-22T12:12:22.337Z"
   },
   {
    "duration": 217,
    "start_time": "2022-02-22T12:12:22.562Z"
   },
   {
    "duration": 20,
    "start_time": "2022-02-22T12:12:22.781Z"
   },
   {
    "duration": 2,
    "start_time": "2022-02-22T12:12:22.803Z"
   },
   {
    "duration": 341,
    "start_time": "2022-02-22T12:13:09.206Z"
   },
   {
    "duration": 53,
    "start_time": "2022-02-22T12:13:18.012Z"
   },
   {
    "duration": 15,
    "start_time": "2022-02-22T12:13:39.267Z"
   },
   {
    "duration": 35,
    "start_time": "2022-02-22T12:23:48.690Z"
   },
   {
    "duration": 668,
    "start_time": "2022-02-22T12:24:19.848Z"
   },
   {
    "duration": 5247,
    "start_time": "2022-02-22T12:24:37.346Z"
   },
   {
    "duration": 31,
    "start_time": "2022-02-22T12:25:02.683Z"
   },
   {
    "duration": 24,
    "start_time": "2022-02-22T12:25:44.734Z"
   },
   {
    "duration": 35,
    "start_time": "2022-02-22T12:27:21.748Z"
   },
   {
    "duration": 36,
    "start_time": "2022-02-22T12:31:21.566Z"
   },
   {
    "duration": 34,
    "start_time": "2022-02-22T12:31:59.113Z"
   },
   {
    "duration": 720,
    "start_time": "2022-02-22T12:37:45.385Z"
   },
   {
    "duration": 314,
    "start_time": "2022-02-22T12:39:01.263Z"
   },
   {
    "duration": 164,
    "start_time": "2022-02-22T12:40:07.490Z"
   },
   {
    "duration": 179,
    "start_time": "2022-02-22T12:40:23.046Z"
   },
   {
    "duration": 219,
    "start_time": "2022-02-22T12:40:43.812Z"
   },
   {
    "duration": 669,
    "start_time": "2022-02-22T12:41:07.538Z"
   },
   {
    "duration": 35,
    "start_time": "2022-02-22T12:41:13.882Z"
   },
   {
    "duration": 81,
    "start_time": "2022-02-22T13:00:17.821Z"
   },
   {
    "duration": 32,
    "start_time": "2022-02-22T13:00:37.066Z"
   },
   {
    "duration": 12,
    "start_time": "2022-02-22T13:07:26.785Z"
   },
   {
    "duration": 36,
    "start_time": "2022-02-22T13:08:17.047Z"
   },
   {
    "duration": 3,
    "start_time": "2022-02-22T13:08:55.114Z"
   },
   {
    "duration": 418,
    "start_time": "2022-02-22T13:08:55.119Z"
   },
   {
    "duration": 9,
    "start_time": "2022-02-22T13:08:55.539Z"
   },
   {
    "duration": 15,
    "start_time": "2022-02-22T13:08:55.550Z"
   },
   {
    "duration": 13,
    "start_time": "2022-02-22T13:08:55.566Z"
   },
   {
    "duration": 20,
    "start_time": "2022-02-22T13:08:55.581Z"
   },
   {
    "duration": 8,
    "start_time": "2022-02-22T13:08:55.603Z"
   },
   {
    "duration": 38,
    "start_time": "2022-02-22T13:08:55.614Z"
   },
   {
    "duration": 11,
    "start_time": "2022-02-22T13:08:55.654Z"
   },
   {
    "duration": 25,
    "start_time": "2022-02-22T13:08:55.667Z"
   },
   {
    "duration": 10,
    "start_time": "2022-02-22T13:08:55.694Z"
   },
   {
    "duration": 28,
    "start_time": "2022-02-22T13:08:55.705Z"
   },
   {
    "duration": 109,
    "start_time": "2022-02-22T13:08:55.735Z"
   },
   {
    "duration": 5,
    "start_time": "2022-02-22T13:08:55.846Z"
   },
   {
    "duration": 59,
    "start_time": "2022-02-22T13:08:55.853Z"
   },
   {
    "duration": 37,
    "start_time": "2022-02-22T13:08:55.913Z"
   },
   {
    "duration": 21,
    "start_time": "2022-02-22T13:08:55.951Z"
   },
   {
    "duration": 7,
    "start_time": "2022-02-22T13:08:55.974Z"
   },
   {
    "duration": 7,
    "start_time": "2022-02-22T13:08:55.982Z"
   },
   {
    "duration": 3,
    "start_time": "2022-02-22T13:08:55.990Z"
   },
   {
    "duration": 37,
    "start_time": "2022-02-22T13:08:55.995Z"
   },
   {
    "duration": 8,
    "start_time": "2022-02-22T13:08:56.034Z"
   },
   {
    "duration": 3,
    "start_time": "2022-02-22T13:08:56.046Z"
   },
   {
    "duration": 6,
    "start_time": "2022-02-22T13:08:56.051Z"
   },
   {
    "duration": 8,
    "start_time": "2022-02-22T13:08:56.060Z"
   },
   {
    "duration": 8,
    "start_time": "2022-02-22T13:08:56.070Z"
   },
   {
    "duration": 10,
    "start_time": "2022-02-22T13:08:56.080Z"
   },
   {
    "duration": 8,
    "start_time": "2022-02-22T13:08:56.091Z"
   },
   {
    "duration": 14,
    "start_time": "2022-02-22T13:08:56.100Z"
   },
   {
    "duration": 18,
    "start_time": "2022-02-22T13:08:56.116Z"
   },
   {
    "duration": 3,
    "start_time": "2022-02-22T13:08:56.135Z"
   },
   {
    "duration": 8,
    "start_time": "2022-02-22T13:08:56.139Z"
   },
   {
    "duration": 10,
    "start_time": "2022-02-22T13:08:56.149Z"
   },
   {
    "duration": 8,
    "start_time": "2022-02-22T13:08:56.160Z"
   },
   {
    "duration": 9,
    "start_time": "2022-02-22T13:08:56.170Z"
   },
   {
    "duration": 10,
    "start_time": "2022-02-22T13:08:56.181Z"
   },
   {
    "duration": 12,
    "start_time": "2022-02-22T13:08:56.192Z"
   },
   {
    "duration": 9,
    "start_time": "2022-02-22T13:08:56.206Z"
   },
   {
    "duration": 6,
    "start_time": "2022-02-22T13:08:56.216Z"
   },
   {
    "duration": 10,
    "start_time": "2022-02-22T13:08:56.224Z"
   },
   {
    "duration": 10,
    "start_time": "2022-02-22T13:08:56.235Z"
   },
   {
    "duration": 8,
    "start_time": "2022-02-22T13:08:56.247Z"
   },
   {
    "duration": 10,
    "start_time": "2022-02-22T13:08:56.257Z"
   },
   {
    "duration": 9,
    "start_time": "2022-02-22T13:08:56.269Z"
   },
   {
    "duration": 11,
    "start_time": "2022-02-22T13:08:56.279Z"
   },
   {
    "duration": 39,
    "start_time": "2022-02-22T13:09:02.269Z"
   },
   {
    "duration": 31,
    "start_time": "2022-02-22T13:09:11.194Z"
   },
   {
    "duration": 702,
    "start_time": "2022-02-22T13:09:35.926Z"
   },
   {
    "duration": 420,
    "start_time": "2022-02-22T13:09:36.630Z"
   },
   {
    "duration": 12,
    "start_time": "2022-02-22T13:09:37.052Z"
   },
   {
    "duration": 7,
    "start_time": "2022-02-22T13:09:37.066Z"
   },
   {
    "duration": 13,
    "start_time": "2022-02-22T13:09:37.074Z"
   },
   {
    "duration": 29,
    "start_time": "2022-02-22T13:09:37.089Z"
   },
   {
    "duration": 17,
    "start_time": "2022-02-22T13:09:37.120Z"
   },
   {
    "duration": 19,
    "start_time": "2022-02-22T13:09:37.141Z"
   },
   {
    "duration": 8,
    "start_time": "2022-02-22T13:09:37.161Z"
   },
   {
    "duration": 16,
    "start_time": "2022-02-22T13:09:37.170Z"
   },
   {
    "duration": 7,
    "start_time": "2022-02-22T13:09:37.187Z"
   },
   {
    "duration": 6,
    "start_time": "2022-02-22T13:09:37.196Z"
   },
   {
    "duration": 162,
    "start_time": "2022-02-22T13:09:37.204Z"
   },
   {
    "duration": 5,
    "start_time": "2022-02-22T13:09:37.368Z"
   },
   {
    "duration": 78,
    "start_time": "2022-02-22T13:09:37.375Z"
   },
   {
    "duration": 23,
    "start_time": "2022-02-22T13:09:37.455Z"
   },
   {
    "duration": 24,
    "start_time": "2022-02-22T13:09:37.479Z"
   },
   {
    "duration": 7,
    "start_time": "2022-02-22T13:09:37.505Z"
   },
   {
    "duration": 24,
    "start_time": "2022-02-22T13:09:37.513Z"
   },
   {
    "duration": 9,
    "start_time": "2022-02-22T13:09:37.539Z"
   },
   {
    "duration": 11,
    "start_time": "2022-02-22T13:09:37.550Z"
   },
   {
    "duration": 6,
    "start_time": "2022-02-22T13:09:37.562Z"
   },
   {
    "duration": 3,
    "start_time": "2022-02-22T13:09:37.571Z"
   },
   {
    "duration": 6,
    "start_time": "2022-02-22T13:09:37.576Z"
   },
   {
    "duration": 8,
    "start_time": "2022-02-22T13:09:37.583Z"
   },
   {
    "duration": 13,
    "start_time": "2022-02-22T13:09:37.593Z"
   },
   {
    "duration": 11,
    "start_time": "2022-02-22T13:09:37.608Z"
   },
   {
    "duration": 15,
    "start_time": "2022-02-22T13:09:37.621Z"
   },
   {
    "duration": 13,
    "start_time": "2022-02-22T13:09:37.639Z"
   },
   {
    "duration": 10,
    "start_time": "2022-02-22T13:09:37.654Z"
   },
   {
    "duration": 10,
    "start_time": "2022-02-22T13:09:37.665Z"
   },
   {
    "duration": 10,
    "start_time": "2022-02-22T13:09:37.676Z"
   },
   {
    "duration": 12,
    "start_time": "2022-02-22T13:09:37.687Z"
   },
   {
    "duration": 7,
    "start_time": "2022-02-22T13:09:37.701Z"
   },
   {
    "duration": 10,
    "start_time": "2022-02-22T13:09:37.710Z"
   },
   {
    "duration": 14,
    "start_time": "2022-02-22T13:09:37.721Z"
   },
   {
    "duration": 15,
    "start_time": "2022-02-22T13:09:37.737Z"
   },
   {
    "duration": 8,
    "start_time": "2022-02-22T13:09:37.754Z"
   },
   {
    "duration": 9,
    "start_time": "2022-02-22T13:09:37.763Z"
   },
   {
    "duration": 12,
    "start_time": "2022-02-22T13:09:37.773Z"
   },
   {
    "duration": 10,
    "start_time": "2022-02-22T13:09:37.786Z"
   },
   {
    "duration": 8,
    "start_time": "2022-02-22T13:09:37.797Z"
   },
   {
    "duration": 13,
    "start_time": "2022-02-22T13:09:37.807Z"
   },
   {
    "duration": 9,
    "start_time": "2022-02-22T13:09:37.822Z"
   },
   {
    "duration": 12,
    "start_time": "2022-02-22T13:09:37.833Z"
   },
   {
    "duration": 76,
    "start_time": "2022-02-22T13:09:37.848Z"
   },
   {
    "duration": 126,
    "start_time": "2022-02-22T13:09:37.926Z"
   },
   {
    "duration": 249,
    "start_time": "2022-02-22T13:09:38.054Z"
   },
   {
    "duration": 255,
    "start_time": "2022-02-22T13:09:38.305Z"
   },
   {
    "duration": 327,
    "start_time": "2022-02-22T13:09:38.562Z"
   },
   {
    "duration": 22,
    "start_time": "2022-02-22T13:09:38.891Z"
   },
   {
    "duration": 56,
    "start_time": "2022-02-22T13:09:38.914Z"
   },
   {
    "duration": 40,
    "start_time": "2022-02-22T13:09:38.971Z"
   },
   {
    "duration": 58,
    "start_time": "2022-02-22T13:09:39.012Z"
   },
   {
    "duration": 97,
    "start_time": "2022-02-22T13:09:39.071Z"
   },
   {
    "duration": 12,
    "start_time": "2022-02-22T13:10:20.443Z"
   },
   {
    "duration": 5,
    "start_time": "2022-02-22T13:10:50.105Z"
   },
   {
    "duration": 2,
    "start_time": "2022-02-22T13:11:06.099Z"
   },
   {
    "duration": 307,
    "start_time": "2022-02-22T13:11:13.345Z"
   },
   {
    "duration": 3,
    "start_time": "2022-02-22T13:11:24.758Z"
   },
   {
    "duration": 429,
    "start_time": "2022-02-22T13:11:24.763Z"
   },
   {
    "duration": 8,
    "start_time": "2022-02-22T13:11:25.194Z"
   },
   {
    "duration": 6,
    "start_time": "2022-02-22T13:11:25.204Z"
   },
   {
    "duration": 8,
    "start_time": "2022-02-22T13:11:25.212Z"
   },
   {
    "duration": 22,
    "start_time": "2022-02-22T13:11:25.221Z"
   },
   {
    "duration": 8,
    "start_time": "2022-02-22T13:11:25.244Z"
   },
   {
    "duration": 13,
    "start_time": "2022-02-22T13:11:25.253Z"
   },
   {
    "duration": 7,
    "start_time": "2022-02-22T13:11:25.269Z"
   },
   {
    "duration": 18,
    "start_time": "2022-02-22T13:11:25.277Z"
   },
   {
    "duration": 9,
    "start_time": "2022-02-22T13:11:25.296Z"
   },
   {
    "duration": 25,
    "start_time": "2022-02-22T13:11:25.307Z"
   },
   {
    "duration": 101,
    "start_time": "2022-02-22T13:11:25.334Z"
   },
   {
    "duration": 4,
    "start_time": "2022-02-22T13:11:25.437Z"
   },
   {
    "duration": 53,
    "start_time": "2022-02-22T13:11:25.442Z"
   },
   {
    "duration": 41,
    "start_time": "2022-02-22T13:11:25.497Z"
   },
   {
    "duration": 22,
    "start_time": "2022-02-22T13:11:25.540Z"
   },
   {
    "duration": 8,
    "start_time": "2022-02-22T13:11:25.564Z"
   },
   {
    "duration": 14,
    "start_time": "2022-02-22T13:11:25.573Z"
   },
   {
    "duration": 32,
    "start_time": "2022-02-22T13:11:25.588Z"
   },
   {
    "duration": 24,
    "start_time": "2022-02-22T13:11:25.622Z"
   },
   {
    "duration": 24,
    "start_time": "2022-02-22T13:11:25.648Z"
   },
   {
    "duration": 22,
    "start_time": "2022-02-22T13:11:25.674Z"
   },
   {
    "duration": 9,
    "start_time": "2022-02-22T13:11:25.697Z"
   },
   {
    "duration": 22,
    "start_time": "2022-02-22T13:11:25.707Z"
   },
   {
    "duration": 22,
    "start_time": "2022-02-22T13:11:25.730Z"
   },
   {
    "duration": 21,
    "start_time": "2022-02-22T13:11:25.755Z"
   },
   {
    "duration": 14,
    "start_time": "2022-02-22T13:11:25.778Z"
   },
   {
    "duration": 23,
    "start_time": "2022-02-22T13:11:25.793Z"
   },
   {
    "duration": 30,
    "start_time": "2022-02-22T13:11:25.818Z"
   },
   {
    "duration": 17,
    "start_time": "2022-02-22T13:11:25.850Z"
   },
   {
    "duration": 28,
    "start_time": "2022-02-22T13:11:25.868Z"
   },
   {
    "duration": 30,
    "start_time": "2022-02-22T13:11:25.898Z"
   },
   {
    "duration": 9,
    "start_time": "2022-02-22T13:11:25.929Z"
   },
   {
    "duration": 26,
    "start_time": "2022-02-22T13:11:25.940Z"
   },
   {
    "duration": 24,
    "start_time": "2022-02-22T13:11:25.968Z"
   },
   {
    "duration": 25,
    "start_time": "2022-02-22T13:11:25.994Z"
   },
   {
    "duration": 11,
    "start_time": "2022-02-22T13:11:26.021Z"
   },
   {
    "duration": 30,
    "start_time": "2022-02-22T13:11:26.034Z"
   },
   {
    "duration": 18,
    "start_time": "2022-02-22T13:11:26.065Z"
   },
   {
    "duration": 28,
    "start_time": "2022-02-22T13:11:26.085Z"
   },
   {
    "duration": 13,
    "start_time": "2022-02-22T13:11:26.115Z"
   },
   {
    "duration": 19,
    "start_time": "2022-02-22T13:11:26.130Z"
   },
   {
    "duration": 21,
    "start_time": "2022-02-22T13:11:26.150Z"
   },
   {
    "duration": 16,
    "start_time": "2022-02-22T13:11:26.173Z"
   },
   {
    "duration": 93,
    "start_time": "2022-02-22T13:11:26.190Z"
   },
   {
    "duration": 109,
    "start_time": "2022-02-22T13:11:26.285Z"
   },
   {
    "duration": 231,
    "start_time": "2022-02-22T13:11:26.396Z"
   },
   {
    "duration": 237,
    "start_time": "2022-02-22T13:11:26.632Z"
   },
   {
    "duration": 228,
    "start_time": "2022-02-22T13:11:26.871Z"
   },
   {
    "duration": 31,
    "start_time": "2022-02-22T13:11:27.101Z"
   },
   {
    "duration": 36,
    "start_time": "2022-02-22T13:11:27.134Z"
   },
   {
    "duration": 36,
    "start_time": "2022-02-22T13:11:27.171Z"
   },
   {
    "duration": 50,
    "start_time": "2022-02-22T13:11:27.209Z"
   },
   {
    "duration": 8,
    "start_time": "2022-02-22T13:11:27.261Z"
   },
   {
    "duration": 19,
    "start_time": "2022-02-22T13:11:27.270Z"
   },
   {
    "duration": 14,
    "start_time": "2022-02-22T13:13:08.764Z"
   },
   {
    "duration": 8,
    "start_time": "2022-02-22T13:14:46.754Z"
   },
   {
    "duration": 12,
    "start_time": "2022-02-22T13:14:50.414Z"
   },
   {
    "duration": 9,
    "start_time": "2022-02-22T13:16:10.206Z"
   },
   {
    "duration": 11,
    "start_time": "2022-02-22T13:16:12.501Z"
   },
   {
    "duration": 3,
    "start_time": "2022-02-22T13:18:35.103Z"
   },
   {
    "duration": 9,
    "start_time": "2022-02-22T13:18:38.187Z"
   },
   {
    "duration": 11,
    "start_time": "2022-02-22T13:18:38.557Z"
   },
   {
    "duration": 12,
    "start_time": "2022-02-22T13:31:41.319Z"
   },
   {
    "duration": 13,
    "start_time": "2022-02-22T13:31:52.591Z"
   },
   {
    "duration": 4,
    "start_time": "2022-02-22T13:32:45.919Z"
   },
   {
    "duration": 11,
    "start_time": "2022-02-22T13:38:14.290Z"
   },
   {
    "duration": 5,
    "start_time": "2022-02-22T13:39:56.889Z"
   },
   {
    "duration": 11,
    "start_time": "2022-02-22T13:40:24.736Z"
   },
   {
    "duration": 4,
    "start_time": "2022-02-22T13:40:30.496Z"
   },
   {
    "duration": 12,
    "start_time": "2022-02-22T13:42:53.790Z"
   },
   {
    "duration": 258,
    "start_time": "2022-02-22T13:43:23.012Z"
   },
   {
    "duration": 6,
    "start_time": "2022-02-22T13:43:32.851Z"
   },
   {
    "duration": 34,
    "start_time": "2022-02-22T13:47:41.741Z"
   },
   {
    "duration": 643,
    "start_time": "2022-02-22T13:47:53.351Z"
   },
   {
    "duration": 389,
    "start_time": "2022-02-22T13:47:53.995Z"
   },
   {
    "duration": 11,
    "start_time": "2022-02-22T13:47:54.386Z"
   },
   {
    "duration": 7,
    "start_time": "2022-02-22T13:47:54.399Z"
   },
   {
    "duration": 8,
    "start_time": "2022-02-22T13:47:54.408Z"
   },
   {
    "duration": 20,
    "start_time": "2022-02-22T13:47:54.417Z"
   },
   {
    "duration": 7,
    "start_time": "2022-02-22T13:47:54.438Z"
   },
   {
    "duration": 13,
    "start_time": "2022-02-22T13:47:54.447Z"
   },
   {
    "duration": 7,
    "start_time": "2022-02-22T13:47:54.462Z"
   },
   {
    "duration": 16,
    "start_time": "2022-02-22T13:47:54.470Z"
   },
   {
    "duration": 7,
    "start_time": "2022-02-22T13:47:54.487Z"
   },
   {
    "duration": 39,
    "start_time": "2022-02-22T13:47:54.495Z"
   },
   {
    "duration": 108,
    "start_time": "2022-02-22T13:47:54.535Z"
   },
   {
    "duration": 6,
    "start_time": "2022-02-22T13:47:54.644Z"
   },
   {
    "duration": 63,
    "start_time": "2022-02-22T13:47:54.651Z"
   },
   {
    "duration": 37,
    "start_time": "2022-02-22T13:47:54.716Z"
   },
   {
    "duration": 24,
    "start_time": "2022-02-22T13:47:54.754Z"
   },
   {
    "duration": 8,
    "start_time": "2022-02-22T13:47:54.780Z"
   },
   {
    "duration": 6,
    "start_time": "2022-02-22T13:47:54.789Z"
   },
   {
    "duration": 35,
    "start_time": "2022-02-22T13:47:54.797Z"
   },
   {
    "duration": 11,
    "start_time": "2022-02-22T13:47:54.833Z"
   },
   {
    "duration": 7,
    "start_time": "2022-02-22T13:47:54.846Z"
   },
   {
    "duration": 3,
    "start_time": "2022-02-22T13:47:54.857Z"
   },
   {
    "duration": 4,
    "start_time": "2022-02-22T13:47:54.862Z"
   },
   {
    "duration": 7,
    "start_time": "2022-02-22T13:47:54.868Z"
   },
   {
    "duration": 10,
    "start_time": "2022-02-22T13:47:54.877Z"
   },
   {
    "duration": 9,
    "start_time": "2022-02-22T13:47:54.888Z"
   },
   {
    "duration": 7,
    "start_time": "2022-02-22T13:47:54.899Z"
   },
   {
    "duration": 11,
    "start_time": "2022-02-22T13:47:54.908Z"
   },
   {
    "duration": 12,
    "start_time": "2022-02-22T13:47:54.921Z"
   },
   {
    "duration": 10,
    "start_time": "2022-02-22T13:47:54.935Z"
   },
   {
    "duration": 9,
    "start_time": "2022-02-22T13:47:54.947Z"
   },
   {
    "duration": 10,
    "start_time": "2022-02-22T13:47:54.957Z"
   },
   {
    "duration": 8,
    "start_time": "2022-02-22T13:47:54.969Z"
   },
   {
    "duration": 10,
    "start_time": "2022-02-22T13:47:54.978Z"
   },
   {
    "duration": 7,
    "start_time": "2022-02-22T13:47:54.989Z"
   },
   {
    "duration": 12,
    "start_time": "2022-02-22T13:47:54.997Z"
   },
   {
    "duration": 12,
    "start_time": "2022-02-22T13:47:55.010Z"
   },
   {
    "duration": 7,
    "start_time": "2022-02-22T13:47:55.023Z"
   },
   {
    "duration": 11,
    "start_time": "2022-02-22T13:47:55.031Z"
   },
   {
    "duration": 10,
    "start_time": "2022-02-22T13:47:55.043Z"
   },
   {
    "duration": 14,
    "start_time": "2022-02-22T13:47:55.054Z"
   },
   {
    "duration": 10,
    "start_time": "2022-02-22T13:47:55.069Z"
   },
   {
    "duration": 10,
    "start_time": "2022-02-22T13:47:55.080Z"
   },
   {
    "duration": 9,
    "start_time": "2022-02-22T13:47:55.091Z"
   },
   {
    "duration": 75,
    "start_time": "2022-02-22T13:47:55.101Z"
   },
   {
    "duration": 3,
    "start_time": "2022-02-22T13:47:55.178Z"
   },
   {
    "duration": 7,
    "start_time": "2022-02-22T13:47:55.183Z"
   },
   {
    "duration": 8,
    "start_time": "2022-02-22T13:47:55.192Z"
   },
   {
    "duration": 123,
    "start_time": "2022-02-22T13:47:55.201Z"
   },
   {
    "duration": 222,
    "start_time": "2022-02-22T13:47:55.331Z"
   },
   {
    "duration": 232,
    "start_time": "2022-02-22T13:47:55.555Z"
   },
   {
    "duration": 215,
    "start_time": "2022-02-22T13:47:55.789Z"
   },
   {
    "duration": 31,
    "start_time": "2022-02-22T13:47:56.005Z"
   },
   {
    "duration": 40,
    "start_time": "2022-02-22T13:47:56.037Z"
   },
   {
    "duration": 59,
    "start_time": "2022-02-22T13:47:56.079Z"
   },
   {
    "duration": 34,
    "start_time": "2022-02-22T13:47:56.140Z"
   },
   {
    "duration": 7,
    "start_time": "2022-02-22T13:47:56.176Z"
   },
   {
    "duration": 11,
    "start_time": "2022-02-22T13:47:56.185Z"
   },
   {
    "duration": 4,
    "start_time": "2022-02-22T13:47:56.197Z"
   },
   {
    "duration": 3,
    "start_time": "2022-02-22T13:49:22.682Z"
   },
   {
    "duration": 397,
    "start_time": "2022-02-22T13:49:22.687Z"
   },
   {
    "duration": 9,
    "start_time": "2022-02-22T13:49:23.087Z"
   },
   {
    "duration": 15,
    "start_time": "2022-02-22T13:49:23.097Z"
   },
   {
    "duration": 8,
    "start_time": "2022-02-22T13:49:23.114Z"
   },
   {
    "duration": 20,
    "start_time": "2022-02-22T13:49:23.123Z"
   },
   {
    "duration": 6,
    "start_time": "2022-02-22T13:49:23.144Z"
   },
   {
    "duration": 14,
    "start_time": "2022-02-22T13:49:23.152Z"
   },
   {
    "duration": 7,
    "start_time": "2022-02-22T13:49:23.168Z"
   },
   {
    "duration": 17,
    "start_time": "2022-02-22T13:49:23.177Z"
   },
   {
    "duration": 7,
    "start_time": "2022-02-22T13:49:23.195Z"
   },
   {
    "duration": 29,
    "start_time": "2022-02-22T13:49:23.203Z"
   },
   {
    "duration": 100,
    "start_time": "2022-02-22T13:49:23.233Z"
   },
   {
    "duration": 4,
    "start_time": "2022-02-22T13:49:23.335Z"
   },
   {
    "duration": 49,
    "start_time": "2022-02-22T13:49:23.340Z"
   },
   {
    "duration": 21,
    "start_time": "2022-02-22T13:49:23.391Z"
   },
   {
    "duration": 21,
    "start_time": "2022-02-22T13:49:23.432Z"
   },
   {
    "duration": 8,
    "start_time": "2022-02-22T13:49:23.454Z"
   },
   {
    "duration": 5,
    "start_time": "2022-02-22T13:49:23.463Z"
   },
   {
    "duration": 4,
    "start_time": "2022-02-22T13:49:23.469Z"
   },
   {
    "duration": 8,
    "start_time": "2022-02-22T13:49:23.474Z"
   },
   {
    "duration": 6,
    "start_time": "2022-02-22T13:49:23.484Z"
   },
   {
    "duration": 3,
    "start_time": "2022-02-22T13:49:23.491Z"
   },
   {
    "duration": 36,
    "start_time": "2022-02-22T13:49:23.496Z"
   },
   {
    "duration": 7,
    "start_time": "2022-02-22T13:49:23.533Z"
   },
   {
    "duration": 10,
    "start_time": "2022-02-22T13:49:23.542Z"
   },
   {
    "duration": 8,
    "start_time": "2022-02-22T13:49:23.556Z"
   },
   {
    "duration": 7,
    "start_time": "2022-02-22T13:49:23.565Z"
   },
   {
    "duration": 12,
    "start_time": "2022-02-22T13:49:23.574Z"
   },
   {
    "duration": 8,
    "start_time": "2022-02-22T13:49:23.588Z"
   },
   {
    "duration": 7,
    "start_time": "2022-02-22T13:49:23.598Z"
   },
   {
    "duration": 9,
    "start_time": "2022-02-22T13:49:23.606Z"
   },
   {
    "duration": 11,
    "start_time": "2022-02-22T13:49:23.617Z"
   },
   {
    "duration": 8,
    "start_time": "2022-02-22T13:49:23.629Z"
   },
   {
    "duration": 10,
    "start_time": "2022-02-22T13:49:23.639Z"
   },
   {
    "duration": 7,
    "start_time": "2022-02-22T13:49:23.651Z"
   },
   {
    "duration": 15,
    "start_time": "2022-02-22T13:49:23.660Z"
   },
   {
    "duration": 9,
    "start_time": "2022-02-22T13:49:23.676Z"
   },
   {
    "duration": 7,
    "start_time": "2022-02-22T13:49:23.686Z"
   },
   {
    "duration": 14,
    "start_time": "2022-02-22T13:49:23.694Z"
   },
   {
    "duration": 10,
    "start_time": "2022-02-22T13:49:23.710Z"
   },
   {
    "duration": 7,
    "start_time": "2022-02-22T13:49:23.722Z"
   },
   {
    "duration": 11,
    "start_time": "2022-02-22T13:49:23.731Z"
   },
   {
    "duration": 11,
    "start_time": "2022-02-22T13:49:23.743Z"
   },
   {
    "duration": 11,
    "start_time": "2022-02-22T13:49:23.756Z"
   },
   {
    "duration": 87,
    "start_time": "2022-02-22T13:49:23.768Z"
   },
   {
    "duration": 4,
    "start_time": "2022-02-22T13:49:23.856Z"
   },
   {
    "duration": 9,
    "start_time": "2022-02-22T13:49:23.861Z"
   },
   {
    "duration": 5,
    "start_time": "2022-02-22T13:49:29.481Z"
   },
   {
    "duration": 10,
    "start_time": "2022-02-22T13:49:29.947Z"
   },
   {
    "duration": 11,
    "start_time": "2022-02-22T13:49:30.412Z"
   },
   {
    "duration": 7,
    "start_time": "2022-02-22T13:49:41.335Z"
   },
   {
    "duration": 13,
    "start_time": "2022-02-22T13:49:47.677Z"
   },
   {
    "duration": 2,
    "start_time": "2022-02-22T13:49:55.475Z"
   },
   {
    "duration": 393,
    "start_time": "2022-02-22T13:49:55.480Z"
   },
   {
    "duration": 9,
    "start_time": "2022-02-22T13:49:55.875Z"
   },
   {
    "duration": 6,
    "start_time": "2022-02-22T13:49:55.886Z"
   },
   {
    "duration": 7,
    "start_time": "2022-02-22T13:49:55.893Z"
   },
   {
    "duration": 20,
    "start_time": "2022-02-22T13:49:55.902Z"
   },
   {
    "duration": 7,
    "start_time": "2022-02-22T13:49:55.923Z"
   },
   {
    "duration": 14,
    "start_time": "2022-02-22T13:49:55.931Z"
   },
   {
    "duration": 7,
    "start_time": "2022-02-22T13:49:55.948Z"
   },
   {
    "duration": 21,
    "start_time": "2022-02-22T13:49:55.957Z"
   },
   {
    "duration": 7,
    "start_time": "2022-02-22T13:49:55.980Z"
   },
   {
    "duration": 10,
    "start_time": "2022-02-22T13:49:55.988Z"
   },
   {
    "duration": 120,
    "start_time": "2022-02-22T13:49:56.000Z"
   },
   {
    "duration": 4,
    "start_time": "2022-02-22T13:49:56.122Z"
   },
   {
    "duration": 58,
    "start_time": "2022-02-22T13:49:56.128Z"
   },
   {
    "duration": 23,
    "start_time": "2022-02-22T13:49:56.188Z"
   },
   {
    "duration": 33,
    "start_time": "2022-02-22T13:49:56.213Z"
   },
   {
    "duration": 7,
    "start_time": "2022-02-22T13:49:56.248Z"
   },
   {
    "duration": 6,
    "start_time": "2022-02-22T13:49:56.256Z"
   },
   {
    "duration": 3,
    "start_time": "2022-02-22T13:49:56.263Z"
   },
   {
    "duration": 8,
    "start_time": "2022-02-22T13:49:56.267Z"
   },
   {
    "duration": 6,
    "start_time": "2022-02-22T13:49:56.277Z"
   },
   {
    "duration": 3,
    "start_time": "2022-02-22T13:49:56.284Z"
   },
   {
    "duration": 9,
    "start_time": "2022-02-22T13:49:56.288Z"
   },
   {
    "duration": 35,
    "start_time": "2022-02-22T13:49:56.298Z"
   },
   {
    "duration": 3,
    "start_time": "2022-02-22T13:49:56.335Z"
   },
   {
    "duration": 9,
    "start_time": "2022-02-22T13:49:56.341Z"
   },
   {
    "duration": 10,
    "start_time": "2022-02-22T13:49:56.351Z"
   },
   {
    "duration": 13,
    "start_time": "2022-02-22T13:49:56.362Z"
   },
   {
    "duration": 8,
    "start_time": "2022-02-22T13:49:56.376Z"
   },
   {
    "duration": 6,
    "start_time": "2022-02-22T13:49:56.386Z"
   },
   {
    "duration": 9,
    "start_time": "2022-02-22T13:49:56.393Z"
   },
   {
    "duration": 11,
    "start_time": "2022-02-22T13:49:56.403Z"
   },
   {
    "duration": 7,
    "start_time": "2022-02-22T13:49:56.415Z"
   },
   {
    "duration": 9,
    "start_time": "2022-02-22T13:49:56.423Z"
   },
   {
    "duration": 6,
    "start_time": "2022-02-22T13:49:56.433Z"
   },
   {
    "duration": 12,
    "start_time": "2022-02-22T13:49:56.441Z"
   },
   {
    "duration": 9,
    "start_time": "2022-02-22T13:49:56.454Z"
   },
   {
    "duration": 4,
    "start_time": "2022-02-22T13:49:56.465Z"
   },
   {
    "duration": 8,
    "start_time": "2022-02-22T13:49:56.471Z"
   },
   {
    "duration": 11,
    "start_time": "2022-02-22T13:49:56.480Z"
   },
   {
    "duration": 13,
    "start_time": "2022-02-22T13:49:56.492Z"
   },
   {
    "duration": 10,
    "start_time": "2022-02-22T13:49:56.506Z"
   },
   {
    "duration": 8,
    "start_time": "2022-02-22T13:49:56.517Z"
   },
   {
    "duration": 10,
    "start_time": "2022-02-22T13:49:56.526Z"
   },
   {
    "duration": 353,
    "start_time": "2022-02-22T13:50:00.256Z"
   },
   {
    "duration": 41,
    "start_time": "2022-02-22T13:50:00.793Z"
   },
   {
    "duration": 2,
    "start_time": "2022-02-22T13:50:14.794Z"
   },
   {
    "duration": 386,
    "start_time": "2022-02-22T13:50:14.798Z"
   },
   {
    "duration": 10,
    "start_time": "2022-02-22T13:50:15.186Z"
   },
   {
    "duration": 6,
    "start_time": "2022-02-22T13:50:15.197Z"
   },
   {
    "duration": 10,
    "start_time": "2022-02-22T13:50:15.205Z"
   },
   {
    "duration": 20,
    "start_time": "2022-02-22T13:50:15.216Z"
   },
   {
    "duration": 7,
    "start_time": "2022-02-22T13:50:15.237Z"
   },
   {
    "duration": 15,
    "start_time": "2022-02-22T13:50:15.246Z"
   },
   {
    "duration": 9,
    "start_time": "2022-02-22T13:50:15.262Z"
   },
   {
    "duration": 23,
    "start_time": "2022-02-22T13:50:15.272Z"
   },
   {
    "duration": 9,
    "start_time": "2022-02-22T13:50:15.297Z"
   },
   {
    "duration": 25,
    "start_time": "2022-02-22T13:50:15.307Z"
   },
   {
    "duration": 104,
    "start_time": "2022-02-22T13:50:15.334Z"
   },
   {
    "duration": 4,
    "start_time": "2022-02-22T13:50:15.439Z"
   },
   {
    "duration": 52,
    "start_time": "2022-02-22T13:50:15.444Z"
   },
   {
    "duration": 38,
    "start_time": "2022-02-22T13:50:15.498Z"
   },
   {
    "duration": 20,
    "start_time": "2022-02-22T13:50:15.538Z"
   },
   {
    "duration": 7,
    "start_time": "2022-02-22T13:50:15.560Z"
   },
   {
    "duration": 4,
    "start_time": "2022-02-22T13:50:15.570Z"
   },
   {
    "duration": 3,
    "start_time": "2022-02-22T13:50:15.576Z"
   },
   {
    "duration": 9,
    "start_time": "2022-02-22T13:50:15.580Z"
   },
   {
    "duration": 6,
    "start_time": "2022-02-22T13:50:15.590Z"
   },
   {
    "duration": 3,
    "start_time": "2022-02-22T13:50:15.598Z"
   },
   {
    "duration": 3,
    "start_time": "2022-02-22T13:50:15.632Z"
   },
   {
    "duration": 7,
    "start_time": "2022-02-22T13:50:15.637Z"
   },
   {
    "duration": 6,
    "start_time": "2022-02-22T13:50:15.646Z"
   },
   {
    "duration": 9,
    "start_time": "2022-02-22T13:50:15.654Z"
   },
   {
    "duration": 8,
    "start_time": "2022-02-22T13:50:15.664Z"
   },
   {
    "duration": 12,
    "start_time": "2022-02-22T13:50:15.673Z"
   },
   {
    "duration": 10,
    "start_time": "2022-02-22T13:50:15.686Z"
   },
   {
    "duration": 7,
    "start_time": "2022-02-22T13:50:15.698Z"
   },
   {
    "duration": 10,
    "start_time": "2022-02-22T13:50:15.706Z"
   },
   {
    "duration": 12,
    "start_time": "2022-02-22T13:50:15.718Z"
   },
   {
    "duration": 8,
    "start_time": "2022-02-22T13:50:15.732Z"
   },
   {
    "duration": 10,
    "start_time": "2022-02-22T13:50:15.741Z"
   },
   {
    "duration": 8,
    "start_time": "2022-02-22T13:50:15.752Z"
   },
   {
    "duration": 12,
    "start_time": "2022-02-22T13:50:15.761Z"
   },
   {
    "duration": 9,
    "start_time": "2022-02-22T13:50:15.774Z"
   },
   {
    "duration": 11,
    "start_time": "2022-02-22T13:50:15.785Z"
   },
   {
    "duration": 11,
    "start_time": "2022-02-22T13:50:15.798Z"
   },
   {
    "duration": 10,
    "start_time": "2022-02-22T13:50:15.811Z"
   },
   {
    "duration": 10,
    "start_time": "2022-02-22T13:50:15.822Z"
   },
   {
    "duration": 13,
    "start_time": "2022-02-22T13:50:15.834Z"
   },
   {
    "duration": 8,
    "start_time": "2022-02-22T13:50:15.849Z"
   },
   {
    "duration": 9,
    "start_time": "2022-02-22T13:50:15.859Z"
   },
   {
    "duration": 35,
    "start_time": "2022-02-22T13:50:19.143Z"
   },
   {
    "duration": 358,
    "start_time": "2022-02-22T13:50:23.624Z"
   },
   {
    "duration": 33,
    "start_time": "2022-02-22T13:50:32.249Z"
   },
   {
    "duration": 5,
    "start_time": "2022-02-22T13:50:38.138Z"
   },
   {
    "duration": 6,
    "start_time": "2022-02-22T13:50:48.144Z"
   },
   {
    "duration": 3,
    "start_time": "2022-02-22T13:52:40.159Z"
   },
   {
    "duration": 381,
    "start_time": "2022-02-22T13:52:40.164Z"
   },
   {
    "duration": 11,
    "start_time": "2022-02-22T13:52:40.547Z"
   },
   {
    "duration": 8,
    "start_time": "2022-02-22T13:52:40.560Z"
   },
   {
    "duration": 9,
    "start_time": "2022-02-22T13:52:40.569Z"
   },
   {
    "duration": 23,
    "start_time": "2022-02-22T13:52:40.579Z"
   },
   {
    "duration": 8,
    "start_time": "2022-02-22T13:52:40.603Z"
   },
   {
    "duration": 13,
    "start_time": "2022-02-22T13:52:40.633Z"
   },
   {
    "duration": 8,
    "start_time": "2022-02-22T13:52:40.649Z"
   },
   {
    "duration": 19,
    "start_time": "2022-02-22T13:52:40.658Z"
   },
   {
    "duration": 7,
    "start_time": "2022-02-22T13:52:40.678Z"
   },
   {
    "duration": 9,
    "start_time": "2022-02-22T13:52:40.687Z"
   },
   {
    "duration": 121,
    "start_time": "2022-02-22T13:52:40.697Z"
   },
   {
    "duration": 5,
    "start_time": "2022-02-22T13:52:40.820Z"
   },
   {
    "duration": 55,
    "start_time": "2022-02-22T13:52:40.826Z"
   },
   {
    "duration": 23,
    "start_time": "2022-02-22T13:52:40.883Z"
   },
   {
    "duration": 43,
    "start_time": "2022-02-22T13:52:40.908Z"
   },
   {
    "duration": 8,
    "start_time": "2022-02-22T13:52:40.953Z"
   },
   {
    "duration": 5,
    "start_time": "2022-02-22T13:52:40.963Z"
   },
   {
    "duration": 3,
    "start_time": "2022-02-22T13:52:40.969Z"
   },
   {
    "duration": 9,
    "start_time": "2022-02-22T13:52:40.973Z"
   },
   {
    "duration": 7,
    "start_time": "2022-02-22T13:52:40.983Z"
   },
   {
    "duration": 4,
    "start_time": "2022-02-22T13:52:40.993Z"
   },
   {
    "duration": 5,
    "start_time": "2022-02-22T13:52:41.031Z"
   },
   {
    "duration": 7,
    "start_time": "2022-02-22T13:52:41.037Z"
   },
   {
    "duration": 7,
    "start_time": "2022-02-22T13:52:41.045Z"
   },
   {
    "duration": 9,
    "start_time": "2022-02-22T13:52:41.054Z"
   },
   {
    "duration": 5,
    "start_time": "2022-02-22T13:52:41.065Z"
   },
   {
    "duration": 13,
    "start_time": "2022-02-22T13:52:41.071Z"
   },
   {
    "duration": 9,
    "start_time": "2022-02-22T13:52:41.085Z"
   },
   {
    "duration": 6,
    "start_time": "2022-02-22T13:52:41.095Z"
   },
   {
    "duration": 11,
    "start_time": "2022-02-22T13:52:41.102Z"
   },
   {
    "duration": 11,
    "start_time": "2022-02-22T13:52:41.114Z"
   },
   {
    "duration": 3,
    "start_time": "2022-02-22T13:52:41.132Z"
   },
   {
    "duration": 11,
    "start_time": "2022-02-22T13:52:41.137Z"
   },
   {
    "duration": 7,
    "start_time": "2022-02-22T13:52:41.150Z"
   },
   {
    "duration": 12,
    "start_time": "2022-02-22T13:52:41.158Z"
   },
   {
    "duration": 9,
    "start_time": "2022-02-22T13:52:41.172Z"
   },
   {
    "duration": 7,
    "start_time": "2022-02-22T13:52:41.183Z"
   },
   {
    "duration": 8,
    "start_time": "2022-02-22T13:52:41.192Z"
   },
   {
    "duration": 11,
    "start_time": "2022-02-22T13:52:41.202Z"
   },
   {
    "duration": 10,
    "start_time": "2022-02-22T13:52:41.214Z"
   },
   {
    "duration": 15,
    "start_time": "2022-02-22T13:52:41.226Z"
   },
   {
    "duration": 8,
    "start_time": "2022-02-22T13:52:41.243Z"
   },
   {
    "duration": 10,
    "start_time": "2022-02-22T13:52:41.253Z"
   },
   {
    "duration": 46,
    "start_time": "2022-02-22T13:52:41.264Z"
   },
   {
    "duration": 31,
    "start_time": "2022-02-22T13:52:46.618Z"
   },
   {
    "duration": 17,
    "start_time": "2022-02-22T13:53:51.795Z"
   },
   {
    "duration": 76,
    "start_time": "2022-02-22T13:54:52.593Z"
   },
   {
    "duration": 32,
    "start_time": "2022-02-22T13:54:57.748Z"
   },
   {
    "duration": 40,
    "start_time": "2022-02-22T13:55:16.820Z"
   },
   {
    "duration": 32,
    "start_time": "2022-02-22T13:55:23.799Z"
   },
   {
    "duration": 23,
    "start_time": "2022-02-22T13:57:20.428Z"
   },
   {
    "duration": 70,
    "start_time": "2022-02-22T13:57:33.860Z"
   },
   {
    "duration": 7,
    "start_time": "2022-02-22T13:58:14.591Z"
   },
   {
    "duration": 286,
    "start_time": "2022-02-22T13:58:24.410Z"
   },
   {
    "duration": 667,
    "start_time": "2022-02-22T13:58:46.722Z"
   },
   {
    "duration": 410,
    "start_time": "2022-02-22T13:58:47.391Z"
   },
   {
    "duration": 13,
    "start_time": "2022-02-22T13:58:47.803Z"
   },
   {
    "duration": 7,
    "start_time": "2022-02-22T13:58:47.817Z"
   },
   {
    "duration": 11,
    "start_time": "2022-02-22T13:58:47.826Z"
   },
   {
    "duration": 22,
    "start_time": "2022-02-22T13:58:47.839Z"
   },
   {
    "duration": 7,
    "start_time": "2022-02-22T13:58:47.863Z"
   },
   {
    "duration": 12,
    "start_time": "2022-02-22T13:58:47.872Z"
   },
   {
    "duration": 7,
    "start_time": "2022-02-22T13:58:47.886Z"
   },
   {
    "duration": 38,
    "start_time": "2022-02-22T13:58:47.894Z"
   },
   {
    "duration": 8,
    "start_time": "2022-02-22T13:58:47.933Z"
   },
   {
    "duration": 7,
    "start_time": "2022-02-22T13:58:47.942Z"
   },
   {
    "duration": 120,
    "start_time": "2022-02-22T13:58:47.950Z"
   },
   {
    "duration": 5,
    "start_time": "2022-02-22T13:58:48.072Z"
   },
   {
    "duration": 72,
    "start_time": "2022-02-22T13:58:48.079Z"
   },
   {
    "duration": 24,
    "start_time": "2022-02-22T13:58:48.153Z"
   },
   {
    "duration": 25,
    "start_time": "2022-02-22T13:58:48.178Z"
   },
   {
    "duration": 8,
    "start_time": "2022-02-22T13:58:48.205Z"
   },
   {
    "duration": 6,
    "start_time": "2022-02-22T13:58:48.232Z"
   },
   {
    "duration": 6,
    "start_time": "2022-02-22T13:58:48.240Z"
   },
   {
    "duration": 11,
    "start_time": "2022-02-22T13:58:48.247Z"
   },
   {
    "duration": 6,
    "start_time": "2022-02-22T13:58:48.261Z"
   },
   {
    "duration": 3,
    "start_time": "2022-02-22T13:58:48.269Z"
   },
   {
    "duration": 5,
    "start_time": "2022-02-22T13:58:48.274Z"
   },
   {
    "duration": 10,
    "start_time": "2022-02-22T13:58:48.281Z"
   },
   {
    "duration": 8,
    "start_time": "2022-02-22T13:58:48.292Z"
   },
   {
    "duration": 31,
    "start_time": "2022-02-22T13:58:48.301Z"
   },
   {
    "duration": 3,
    "start_time": "2022-02-22T13:58:48.333Z"
   },
   {
    "duration": 10,
    "start_time": "2022-02-22T13:58:48.338Z"
   },
   {
    "duration": 10,
    "start_time": "2022-02-22T13:58:48.349Z"
   },
   {
    "duration": 18,
    "start_time": "2022-02-22T13:58:48.361Z"
   },
   {
    "duration": 15,
    "start_time": "2022-02-22T13:58:48.381Z"
   },
   {
    "duration": 16,
    "start_time": "2022-02-22T13:58:48.397Z"
   },
   {
    "duration": 8,
    "start_time": "2022-02-22T13:58:48.415Z"
   },
   {
    "duration": 10,
    "start_time": "2022-02-22T13:58:48.424Z"
   },
   {
    "duration": 8,
    "start_time": "2022-02-22T13:58:48.436Z"
   },
   {
    "duration": 17,
    "start_time": "2022-02-22T13:58:48.445Z"
   },
   {
    "duration": 13,
    "start_time": "2022-02-22T13:58:48.464Z"
   },
   {
    "duration": 10,
    "start_time": "2022-02-22T13:58:48.478Z"
   },
   {
    "duration": 12,
    "start_time": "2022-02-22T13:58:48.490Z"
   },
   {
    "duration": 10,
    "start_time": "2022-02-22T13:58:48.504Z"
   },
   {
    "duration": 8,
    "start_time": "2022-02-22T13:58:48.516Z"
   },
   {
    "duration": 10,
    "start_time": "2022-02-22T13:58:48.526Z"
   },
   {
    "duration": 9,
    "start_time": "2022-02-22T13:58:48.538Z"
   },
   {
    "duration": 10,
    "start_time": "2022-02-22T13:58:48.549Z"
   },
   {
    "duration": 77,
    "start_time": "2022-02-22T13:58:48.560Z"
   },
   {
    "duration": 4,
    "start_time": "2022-02-22T13:58:48.639Z"
   },
   {
    "duration": 6,
    "start_time": "2022-02-22T13:58:48.645Z"
   },
   {
    "duration": 7,
    "start_time": "2022-02-22T13:58:48.653Z"
   },
   {
    "duration": 12,
    "start_time": "2022-02-22T13:58:48.662Z"
   },
   {
    "duration": 145,
    "start_time": "2022-02-22T13:58:48.676Z"
   },
   {
    "duration": 247,
    "start_time": "2022-02-22T13:58:48.823Z"
   },
   {
    "duration": 240,
    "start_time": "2022-02-22T13:58:49.071Z"
   },
   {
    "duration": 223,
    "start_time": "2022-02-22T13:58:49.313Z"
   },
   {
    "duration": 39,
    "start_time": "2022-02-22T13:58:49.538Z"
   },
   {
    "duration": 55,
    "start_time": "2022-02-22T13:58:49.578Z"
   },
   {
    "duration": 37,
    "start_time": "2022-02-22T13:58:49.634Z"
   },
   {
    "duration": 22,
    "start_time": "2022-02-22T13:58:49.672Z"
   },
   {
    "duration": 3,
    "start_time": "2022-02-22T13:58:49.695Z"
   },
   {
    "duration": 36,
    "start_time": "2022-02-22T13:58:49.699Z"
   },
   {
    "duration": 7,
    "start_time": "2022-02-22T13:58:49.737Z"
   },
   {
    "duration": 12,
    "start_time": "2022-02-22T13:58:49.746Z"
   },
   {
    "duration": 3,
    "start_time": "2022-02-22T13:58:49.759Z"
   },
   {
    "duration": 5,
    "start_time": "2022-02-22T14:05:20.339Z"
   },
   {
    "duration": 2,
    "start_time": "2022-02-22T14:05:50.253Z"
   },
   {
    "duration": 14,
    "start_time": "2022-02-22T14:06:40.790Z"
   },
   {
    "duration": 20,
    "start_time": "2022-02-22T14:07:19.696Z"
   },
   {
    "duration": 13,
    "start_time": "2022-02-22T14:07:53.488Z"
   },
   {
    "duration": 7413,
    "start_time": "2022-02-22T14:08:31.939Z"
   },
   {
    "duration": 240,
    "start_time": "2022-02-22T14:08:53.085Z"
   },
   {
    "duration": 257,
    "start_time": "2022-02-22T14:09:38.761Z"
   },
   {
    "duration": 86,
    "start_time": "2022-02-22T14:09:46.806Z"
   },
   {
    "duration": 254,
    "start_time": "2022-02-22T14:09:50.891Z"
   },
   {
    "duration": 5,
    "start_time": "2022-02-22T14:14:53.428Z"
   },
   {
    "duration": 5,
    "start_time": "2022-02-22T14:15:04.288Z"
   },
   {
    "duration": 5,
    "start_time": "2022-02-22T14:15:14.407Z"
   },
   {
    "duration": 268,
    "start_time": "2022-02-22T14:25:37.422Z"
   },
   {
    "duration": 3,
    "start_time": "2022-02-22T14:25:44.361Z"
   },
   {
    "duration": 400,
    "start_time": "2022-02-22T14:25:44.366Z"
   },
   {
    "duration": 10,
    "start_time": "2022-02-22T14:25:44.768Z"
   },
   {
    "duration": 6,
    "start_time": "2022-02-22T14:25:44.780Z"
   },
   {
    "duration": 7,
    "start_time": "2022-02-22T14:25:44.788Z"
   },
   {
    "duration": 19,
    "start_time": "2022-02-22T14:25:44.797Z"
   },
   {
    "duration": 6,
    "start_time": "2022-02-22T14:25:44.818Z"
   },
   {
    "duration": 14,
    "start_time": "2022-02-22T14:25:44.825Z"
   },
   {
    "duration": 7,
    "start_time": "2022-02-22T14:25:44.841Z"
   },
   {
    "duration": 16,
    "start_time": "2022-02-22T14:25:44.849Z"
   },
   {
    "duration": 7,
    "start_time": "2022-02-22T14:25:44.867Z"
   },
   {
    "duration": 10,
    "start_time": "2022-02-22T14:25:44.875Z"
   },
   {
    "duration": 121,
    "start_time": "2022-02-22T14:25:44.886Z"
   },
   {
    "duration": 4,
    "start_time": "2022-02-22T14:25:45.009Z"
   },
   {
    "duration": 66,
    "start_time": "2022-02-22T14:25:45.015Z"
   },
   {
    "duration": 28,
    "start_time": "2022-02-22T14:25:46.347Z"
   },
   {
    "duration": 350,
    "start_time": "2022-02-22T14:26:13.510Z"
   },
   {
    "duration": 29,
    "start_time": "2022-02-22T14:26:24.583Z"
   },
   {
    "duration": 633,
    "start_time": "2022-02-22T14:28:29.632Z"
   },
   {
    "duration": 409,
    "start_time": "2022-02-22T14:28:30.266Z"
   },
   {
    "duration": 12,
    "start_time": "2022-02-22T14:28:30.680Z"
   },
   {
    "duration": 12,
    "start_time": "2022-02-22T14:28:30.694Z"
   },
   {
    "duration": 29,
    "start_time": "2022-02-22T14:28:30.707Z"
   },
   {
    "duration": 23,
    "start_time": "2022-02-22T14:28:30.738Z"
   },
   {
    "duration": 12,
    "start_time": "2022-02-22T14:28:30.764Z"
   },
   {
    "duration": 21,
    "start_time": "2022-02-22T14:28:30.778Z"
   },
   {
    "duration": 13,
    "start_time": "2022-02-22T14:28:30.801Z"
   },
   {
    "duration": 26,
    "start_time": "2022-02-22T14:28:30.816Z"
   },
   {
    "duration": 9,
    "start_time": "2022-02-22T14:28:30.844Z"
   },
   {
    "duration": 20,
    "start_time": "2022-02-22T14:28:30.855Z"
   },
   {
    "duration": 123,
    "start_time": "2022-02-22T14:28:30.877Z"
   },
   {
    "duration": 7,
    "start_time": "2022-02-22T14:28:31.002Z"
   },
   {
    "duration": 88,
    "start_time": "2022-02-22T14:28:31.011Z"
   },
   {
    "duration": 31,
    "start_time": "2022-02-22T14:28:31.101Z"
   },
   {
    "duration": 30,
    "start_time": "2022-02-22T14:28:31.134Z"
   },
   {
    "duration": 8,
    "start_time": "2022-02-22T14:28:31.165Z"
   },
   {
    "duration": 14,
    "start_time": "2022-02-22T14:28:31.174Z"
   },
   {
    "duration": 7,
    "start_time": "2022-02-22T14:28:31.189Z"
   },
   {
    "duration": 14,
    "start_time": "2022-02-22T14:28:31.198Z"
   },
   {
    "duration": 16,
    "start_time": "2022-02-22T14:28:31.216Z"
   },
   {
    "duration": 25,
    "start_time": "2022-02-22T14:28:31.234Z"
   },
   {
    "duration": 31,
    "start_time": "2022-02-22T14:28:31.261Z"
   },
   {
    "duration": 11,
    "start_time": "2022-02-22T14:28:31.294Z"
   },
   {
    "duration": 30,
    "start_time": "2022-02-22T14:28:31.307Z"
   },
   {
    "duration": 12,
    "start_time": "2022-02-22T14:28:31.339Z"
   },
   {
    "duration": 21,
    "start_time": "2022-02-22T14:28:31.353Z"
   },
   {
    "duration": 29,
    "start_time": "2022-02-22T14:28:31.375Z"
   },
   {
    "duration": 12,
    "start_time": "2022-02-22T14:28:31.406Z"
   },
   {
    "duration": 19,
    "start_time": "2022-02-22T14:28:31.419Z"
   },
   {
    "duration": 23,
    "start_time": "2022-02-22T14:28:31.439Z"
   },
   {
    "duration": 23,
    "start_time": "2022-02-22T14:28:31.464Z"
   },
   {
    "duration": 17,
    "start_time": "2022-02-22T14:28:31.489Z"
   },
   {
    "duration": 22,
    "start_time": "2022-02-22T14:28:31.508Z"
   },
   {
    "duration": 13,
    "start_time": "2022-02-22T14:28:31.532Z"
   },
   {
    "duration": 27,
    "start_time": "2022-02-22T14:28:31.546Z"
   },
   {
    "duration": 15,
    "start_time": "2022-02-22T14:28:31.574Z"
   },
   {
    "duration": 15,
    "start_time": "2022-02-22T14:28:31.590Z"
   },
   {
    "duration": 22,
    "start_time": "2022-02-22T14:28:31.606Z"
   },
   {
    "duration": 21,
    "start_time": "2022-02-22T14:28:31.629Z"
   },
   {
    "duration": 8,
    "start_time": "2022-02-22T14:28:31.652Z"
   },
   {
    "duration": 28,
    "start_time": "2022-02-22T14:28:31.662Z"
   },
   {
    "duration": 20,
    "start_time": "2022-02-22T14:28:31.691Z"
   },
   {
    "duration": 27,
    "start_time": "2022-02-22T14:28:31.712Z"
   },
   {
    "duration": 85,
    "start_time": "2022-02-22T14:28:31.740Z"
   },
   {
    "duration": 5,
    "start_time": "2022-02-22T14:28:31.826Z"
   },
   {
    "duration": 21,
    "start_time": "2022-02-22T14:28:31.832Z"
   },
   {
    "duration": 11,
    "start_time": "2022-02-22T14:28:31.855Z"
   },
   {
    "duration": 29,
    "start_time": "2022-02-22T14:28:31.868Z"
   },
   {
    "duration": 116,
    "start_time": "2022-02-22T14:28:31.899Z"
   },
   {
    "duration": 228,
    "start_time": "2022-02-22T14:28:32.017Z"
   },
   {
    "duration": 229,
    "start_time": "2022-02-22T14:28:32.247Z"
   },
   {
    "duration": 216,
    "start_time": "2022-02-22T14:28:32.478Z"
   },
   {
    "duration": 52,
    "start_time": "2022-02-22T14:28:32.696Z"
   },
   {
    "duration": 37,
    "start_time": "2022-02-22T14:28:32.750Z"
   },
   {
    "duration": 51,
    "start_time": "2022-02-22T14:28:32.789Z"
   },
   {
    "duration": 247,
    "start_time": "2022-02-22T14:28:32.841Z"
   },
   {
    "duration": 16,
    "start_time": "2022-02-22T15:07:28.742Z"
   },
   {
    "duration": 11,
    "start_time": "2022-02-22T15:08:00.288Z"
   },
   {
    "duration": 7,
    "start_time": "2022-02-22T15:08:19.334Z"
   },
   {
    "duration": 7,
    "start_time": "2022-02-22T15:08:35.669Z"
   },
   {
    "duration": 409,
    "start_time": "2022-02-22T15:12:04.103Z"
   },
   {
    "duration": 6,
    "start_time": "2022-02-22T15:13:07.484Z"
   },
   {
    "duration": 632,
    "start_time": "2022-02-22T15:13:19.871Z"
   },
   {
    "duration": 7,
    "start_time": "2022-02-22T15:13:34.652Z"
   },
   {
    "duration": 6,
    "start_time": "2022-02-22T15:13:58.439Z"
   },
   {
    "duration": 4,
    "start_time": "2022-02-22T15:14:06.612Z"
   },
   {
    "duration": 6,
    "start_time": "2022-02-22T15:14:17.427Z"
   },
   {
    "duration": 5,
    "start_time": "2022-02-22T15:14:39.793Z"
   },
   {
    "duration": 8,
    "start_time": "2022-02-22T15:15:22.734Z"
   },
   {
    "duration": 6,
    "start_time": "2022-02-22T15:15:34.895Z"
   },
   {
    "duration": 4,
    "start_time": "2022-02-22T15:16:27.392Z"
   },
   {
    "duration": 1043,
    "start_time": "2022-02-22T15:17:08.265Z"
   },
   {
    "duration": 428,
    "start_time": "2022-02-22T15:17:09.310Z"
   },
   {
    "duration": 15,
    "start_time": "2022-02-22T15:17:09.741Z"
   },
   {
    "duration": 8,
    "start_time": "2022-02-22T15:17:09.759Z"
   },
   {
    "duration": 9,
    "start_time": "2022-02-22T15:17:09.769Z"
   },
   {
    "duration": 52,
    "start_time": "2022-02-22T15:17:09.780Z"
   },
   {
    "duration": 9,
    "start_time": "2022-02-22T15:17:09.835Z"
   },
   {
    "duration": 23,
    "start_time": "2022-02-22T15:17:09.847Z"
   },
   {
    "duration": 11,
    "start_time": "2022-02-22T15:17:09.875Z"
   },
   {
    "duration": 46,
    "start_time": "2022-02-22T15:17:09.889Z"
   },
   {
    "duration": 10,
    "start_time": "2022-02-22T15:17:09.937Z"
   },
   {
    "duration": 6,
    "start_time": "2022-02-22T15:17:09.949Z"
   },
   {
    "duration": 142,
    "start_time": "2022-02-22T15:17:09.957Z"
   },
   {
    "duration": 6,
    "start_time": "2022-02-22T15:17:10.101Z"
   },
   {
    "duration": 77,
    "start_time": "2022-02-22T15:17:10.109Z"
   },
   {
    "duration": 28,
    "start_time": "2022-02-22T15:17:10.188Z"
   },
   {
    "duration": 49,
    "start_time": "2022-02-22T15:17:10.218Z"
   },
   {
    "duration": 11,
    "start_time": "2022-02-22T15:17:10.269Z"
   },
   {
    "duration": 7,
    "start_time": "2022-02-22T15:17:10.282Z"
   },
   {
    "duration": 3,
    "start_time": "2022-02-22T15:17:10.292Z"
   },
   {
    "duration": 36,
    "start_time": "2022-02-22T15:17:10.297Z"
   },
   {
    "duration": 17,
    "start_time": "2022-02-22T15:17:10.335Z"
   },
   {
    "duration": 3,
    "start_time": "2022-02-22T15:17:10.354Z"
   },
   {
    "duration": 6,
    "start_time": "2022-02-22T15:17:10.359Z"
   },
   {
    "duration": 6,
    "start_time": "2022-02-22T15:17:10.367Z"
   },
   {
    "duration": 11,
    "start_time": "2022-02-22T15:17:10.375Z"
   },
   {
    "duration": 6,
    "start_time": "2022-02-22T15:17:10.390Z"
   },
   {
    "duration": 10,
    "start_time": "2022-02-22T15:17:10.399Z"
   },
   {
    "duration": 26,
    "start_time": "2022-02-22T15:17:10.411Z"
   },
   {
    "duration": 8,
    "start_time": "2022-02-22T15:17:10.439Z"
   },
   {
    "duration": 7,
    "start_time": "2022-02-22T15:17:10.449Z"
   },
   {
    "duration": 13,
    "start_time": "2022-02-22T15:17:10.458Z"
   },
   {
    "duration": 10,
    "start_time": "2022-02-22T15:17:10.473Z"
   },
   {
    "duration": 8,
    "start_time": "2022-02-22T15:17:10.485Z"
   },
   {
    "duration": 14,
    "start_time": "2022-02-22T15:17:10.495Z"
   },
   {
    "duration": 20,
    "start_time": "2022-02-22T15:17:10.511Z"
   },
   {
    "duration": 16,
    "start_time": "2022-02-22T15:17:10.533Z"
   },
   {
    "duration": 7,
    "start_time": "2022-02-22T15:17:10.551Z"
   },
   {
    "duration": 5,
    "start_time": "2022-02-22T15:17:10.560Z"
   },
   {
    "duration": 9,
    "start_time": "2022-02-22T15:17:10.567Z"
   },
   {
    "duration": 9,
    "start_time": "2022-02-22T15:17:10.579Z"
   },
   {
    "duration": 7,
    "start_time": "2022-02-22T15:17:10.590Z"
   },
   {
    "duration": 12,
    "start_time": "2022-02-22T15:17:10.599Z"
   },
   {
    "duration": 7,
    "start_time": "2022-02-22T15:17:10.632Z"
   },
   {
    "duration": 10,
    "start_time": "2022-02-22T15:17:10.641Z"
   },
   {
    "duration": 44,
    "start_time": "2022-02-22T15:17:10.652Z"
   },
   {
    "duration": 4,
    "start_time": "2022-02-22T15:17:10.698Z"
   },
   {
    "duration": 31,
    "start_time": "2022-02-22T15:17:10.704Z"
   },
   {
    "duration": 9,
    "start_time": "2022-02-22T15:17:10.737Z"
   },
   {
    "duration": 14,
    "start_time": "2022-02-22T15:17:10.747Z"
   },
   {
    "duration": 145,
    "start_time": "2022-02-22T15:17:10.763Z"
   },
   {
    "duration": 240,
    "start_time": "2022-02-22T15:17:10.910Z"
   },
   {
    "duration": 230,
    "start_time": "2022-02-22T15:17:11.152Z"
   },
   {
    "duration": 231,
    "start_time": "2022-02-22T15:17:11.384Z"
   },
   {
    "duration": 50,
    "start_time": "2022-02-22T15:17:11.617Z"
   },
   {
    "duration": 114,
    "start_time": "2022-02-22T15:17:11.669Z"
   },
   {
    "duration": 35,
    "start_time": "2022-02-22T15:17:11.785Z"
   },
   {
    "duration": 267,
    "start_time": "2022-02-22T15:17:11.822Z"
   },
   {
    "duration": 10,
    "start_time": "2022-02-22T15:17:12.091Z"
   },
   {
    "duration": 7,
    "start_time": "2022-02-22T15:17:12.104Z"
   },
   {
    "duration": 27,
    "start_time": "2022-02-22T15:17:12.112Z"
   },
   {
    "duration": 6,
    "start_time": "2022-02-22T15:17:12.141Z"
   },
   {
    "duration": 7,
    "start_time": "2022-02-22T15:20:32.128Z"
   },
   {
    "duration": 13,
    "start_time": "2022-02-22T15:22:23.827Z"
   },
   {
    "duration": 5,
    "start_time": "2022-02-22T15:22:29.161Z"
   },
   {
    "duration": 8,
    "start_time": "2022-02-22T15:22:32.014Z"
   },
   {
    "duration": 8,
    "start_time": "2022-02-22T15:22:32.686Z"
   },
   {
    "duration": 6,
    "start_time": "2022-02-22T15:22:34.767Z"
   },
   {
    "duration": 10,
    "start_time": "2022-02-22T15:22:43.538Z"
   },
   {
    "duration": 3,
    "start_time": "2022-02-22T15:22:52.302Z"
   },
   {
    "duration": 1635,
    "start_time": "2022-02-22T15:22:59.800Z"
   },
   {
    "duration": 571,
    "start_time": "2022-02-22T15:23:01.437Z"
   },
   {
    "duration": 16,
    "start_time": "2022-02-22T15:23:02.011Z"
   },
   {
    "duration": 14,
    "start_time": "2022-02-22T15:23:02.029Z"
   },
   {
    "duration": 20,
    "start_time": "2022-02-22T15:23:02.045Z"
   },
   {
    "duration": 29,
    "start_time": "2022-02-22T15:23:02.067Z"
   },
   {
    "duration": 7,
    "start_time": "2022-02-22T15:23:02.098Z"
   },
   {
    "duration": 15,
    "start_time": "2022-02-22T15:23:02.107Z"
   },
   {
    "duration": 9,
    "start_time": "2022-02-22T15:23:02.124Z"
   },
   {
    "duration": 17,
    "start_time": "2022-02-22T15:23:02.134Z"
   },
   {
    "duration": 11,
    "start_time": "2022-02-22T15:23:02.153Z"
   },
   {
    "duration": 16,
    "start_time": "2022-02-22T15:23:02.166Z"
   },
   {
    "duration": 174,
    "start_time": "2022-02-22T15:23:02.184Z"
   },
   {
    "duration": 6,
    "start_time": "2022-02-22T15:23:02.360Z"
   },
   {
    "duration": 106,
    "start_time": "2022-02-22T15:23:02.368Z"
   },
   {
    "duration": 31,
    "start_time": "2022-02-22T15:23:02.475Z"
   },
   {
    "duration": 38,
    "start_time": "2022-02-22T15:23:02.507Z"
   },
   {
    "duration": 8,
    "start_time": "2022-02-22T15:23:02.547Z"
   },
   {
    "duration": 11,
    "start_time": "2022-02-22T15:23:02.556Z"
   },
   {
    "duration": 4,
    "start_time": "2022-02-22T15:23:02.569Z"
   },
   {
    "duration": 14,
    "start_time": "2022-02-22T15:23:02.574Z"
   },
   {
    "duration": 7,
    "start_time": "2022-02-22T15:23:02.590Z"
   },
   {
    "duration": 12,
    "start_time": "2022-02-22T15:23:02.602Z"
   },
   {
    "duration": 19,
    "start_time": "2022-02-22T15:23:02.617Z"
   },
   {
    "duration": 11,
    "start_time": "2022-02-22T15:23:02.638Z"
   },
   {
    "duration": 12,
    "start_time": "2022-02-22T15:23:02.651Z"
   },
   {
    "duration": 15,
    "start_time": "2022-02-22T15:23:02.665Z"
   },
   {
    "duration": 14,
    "start_time": "2022-02-22T15:23:02.682Z"
   },
   {
    "duration": 22,
    "start_time": "2022-02-22T15:23:02.698Z"
   },
   {
    "duration": 18,
    "start_time": "2022-02-22T15:23:02.722Z"
   },
   {
    "duration": 14,
    "start_time": "2022-02-22T15:23:02.741Z"
   },
   {
    "duration": 16,
    "start_time": "2022-02-22T15:23:02.757Z"
   },
   {
    "duration": 19,
    "start_time": "2022-02-22T15:23:02.775Z"
   },
   {
    "duration": 13,
    "start_time": "2022-02-22T15:23:02.796Z"
   },
   {
    "duration": 19,
    "start_time": "2022-02-22T15:23:02.811Z"
   },
   {
    "duration": 10,
    "start_time": "2022-02-22T15:23:02.832Z"
   },
   {
    "duration": 21,
    "start_time": "2022-02-22T15:23:02.844Z"
   },
   {
    "duration": 14,
    "start_time": "2022-02-22T15:23:02.867Z"
   },
   {
    "duration": 18,
    "start_time": "2022-02-22T15:23:02.882Z"
   },
   {
    "duration": 15,
    "start_time": "2022-02-22T15:23:02.902Z"
   },
   {
    "duration": 19,
    "start_time": "2022-02-22T15:23:02.919Z"
   },
   {
    "duration": 18,
    "start_time": "2022-02-22T15:23:02.940Z"
   },
   {
    "duration": 18,
    "start_time": "2022-02-22T15:23:02.960Z"
   },
   {
    "duration": 23,
    "start_time": "2022-02-22T15:23:02.980Z"
   },
   {
    "duration": 19,
    "start_time": "2022-02-22T15:23:03.005Z"
   },
   {
    "duration": 73,
    "start_time": "2022-02-22T15:23:03.026Z"
   },
   {
    "duration": 6,
    "start_time": "2022-02-22T15:23:03.101Z"
   },
   {
    "duration": 13,
    "start_time": "2022-02-22T15:23:03.108Z"
   },
   {
    "duration": 20,
    "start_time": "2022-02-22T15:23:03.123Z"
   },
   {
    "duration": 7,
    "start_time": "2022-02-22T15:23:03.145Z"
   },
   {
    "duration": 194,
    "start_time": "2022-02-22T15:23:03.154Z"
   },
   {
    "duration": 370,
    "start_time": "2022-02-22T15:23:03.350Z"
   },
   {
    "duration": 311,
    "start_time": "2022-02-22T15:23:03.722Z"
   },
   {
    "duration": 422,
    "start_time": "2022-02-22T15:23:04.036Z"
   },
   {
    "duration": 42,
    "start_time": "2022-02-22T15:23:04.460Z"
   },
   {
    "duration": 56,
    "start_time": "2022-02-22T15:23:04.503Z"
   },
   {
    "duration": 34,
    "start_time": "2022-02-22T15:23:04.561Z"
   },
   {
    "duration": 360,
    "start_time": "2022-02-22T15:23:04.597Z"
   },
   {
    "duration": 127,
    "start_time": "2022-02-22T15:23:04.833Z"
   },
   {
    "duration": 126,
    "start_time": "2022-02-22T15:23:04.835Z"
   },
   {
    "duration": 125,
    "start_time": "2022-02-22T15:23:04.837Z"
   },
   {
    "duration": 263,
    "start_time": "2022-02-22T15:23:22.789Z"
   },
   {
    "duration": 3,
    "start_time": "2022-02-22T15:24:25.350Z"
   },
   {
    "duration": 404,
    "start_time": "2022-02-22T15:24:25.355Z"
   },
   {
    "duration": 9,
    "start_time": "2022-02-22T15:24:25.761Z"
   },
   {
    "duration": 21,
    "start_time": "2022-02-22T15:24:25.772Z"
   },
   {
    "duration": 34,
    "start_time": "2022-02-22T15:24:25.795Z"
   },
   {
    "duration": 66,
    "start_time": "2022-02-22T15:24:25.831Z"
   },
   {
    "duration": 27,
    "start_time": "2022-02-22T15:24:25.899Z"
   },
   {
    "duration": 48,
    "start_time": "2022-02-22T15:24:25.929Z"
   },
   {
    "duration": 25,
    "start_time": "2022-02-22T15:24:25.979Z"
   },
   {
    "duration": 38,
    "start_time": "2022-02-22T15:24:26.007Z"
   },
   {
    "duration": 30,
    "start_time": "2022-02-22T15:24:26.047Z"
   },
   {
    "duration": 48,
    "start_time": "2022-02-22T15:24:26.079Z"
   },
   {
    "duration": 133,
    "start_time": "2022-02-22T15:24:26.129Z"
   },
   {
    "duration": 4,
    "start_time": "2022-02-22T15:24:26.264Z"
   },
   {
    "duration": 94,
    "start_time": "2022-02-22T15:24:26.269Z"
   },
   {
    "duration": 28,
    "start_time": "2022-02-22T15:24:26.365Z"
   },
   {
    "duration": 20,
    "start_time": "2022-02-22T15:24:26.394Z"
   },
   {
    "duration": 21,
    "start_time": "2022-02-22T15:24:26.416Z"
   },
   {
    "duration": 19,
    "start_time": "2022-02-22T15:24:26.439Z"
   },
   {
    "duration": 24,
    "start_time": "2022-02-22T15:24:26.459Z"
   },
   {
    "duration": 25,
    "start_time": "2022-02-22T15:24:26.485Z"
   },
   {
    "duration": 22,
    "start_time": "2022-02-22T15:24:26.512Z"
   },
   {
    "duration": 18,
    "start_time": "2022-02-22T15:24:26.539Z"
   },
   {
    "duration": 16,
    "start_time": "2022-02-22T15:24:26.560Z"
   },
   {
    "duration": 25,
    "start_time": "2022-02-22T15:24:26.577Z"
   },
   {
    "duration": 38,
    "start_time": "2022-02-22T15:24:26.603Z"
   },
   {
    "duration": 16,
    "start_time": "2022-02-22T15:24:26.643Z"
   },
   {
    "duration": 14,
    "start_time": "2022-02-22T15:24:26.661Z"
   },
   {
    "duration": 43,
    "start_time": "2022-02-22T15:24:26.676Z"
   },
   {
    "duration": 18,
    "start_time": "2022-02-22T15:24:26.720Z"
   },
   {
    "duration": 29,
    "start_time": "2022-02-22T15:24:26.740Z"
   },
   {
    "duration": 31,
    "start_time": "2022-02-22T15:24:26.771Z"
   },
   {
    "duration": 31,
    "start_time": "2022-02-22T15:24:26.803Z"
   },
   {
    "duration": 8,
    "start_time": "2022-02-22T15:24:26.836Z"
   },
   {
    "duration": 33,
    "start_time": "2022-02-22T15:24:26.846Z"
   },
   {
    "duration": 27,
    "start_time": "2022-02-22T15:24:26.881Z"
   },
   {
    "duration": 34,
    "start_time": "2022-02-22T15:24:26.909Z"
   },
   {
    "duration": 31,
    "start_time": "2022-02-22T15:24:26.944Z"
   },
   {
    "duration": 34,
    "start_time": "2022-02-22T15:24:26.977Z"
   },
   {
    "duration": 22,
    "start_time": "2022-02-22T15:24:27.013Z"
   },
   {
    "duration": 54,
    "start_time": "2022-02-22T15:24:27.037Z"
   },
   {
    "duration": 42,
    "start_time": "2022-02-22T15:24:27.092Z"
   },
   {
    "duration": 43,
    "start_time": "2022-02-22T15:24:27.135Z"
   },
   {
    "duration": 32,
    "start_time": "2022-02-22T15:24:27.180Z"
   },
   {
    "duration": 28,
    "start_time": "2022-02-22T15:24:27.214Z"
   },
   {
    "duration": 50,
    "start_time": "2022-02-22T15:24:27.244Z"
   },
   {
    "duration": 4,
    "start_time": "2022-02-22T15:24:27.296Z"
   },
   {
    "duration": 30,
    "start_time": "2022-02-22T15:24:27.302Z"
   },
   {
    "duration": 20,
    "start_time": "2022-02-22T15:24:27.334Z"
   },
   {
    "duration": 51,
    "start_time": "2022-02-22T15:24:27.355Z"
   },
   {
    "duration": 156,
    "start_time": "2022-02-22T15:24:27.408Z"
   },
   {
    "duration": 239,
    "start_time": "2022-02-22T15:24:27.566Z"
   },
   {
    "duration": 237,
    "start_time": "2022-02-22T15:24:27.807Z"
   },
   {
    "duration": 242,
    "start_time": "2022-02-22T15:24:28.046Z"
   },
   {
    "duration": 46,
    "start_time": "2022-02-22T15:24:28.290Z"
   },
   {
    "duration": 39,
    "start_time": "2022-02-22T15:24:28.338Z"
   },
   {
    "duration": 36,
    "start_time": "2022-02-22T15:24:28.379Z"
   },
   {
    "duration": 287,
    "start_time": "2022-02-22T15:24:28.417Z"
   },
   {
    "duration": 125,
    "start_time": "2022-02-22T15:24:28.580Z"
   },
   {
    "duration": 124,
    "start_time": "2022-02-22T15:24:28.582Z"
   },
   {
    "duration": 124,
    "start_time": "2022-02-22T15:24:28.584Z"
   },
   {
    "duration": 8,
    "start_time": "2022-02-22T15:24:44.361Z"
   },
   {
    "duration": 266,
    "start_time": "2022-02-22T15:25:03.508Z"
   },
   {
    "duration": 3,
    "start_time": "2022-02-22T15:25:33.838Z"
   },
   {
    "duration": 410,
    "start_time": "2022-02-22T15:25:33.843Z"
   },
   {
    "duration": 10,
    "start_time": "2022-02-22T15:25:34.255Z"
   },
   {
    "duration": 7,
    "start_time": "2022-02-22T15:25:34.268Z"
   },
   {
    "duration": 12,
    "start_time": "2022-02-22T15:25:34.277Z"
   },
   {
    "duration": 32,
    "start_time": "2022-02-22T15:25:34.291Z"
   },
   {
    "duration": 8,
    "start_time": "2022-02-22T15:25:34.333Z"
   },
   {
    "duration": 15,
    "start_time": "2022-02-22T15:25:34.344Z"
   },
   {
    "duration": 10,
    "start_time": "2022-02-22T15:25:34.362Z"
   },
   {
    "duration": 18,
    "start_time": "2022-02-22T15:25:34.374Z"
   },
   {
    "duration": 39,
    "start_time": "2022-02-22T15:25:34.393Z"
   },
   {
    "duration": 7,
    "start_time": "2022-02-22T15:25:34.434Z"
   },
   {
    "duration": 116,
    "start_time": "2022-02-22T15:25:34.443Z"
   },
   {
    "duration": 5,
    "start_time": "2022-02-22T15:25:34.561Z"
   },
   {
    "duration": 84,
    "start_time": "2022-02-22T15:25:34.568Z"
   },
   {
    "duration": 27,
    "start_time": "2022-02-22T15:25:34.654Z"
   },
   {
    "duration": 21,
    "start_time": "2022-02-22T15:25:34.683Z"
   },
   {
    "duration": 29,
    "start_time": "2022-02-22T15:25:34.706Z"
   },
   {
    "duration": 6,
    "start_time": "2022-02-22T15:25:34.737Z"
   },
   {
    "duration": 3,
    "start_time": "2022-02-22T15:25:34.744Z"
   },
   {
    "duration": 11,
    "start_time": "2022-02-22T15:25:34.749Z"
   },
   {
    "duration": 7,
    "start_time": "2022-02-22T15:25:34.762Z"
   },
   {
    "duration": 3,
    "start_time": "2022-02-22T15:25:34.773Z"
   },
   {
    "duration": 7,
    "start_time": "2022-02-22T15:25:34.778Z"
   },
   {
    "duration": 47,
    "start_time": "2022-02-22T15:25:34.787Z"
   },
   {
    "duration": 5,
    "start_time": "2022-02-22T15:25:34.836Z"
   },
   {
    "duration": 7,
    "start_time": "2022-02-22T15:25:34.842Z"
   },
   {
    "duration": 5,
    "start_time": "2022-02-22T15:25:34.851Z"
   },
   {
    "duration": 13,
    "start_time": "2022-02-22T15:25:34.857Z"
   },
   {
    "duration": 8,
    "start_time": "2022-02-22T15:25:34.871Z"
   },
   {
    "duration": 6,
    "start_time": "2022-02-22T15:25:34.880Z"
   },
   {
    "duration": 8,
    "start_time": "2022-02-22T15:25:34.888Z"
   },
   {
    "duration": 11,
    "start_time": "2022-02-22T15:25:34.898Z"
   },
   {
    "duration": 23,
    "start_time": "2022-02-22T15:25:34.911Z"
   },
   {
    "duration": 7,
    "start_time": "2022-02-22T15:25:34.936Z"
   },
   {
    "duration": 9,
    "start_time": "2022-02-22T15:25:34.944Z"
   },
   {
    "duration": 12,
    "start_time": "2022-02-22T15:25:34.955Z"
   },
   {
    "duration": 9,
    "start_time": "2022-02-22T15:25:34.968Z"
   },
   {
    "duration": 7,
    "start_time": "2022-02-22T15:25:34.978Z"
   },
   {
    "duration": 10,
    "start_time": "2022-02-22T15:25:34.987Z"
   },
   {
    "duration": 11,
    "start_time": "2022-02-22T15:25:34.999Z"
   },
   {
    "duration": 20,
    "start_time": "2022-02-22T15:25:35.012Z"
   },
   {
    "duration": 8,
    "start_time": "2022-02-22T15:25:35.034Z"
   },
   {
    "duration": 8,
    "start_time": "2022-02-22T15:25:35.044Z"
   },
   {
    "duration": 10,
    "start_time": "2022-02-22T15:25:35.054Z"
   },
   {
    "duration": 118,
    "start_time": "2022-02-22T15:25:35.066Z"
   },
   {
    "duration": 4,
    "start_time": "2022-02-22T15:25:35.186Z"
   },
   {
    "duration": 7,
    "start_time": "2022-02-22T15:25:35.192Z"
   },
   {
    "duration": 9,
    "start_time": "2022-02-22T15:25:35.200Z"
   },
   {
    "duration": 25,
    "start_time": "2022-02-22T15:25:35.211Z"
   },
   {
    "duration": 123,
    "start_time": "2022-02-22T15:25:35.237Z"
   },
   {
    "duration": 475,
    "start_time": "2022-02-22T15:25:35.361Z"
   },
   {
    "duration": 384,
    "start_time": "2022-02-22T15:25:35.838Z"
   },
   {
    "duration": 353,
    "start_time": "2022-02-22T15:25:36.231Z"
   },
   {
    "duration": 69,
    "start_time": "2022-02-22T15:25:36.586Z"
   },
   {
    "duration": 59,
    "start_time": "2022-02-22T15:25:36.657Z"
   },
   {
    "duration": 48,
    "start_time": "2022-02-22T15:25:36.718Z"
   },
   {
    "duration": 268,
    "start_time": "2022-02-22T15:25:36.767Z"
   },
   {
    "duration": 8,
    "start_time": "2022-02-22T15:25:37.037Z"
   },
   {
    "duration": 8,
    "start_time": "2022-02-22T15:25:37.047Z"
   },
   {
    "duration": 7,
    "start_time": "2022-02-22T15:25:37.057Z"
   },
   {
    "duration": 4,
    "start_time": "2022-02-22T15:26:18.637Z"
   },
   {
    "duration": 564,
    "start_time": "2022-02-22T15:26:18.644Z"
   },
   {
    "duration": 14,
    "start_time": "2022-02-22T15:26:19.211Z"
   },
   {
    "duration": 6,
    "start_time": "2022-02-22T15:26:19.228Z"
   },
   {
    "duration": 11,
    "start_time": "2022-02-22T15:26:19.236Z"
   },
   {
    "duration": 32,
    "start_time": "2022-02-22T15:26:19.249Z"
   },
   {
    "duration": 10,
    "start_time": "2022-02-22T15:26:19.283Z"
   },
   {
    "duration": 47,
    "start_time": "2022-02-22T15:26:19.297Z"
   },
   {
    "duration": 9,
    "start_time": "2022-02-22T15:26:19.346Z"
   },
   {
    "duration": 16,
    "start_time": "2022-02-22T15:26:19.357Z"
   },
   {
    "duration": 8,
    "start_time": "2022-02-22T15:26:19.375Z"
   },
   {
    "duration": 6,
    "start_time": "2022-02-22T15:26:19.384Z"
   },
   {
    "duration": 141,
    "start_time": "2022-02-22T15:26:19.392Z"
   },
   {
    "duration": 6,
    "start_time": "2022-02-22T15:26:19.534Z"
   },
   {
    "duration": 51,
    "start_time": "2022-02-22T15:26:19.541Z"
   },
   {
    "duration": 52,
    "start_time": "2022-02-22T15:26:19.594Z"
   },
   {
    "duration": 19,
    "start_time": "2022-02-22T15:26:19.648Z"
   },
   {
    "duration": 7,
    "start_time": "2022-02-22T15:26:19.669Z"
   },
   {
    "duration": 8,
    "start_time": "2022-02-22T15:26:19.678Z"
   },
   {
    "duration": 5,
    "start_time": "2022-02-22T15:26:19.687Z"
   },
   {
    "duration": 39,
    "start_time": "2022-02-22T15:26:19.693Z"
   },
   {
    "duration": 8,
    "start_time": "2022-02-22T15:26:19.733Z"
   },
   {
    "duration": 4,
    "start_time": "2022-02-22T15:26:19.745Z"
   },
   {
    "duration": 7,
    "start_time": "2022-02-22T15:26:19.751Z"
   },
   {
    "duration": 6,
    "start_time": "2022-02-22T15:26:19.760Z"
   },
   {
    "duration": 6,
    "start_time": "2022-02-22T15:26:19.768Z"
   },
   {
    "duration": 9,
    "start_time": "2022-02-22T15:26:19.776Z"
   },
   {
    "duration": 7,
    "start_time": "2022-02-22T15:26:19.787Z"
   },
   {
    "duration": 16,
    "start_time": "2022-02-22T15:26:19.795Z"
   },
   {
    "duration": 25,
    "start_time": "2022-02-22T15:26:19.814Z"
   },
   {
    "duration": 4,
    "start_time": "2022-02-22T15:26:19.841Z"
   },
   {
    "duration": 9,
    "start_time": "2022-02-22T15:26:19.846Z"
   },
   {
    "duration": 10,
    "start_time": "2022-02-22T15:26:19.857Z"
   },
   {
    "duration": 8,
    "start_time": "2022-02-22T15:26:19.869Z"
   },
   {
    "duration": 14,
    "start_time": "2022-02-22T15:26:19.879Z"
   },
   {
    "duration": 7,
    "start_time": "2022-02-22T15:26:19.894Z"
   },
   {
    "duration": 13,
    "start_time": "2022-02-22T15:26:19.903Z"
   },
   {
    "duration": 16,
    "start_time": "2022-02-22T15:26:19.918Z"
   },
   {
    "duration": 3,
    "start_time": "2022-02-22T15:26:19.936Z"
   },
   {
    "duration": 8,
    "start_time": "2022-02-22T15:26:19.941Z"
   },
   {
    "duration": 10,
    "start_time": "2022-02-22T15:26:19.950Z"
   },
   {
    "duration": 6,
    "start_time": "2022-02-22T15:26:19.962Z"
   },
   {
    "duration": 11,
    "start_time": "2022-02-22T15:26:19.970Z"
   },
   {
    "duration": 8,
    "start_time": "2022-02-22T15:26:19.983Z"
   },
   {
    "duration": 13,
    "start_time": "2022-02-22T15:26:19.993Z"
   },
   {
    "duration": 114,
    "start_time": "2022-02-22T15:26:20.008Z"
   },
   {
    "duration": 10,
    "start_time": "2022-02-22T15:26:20.124Z"
   },
   {
    "duration": 8,
    "start_time": "2022-02-22T15:26:20.136Z"
   },
   {
    "duration": 7,
    "start_time": "2022-02-22T15:26:20.145Z"
   },
   {
    "duration": 5,
    "start_time": "2022-02-22T15:26:20.154Z"
   },
   {
    "duration": 135,
    "start_time": "2022-02-22T15:26:20.160Z"
   },
   {
    "duration": 235,
    "start_time": "2022-02-22T15:26:20.297Z"
   },
   {
    "duration": 366,
    "start_time": "2022-02-22T15:26:20.534Z"
   },
   {
    "duration": 359,
    "start_time": "2022-02-22T15:26:20.902Z"
   },
   {
    "duration": 73,
    "start_time": "2022-02-22T15:26:21.264Z"
   },
   {
    "duration": 65,
    "start_time": "2022-02-22T15:26:21.340Z"
   },
   {
    "duration": 78,
    "start_time": "2022-02-22T15:26:21.407Z"
   },
   {
    "duration": 400,
    "start_time": "2022-02-22T15:26:21.488Z"
   },
   {
    "duration": 8,
    "start_time": "2022-02-22T15:26:21.890Z"
   },
   {
    "duration": 7,
    "start_time": "2022-02-22T15:26:21.899Z"
   },
   {
    "duration": 26,
    "start_time": "2022-02-22T15:26:21.907Z"
   },
   {
    "duration": 9,
    "start_time": "2022-02-22T15:26:42.150Z"
   },
   {
    "duration": 2,
    "start_time": "2022-02-22T15:28:10.881Z"
   },
   {
    "duration": 354,
    "start_time": "2022-02-22T15:28:10.885Z"
   },
   {
    "duration": 10,
    "start_time": "2022-02-22T15:28:11.241Z"
   },
   {
    "duration": 9,
    "start_time": "2022-02-22T15:28:11.253Z"
   },
   {
    "duration": 8,
    "start_time": "2022-02-22T15:28:11.264Z"
   },
   {
    "duration": 19,
    "start_time": "2022-02-22T15:28:11.273Z"
   },
   {
    "duration": 6,
    "start_time": "2022-02-22T15:28:11.294Z"
   },
   {
    "duration": 34,
    "start_time": "2022-02-22T15:28:11.302Z"
   },
   {
    "duration": 9,
    "start_time": "2022-02-22T15:28:11.338Z"
   },
   {
    "duration": 15,
    "start_time": "2022-02-22T15:28:11.349Z"
   },
   {
    "duration": 7,
    "start_time": "2022-02-22T15:28:11.366Z"
   },
   {
    "duration": 15,
    "start_time": "2022-02-22T15:28:11.375Z"
   },
   {
    "duration": 114,
    "start_time": "2022-02-22T15:28:11.393Z"
   },
   {
    "duration": 4,
    "start_time": "2022-02-22T15:28:11.509Z"
   },
   {
    "duration": 66,
    "start_time": "2022-02-22T15:28:11.515Z"
   },
   {
    "duration": 26,
    "start_time": "2022-02-22T15:28:11.582Z"
   },
   {
    "duration": 30,
    "start_time": "2022-02-22T15:28:11.609Z"
   },
   {
    "duration": 7,
    "start_time": "2022-02-22T15:28:11.641Z"
   },
   {
    "duration": 7,
    "start_time": "2022-02-22T15:28:11.649Z"
   },
   {
    "duration": 4,
    "start_time": "2022-02-22T15:28:11.657Z"
   },
   {
    "duration": 10,
    "start_time": "2022-02-22T15:28:11.663Z"
   },
   {
    "duration": 6,
    "start_time": "2022-02-22T15:28:11.675Z"
   },
   {
    "duration": 3,
    "start_time": "2022-02-22T15:28:11.685Z"
   },
   {
    "duration": 7,
    "start_time": "2022-02-22T15:28:11.690Z"
   },
   {
    "duration": 42,
    "start_time": "2022-02-22T15:28:11.699Z"
   },
   {
    "duration": 6,
    "start_time": "2022-02-22T15:28:11.742Z"
   },
   {
    "duration": 10,
    "start_time": "2022-02-22T15:28:11.750Z"
   },
   {
    "duration": 8,
    "start_time": "2022-02-22T15:28:11.761Z"
   },
   {
    "duration": 11,
    "start_time": "2022-02-22T15:28:11.771Z"
   },
   {
    "duration": 7,
    "start_time": "2022-02-22T15:28:11.784Z"
   },
   {
    "duration": 9,
    "start_time": "2022-02-22T15:28:11.793Z"
   },
   {
    "duration": 10,
    "start_time": "2022-02-22T15:28:11.803Z"
   },
   {
    "duration": 16,
    "start_time": "2022-02-22T15:28:11.814Z"
   },
   {
    "duration": 9,
    "start_time": "2022-02-22T15:28:11.831Z"
   },
   {
    "duration": 12,
    "start_time": "2022-02-22T15:28:11.841Z"
   },
   {
    "duration": 7,
    "start_time": "2022-02-22T15:28:11.854Z"
   },
   {
    "duration": 10,
    "start_time": "2022-02-22T15:28:11.863Z"
   },
   {
    "duration": 8,
    "start_time": "2022-02-22T15:28:11.875Z"
   },
   {
    "duration": 6,
    "start_time": "2022-02-22T15:28:11.885Z"
   },
   {
    "duration": 12,
    "start_time": "2022-02-22T15:28:11.892Z"
   },
   {
    "duration": 9,
    "start_time": "2022-02-22T15:28:11.905Z"
   },
   {
    "duration": 9,
    "start_time": "2022-02-22T15:28:11.915Z"
   },
   {
    "duration": 9,
    "start_time": "2022-02-22T15:28:11.926Z"
   },
   {
    "duration": 12,
    "start_time": "2022-02-22T15:28:11.936Z"
   },
   {
    "duration": 12,
    "start_time": "2022-02-22T15:28:11.949Z"
   },
   {
    "duration": 97,
    "start_time": "2022-02-22T15:28:11.963Z"
   },
   {
    "duration": 5,
    "start_time": "2022-02-22T15:28:12.062Z"
   },
   {
    "duration": 8,
    "start_time": "2022-02-22T15:28:12.069Z"
   },
   {
    "duration": 9,
    "start_time": "2022-02-22T15:28:12.078Z"
   },
   {
    "duration": 10,
    "start_time": "2022-02-22T15:28:12.088Z"
   },
   {
    "duration": 141,
    "start_time": "2022-02-22T15:28:12.100Z"
   },
   {
    "duration": 233,
    "start_time": "2022-02-22T15:28:12.243Z"
   },
   {
    "duration": 336,
    "start_time": "2022-02-22T15:28:12.478Z"
   },
   {
    "duration": 224,
    "start_time": "2022-02-22T15:28:12.816Z"
   },
   {
    "duration": 39,
    "start_time": "2022-02-22T15:28:13.043Z"
   },
   {
    "duration": 57,
    "start_time": "2022-02-22T15:28:13.084Z"
   },
   {
    "duration": 34,
    "start_time": "2022-02-22T15:28:13.143Z"
   },
   {
    "duration": 253,
    "start_time": "2022-02-22T15:28:13.178Z"
   },
   {
    "duration": 5,
    "start_time": "2022-02-22T15:28:13.433Z"
   },
   {
    "duration": 5,
    "start_time": "2022-02-22T15:28:13.440Z"
   },
   {
    "duration": 5,
    "start_time": "2022-02-22T15:28:13.447Z"
   },
   {
    "duration": 4,
    "start_time": "2022-02-22T15:28:13.454Z"
   },
   {
    "duration": 12,
    "start_time": "2022-02-22T15:29:55.393Z"
   },
   {
    "duration": 12,
    "start_time": "2022-02-22T15:29:55.785Z"
   },
   {
    "duration": 1496,
    "start_time": "2022-02-22T15:30:04.695Z"
   },
   {
    "duration": 388,
    "start_time": "2022-02-22T15:30:06.194Z"
   },
   {
    "duration": 18,
    "start_time": "2022-02-22T15:30:06.585Z"
   },
   {
    "duration": 8,
    "start_time": "2022-02-22T15:30:06.605Z"
   },
   {
    "duration": 12,
    "start_time": "2022-02-22T15:30:06.614Z"
   },
   {
    "duration": 22,
    "start_time": "2022-02-22T15:30:06.628Z"
   },
   {
    "duration": 6,
    "start_time": "2022-02-22T15:30:06.652Z"
   },
   {
    "duration": 13,
    "start_time": "2022-02-22T15:30:06.661Z"
   },
   {
    "duration": 9,
    "start_time": "2022-02-22T15:30:06.676Z"
   },
   {
    "duration": 16,
    "start_time": "2022-02-22T15:30:06.687Z"
   },
   {
    "duration": 31,
    "start_time": "2022-02-22T15:30:06.705Z"
   },
   {
    "duration": 6,
    "start_time": "2022-02-22T15:30:06.738Z"
   },
   {
    "duration": 130,
    "start_time": "2022-02-22T15:30:06.746Z"
   },
   {
    "duration": 5,
    "start_time": "2022-02-22T15:30:06.878Z"
   },
   {
    "duration": 70,
    "start_time": "2022-02-22T15:30:06.884Z"
   },
   {
    "duration": 43,
    "start_time": "2022-02-22T15:30:06.956Z"
   },
   {
    "duration": 45,
    "start_time": "2022-02-22T15:30:07.001Z"
   },
   {
    "duration": 10,
    "start_time": "2022-02-22T15:30:07.048Z"
   },
   {
    "duration": 10,
    "start_time": "2022-02-22T15:30:07.060Z"
   },
   {
    "duration": 3,
    "start_time": "2022-02-22T15:30:07.073Z"
   },
   {
    "duration": 10,
    "start_time": "2022-02-22T15:30:07.077Z"
   },
   {
    "duration": 9,
    "start_time": "2022-02-22T15:30:07.089Z"
   },
   {
    "duration": 3,
    "start_time": "2022-02-22T15:30:07.101Z"
   },
   {
    "duration": 27,
    "start_time": "2022-02-22T15:30:07.106Z"
   },
   {
    "duration": 12,
    "start_time": "2022-02-22T15:30:07.135Z"
   },
   {
    "duration": 8,
    "start_time": "2022-02-22T15:30:07.148Z"
   },
   {
    "duration": 10,
    "start_time": "2022-02-22T15:30:07.158Z"
   },
   {
    "duration": 10,
    "start_time": "2022-02-22T15:30:07.170Z"
   },
   {
    "duration": 20,
    "start_time": "2022-02-22T15:30:07.182Z"
   },
   {
    "duration": 10,
    "start_time": "2022-02-22T15:30:07.204Z"
   },
   {
    "duration": 16,
    "start_time": "2022-02-22T15:30:07.216Z"
   },
   {
    "duration": 13,
    "start_time": "2022-02-22T15:30:07.233Z"
   },
   {
    "duration": 13,
    "start_time": "2022-02-22T15:30:07.247Z"
   },
   {
    "duration": 17,
    "start_time": "2022-02-22T15:30:07.262Z"
   },
   {
    "duration": 21,
    "start_time": "2022-02-22T15:30:07.281Z"
   },
   {
    "duration": 16,
    "start_time": "2022-02-22T15:30:07.304Z"
   },
   {
    "duration": 14,
    "start_time": "2022-02-22T15:30:07.322Z"
   },
   {
    "duration": 10,
    "start_time": "2022-02-22T15:30:07.338Z"
   },
   {
    "duration": 8,
    "start_time": "2022-02-22T15:30:07.350Z"
   },
   {
    "duration": 13,
    "start_time": "2022-02-22T15:30:07.360Z"
   },
   {
    "duration": 12,
    "start_time": "2022-02-22T15:30:07.375Z"
   },
   {
    "duration": 11,
    "start_time": "2022-02-22T15:30:07.389Z"
   },
   {
    "duration": 11,
    "start_time": "2022-02-22T15:30:07.402Z"
   },
   {
    "duration": 7,
    "start_time": "2022-02-22T15:30:07.415Z"
   },
   {
    "duration": 8,
    "start_time": "2022-02-22T15:30:07.424Z"
   },
   {
    "duration": 43,
    "start_time": "2022-02-22T15:30:07.434Z"
   },
   {
    "duration": 4,
    "start_time": "2022-02-22T15:30:07.479Z"
   },
   {
    "duration": 7,
    "start_time": "2022-02-22T15:30:07.485Z"
   },
   {
    "duration": 8,
    "start_time": "2022-02-22T15:30:07.494Z"
   },
   {
    "duration": 30,
    "start_time": "2022-02-22T15:30:07.504Z"
   },
   {
    "duration": 124,
    "start_time": "2022-02-22T15:30:07.535Z"
   },
   {
    "duration": 237,
    "start_time": "2022-02-22T15:30:07.660Z"
   },
   {
    "duration": 245,
    "start_time": "2022-02-22T15:30:07.899Z"
   },
   {
    "duration": 288,
    "start_time": "2022-02-22T15:30:08.146Z"
   },
   {
    "duration": 61,
    "start_time": "2022-02-22T15:30:08.436Z"
   },
   {
    "duration": 81,
    "start_time": "2022-02-22T15:30:08.500Z"
   },
   {
    "duration": 48,
    "start_time": "2022-02-22T15:30:08.583Z"
   },
   {
    "duration": 259,
    "start_time": "2022-02-22T15:30:08.633Z"
   },
   {
    "duration": 5,
    "start_time": "2022-02-22T15:30:08.894Z"
   },
   {
    "duration": 21,
    "start_time": "2022-02-22T15:30:08.901Z"
   },
   {
    "duration": 8,
    "start_time": "2022-02-22T15:30:08.932Z"
   },
   {
    "duration": 11,
    "start_time": "2022-02-22T15:30:08.941Z"
   },
   {
    "duration": 3,
    "start_time": "2022-02-22T15:37:45.801Z"
   },
   {
    "duration": 4,
    "start_time": "2022-02-22T15:37:46.177Z"
   },
   {
    "duration": 9,
    "start_time": "2022-02-22T15:40:47.053Z"
   },
   {
    "duration": 5,
    "start_time": "2022-02-22T15:40:52.742Z"
   },
   {
    "duration": 4,
    "start_time": "2022-02-22T15:41:42.175Z"
   },
   {
    "duration": 5,
    "start_time": "2022-02-22T15:41:42.500Z"
   },
   {
    "duration": 5,
    "start_time": "2022-02-22T15:42:04.216Z"
   },
   {
    "duration": 1008,
    "start_time": "2022-02-22T15:44:27.400Z"
   },
   {
    "duration": 408,
    "start_time": "2022-02-22T15:44:28.410Z"
   },
   {
    "duration": 13,
    "start_time": "2022-02-22T15:44:28.823Z"
   },
   {
    "duration": 7,
    "start_time": "2022-02-22T15:44:28.838Z"
   },
   {
    "duration": 9,
    "start_time": "2022-02-22T15:44:28.847Z"
   },
   {
    "duration": 20,
    "start_time": "2022-02-22T15:44:28.857Z"
   },
   {
    "duration": 6,
    "start_time": "2022-02-22T15:44:28.879Z"
   },
   {
    "duration": 15,
    "start_time": "2022-02-22T15:44:28.887Z"
   },
   {
    "duration": 13,
    "start_time": "2022-02-22T15:44:28.936Z"
   },
   {
    "duration": 16,
    "start_time": "2022-02-22T15:44:28.951Z"
   },
   {
    "duration": 7,
    "start_time": "2022-02-22T15:44:28.969Z"
   },
   {
    "duration": 6,
    "start_time": "2022-02-22T15:44:28.978Z"
   },
   {
    "duration": 137,
    "start_time": "2022-02-22T15:44:28.985Z"
   },
   {
    "duration": 5,
    "start_time": "2022-02-22T15:44:29.123Z"
   },
   {
    "duration": 65,
    "start_time": "2022-02-22T15:44:29.132Z"
   },
   {
    "duration": 47,
    "start_time": "2022-02-22T15:44:29.198Z"
   },
   {
    "duration": 27,
    "start_time": "2022-02-22T15:44:29.247Z"
   },
   {
    "duration": 8,
    "start_time": "2022-02-22T15:44:29.276Z"
   },
   {
    "duration": 9,
    "start_time": "2022-02-22T15:44:29.285Z"
   },
   {
    "duration": 5,
    "start_time": "2022-02-22T15:44:29.296Z"
   },
   {
    "duration": 12,
    "start_time": "2022-02-22T15:44:29.302Z"
   },
   {
    "duration": 11,
    "start_time": "2022-02-22T15:44:29.335Z"
   },
   {
    "duration": 3,
    "start_time": "2022-02-22T15:44:29.350Z"
   },
   {
    "duration": 7,
    "start_time": "2022-02-22T15:44:29.355Z"
   },
   {
    "duration": 9,
    "start_time": "2022-02-22T15:44:29.364Z"
   },
   {
    "duration": 8,
    "start_time": "2022-02-22T15:44:29.375Z"
   },
   {
    "duration": 11,
    "start_time": "2022-02-22T15:44:29.384Z"
   },
   {
    "duration": 9,
    "start_time": "2022-02-22T15:44:29.397Z"
   },
   {
    "duration": 12,
    "start_time": "2022-02-22T15:44:29.407Z"
   },
   {
    "duration": 15,
    "start_time": "2022-02-22T15:44:29.420Z"
   },
   {
    "duration": 5,
    "start_time": "2022-02-22T15:44:29.437Z"
   },
   {
    "duration": 8,
    "start_time": "2022-02-22T15:44:29.444Z"
   },
   {
    "duration": 11,
    "start_time": "2022-02-22T15:44:29.454Z"
   },
   {
    "duration": 8,
    "start_time": "2022-02-22T15:44:29.466Z"
   },
   {
    "duration": 9,
    "start_time": "2022-02-22T15:44:29.475Z"
   },
   {
    "duration": 12,
    "start_time": "2022-02-22T15:44:29.486Z"
   },
   {
    "duration": 13,
    "start_time": "2022-02-22T15:44:29.499Z"
   },
   {
    "duration": 8,
    "start_time": "2022-02-22T15:44:29.513Z"
   },
   {
    "duration": 6,
    "start_time": "2022-02-22T15:44:29.523Z"
   },
   {
    "duration": 21,
    "start_time": "2022-02-22T15:44:29.531Z"
   },
   {
    "duration": 9,
    "start_time": "2022-02-22T15:44:29.554Z"
   },
   {
    "duration": 9,
    "start_time": "2022-02-22T15:44:29.565Z"
   },
   {
    "duration": 10,
    "start_time": "2022-02-22T15:44:29.576Z"
   },
   {
    "duration": 13,
    "start_time": "2022-02-22T15:44:29.588Z"
   },
   {
    "duration": 7,
    "start_time": "2022-02-22T15:44:29.603Z"
   },
   {
    "duration": 60,
    "start_time": "2022-02-22T15:44:29.612Z"
   },
   {
    "duration": 5,
    "start_time": "2022-02-22T15:44:29.673Z"
   },
   {
    "duration": 9,
    "start_time": "2022-02-22T15:44:29.680Z"
   },
   {
    "duration": 10,
    "start_time": "2022-02-22T15:44:29.691Z"
   },
   {
    "duration": 37,
    "start_time": "2022-02-22T15:44:29.703Z"
   },
   {
    "duration": 125,
    "start_time": "2022-02-22T15:44:29.742Z"
   },
   {
    "duration": 253,
    "start_time": "2022-02-22T15:44:29.869Z"
   },
   {
    "duration": 241,
    "start_time": "2022-02-22T15:44:30.124Z"
   },
   {
    "duration": 301,
    "start_time": "2022-02-22T15:44:30.367Z"
   },
   {
    "duration": 39,
    "start_time": "2022-02-22T15:44:30.670Z"
   },
   {
    "duration": 59,
    "start_time": "2022-02-22T15:44:30.711Z"
   },
   {
    "duration": 37,
    "start_time": "2022-02-22T15:44:30.771Z"
   },
   {
    "duration": 312,
    "start_time": "2022-02-22T15:44:30.809Z"
   },
   {
    "duration": 17,
    "start_time": "2022-02-22T15:44:31.123Z"
   },
   {
    "duration": 13,
    "start_time": "2022-02-22T15:44:31.142Z"
   },
   {
    "duration": 14,
    "start_time": "2022-02-22T15:44:31.157Z"
   },
   {
    "duration": 14,
    "start_time": "2022-02-22T15:44:31.173Z"
   },
   {
    "duration": 9,
    "start_time": "2022-02-22T15:44:31.189Z"
   },
   {
    "duration": 25,
    "start_time": "2022-02-22T15:44:31.199Z"
   },
   {
    "duration": 16,
    "start_time": "2022-02-22T15:44:31.227Z"
   },
   {
    "duration": 16,
    "start_time": "2022-02-22T15:44:31.245Z"
   },
   {
    "duration": 25,
    "start_time": "2022-02-22T15:44:31.265Z"
   },
   {
    "duration": 99,
    "start_time": "2022-02-22T15:54:36.190Z"
   },
   {
    "duration": 1026,
    "start_time": "2022-02-22T15:54:49.719Z"
   },
   {
    "duration": 398,
    "start_time": "2022-02-22T15:54:50.747Z"
   },
   {
    "duration": 13,
    "start_time": "2022-02-22T15:54:51.147Z"
   },
   {
    "duration": 6,
    "start_time": "2022-02-22T15:54:51.162Z"
   },
   {
    "duration": 8,
    "start_time": "2022-02-22T15:54:51.170Z"
   },
   {
    "duration": 21,
    "start_time": "2022-02-22T15:54:51.180Z"
   },
   {
    "duration": 6,
    "start_time": "2022-02-22T15:54:51.203Z"
   },
   {
    "duration": 27,
    "start_time": "2022-02-22T15:54:51.211Z"
   },
   {
    "duration": 8,
    "start_time": "2022-02-22T15:54:51.241Z"
   },
   {
    "duration": 25,
    "start_time": "2022-02-22T15:54:51.250Z"
   },
   {
    "duration": 10,
    "start_time": "2022-02-22T15:54:51.276Z"
   },
   {
    "duration": 7,
    "start_time": "2022-02-22T15:54:51.288Z"
   },
   {
    "duration": 188,
    "start_time": "2022-02-22T15:54:51.296Z"
   },
   {
    "duration": 7,
    "start_time": "2022-02-22T15:54:51.486Z"
   },
   {
    "duration": 73,
    "start_time": "2022-02-22T15:54:51.494Z"
   },
   {
    "duration": 26,
    "start_time": "2022-02-22T15:54:51.569Z"
   },
   {
    "duration": 21,
    "start_time": "2022-02-22T15:54:51.597Z"
   },
   {
    "duration": 18,
    "start_time": "2022-02-22T15:54:51.619Z"
   },
   {
    "duration": 5,
    "start_time": "2022-02-22T15:54:51.639Z"
   },
   {
    "duration": 4,
    "start_time": "2022-02-22T15:54:51.645Z"
   },
   {
    "duration": 9,
    "start_time": "2022-02-22T15:54:51.650Z"
   },
   {
    "duration": 9,
    "start_time": "2022-02-22T15:54:51.661Z"
   },
   {
    "duration": 19,
    "start_time": "2022-02-22T15:54:51.673Z"
   },
   {
    "duration": 8,
    "start_time": "2022-02-22T15:54:51.695Z"
   },
   {
    "duration": 11,
    "start_time": "2022-02-22T15:54:51.704Z"
   },
   {
    "duration": 16,
    "start_time": "2022-02-22T15:54:51.717Z"
   },
   {
    "duration": 7,
    "start_time": "2022-02-22T15:54:51.734Z"
   },
   {
    "duration": 8,
    "start_time": "2022-02-22T15:54:51.743Z"
   },
   {
    "duration": 14,
    "start_time": "2022-02-22T15:54:51.752Z"
   },
   {
    "duration": 12,
    "start_time": "2022-02-22T15:54:51.768Z"
   },
   {
    "duration": 7,
    "start_time": "2022-02-22T15:54:51.782Z"
   },
   {
    "duration": 10,
    "start_time": "2022-02-22T15:54:51.791Z"
   },
   {
    "duration": 11,
    "start_time": "2022-02-22T15:54:51.803Z"
   },
   {
    "duration": 6,
    "start_time": "2022-02-22T15:54:51.816Z"
   },
   {
    "duration": 9,
    "start_time": "2022-02-22T15:54:51.824Z"
   },
   {
    "duration": 14,
    "start_time": "2022-02-22T15:54:51.835Z"
   },
   {
    "duration": 15,
    "start_time": "2022-02-22T15:54:51.850Z"
   },
   {
    "duration": 14,
    "start_time": "2022-02-22T15:54:51.867Z"
   },
   {
    "duration": 15,
    "start_time": "2022-02-22T15:54:51.883Z"
   },
   {
    "duration": 18,
    "start_time": "2022-02-22T15:54:51.899Z"
   },
   {
    "duration": 18,
    "start_time": "2022-02-22T15:54:51.918Z"
   },
   {
    "duration": 9,
    "start_time": "2022-02-22T15:54:51.938Z"
   },
   {
    "duration": 17,
    "start_time": "2022-02-22T15:54:51.948Z"
   },
   {
    "duration": 13,
    "start_time": "2022-02-22T15:54:51.966Z"
   },
   {
    "duration": 12,
    "start_time": "2022-02-22T15:54:51.981Z"
   },
   {
    "duration": 52,
    "start_time": "2022-02-22T15:54:51.994Z"
   },
   {
    "duration": 4,
    "start_time": "2022-02-22T15:54:52.048Z"
   },
   {
    "duration": 23,
    "start_time": "2022-02-22T15:54:52.053Z"
   },
   {
    "duration": 15,
    "start_time": "2022-02-22T15:54:52.077Z"
   },
   {
    "duration": 18,
    "start_time": "2022-02-22T15:54:52.094Z"
   },
   {
    "duration": 119,
    "start_time": "2022-02-22T15:54:52.114Z"
   },
   {
    "duration": 231,
    "start_time": "2022-02-22T15:54:52.234Z"
   },
   {
    "duration": 221,
    "start_time": "2022-02-22T15:54:52.467Z"
   },
   {
    "duration": 281,
    "start_time": "2022-02-22T15:54:52.690Z"
   },
   {
    "duration": 39,
    "start_time": "2022-02-22T15:54:52.973Z"
   },
   {
    "duration": 56,
    "start_time": "2022-02-22T15:54:53.014Z"
   },
   {
    "duration": 36,
    "start_time": "2022-02-22T15:54:53.072Z"
   },
   {
    "duration": 266,
    "start_time": "2022-02-22T15:54:53.110Z"
   },
   {
    "duration": 6,
    "start_time": "2022-02-22T15:54:53.378Z"
   },
   {
    "duration": 29,
    "start_time": "2022-02-22T15:54:53.385Z"
   },
   {
    "duration": 14,
    "start_time": "2022-02-22T15:54:53.415Z"
   },
   {
    "duration": 40,
    "start_time": "2022-02-22T15:54:53.430Z"
   },
   {
    "duration": 21,
    "start_time": "2022-02-22T15:54:53.472Z"
   },
   {
    "duration": 19,
    "start_time": "2022-02-22T15:54:53.495Z"
   },
   {
    "duration": 25,
    "start_time": "2022-02-22T15:54:53.515Z"
   },
   {
    "duration": 8,
    "start_time": "2022-02-22T15:54:53.542Z"
   },
   {
    "duration": 21,
    "start_time": "2022-02-22T15:54:53.552Z"
   },
   {
    "duration": 1036,
    "start_time": "2022-03-04T15:01:41.203Z"
   },
   {
    "duration": 381,
    "start_time": "2022-03-04T15:01:42.241Z"
   },
   {
    "duration": 12,
    "start_time": "2022-03-04T15:01:42.623Z"
   },
   {
    "duration": 9,
    "start_time": "2022-03-04T15:01:42.637Z"
   },
   {
    "duration": 8,
    "start_time": "2022-03-04T15:01:42.647Z"
   },
   {
    "duration": 21,
    "start_time": "2022-03-04T15:01:42.657Z"
   },
   {
    "duration": 9,
    "start_time": "2022-03-04T15:01:42.680Z"
   },
   {
    "duration": 17,
    "start_time": "2022-03-04T15:01:42.691Z"
   },
   {
    "duration": 8,
    "start_time": "2022-03-04T15:01:42.733Z"
   },
   {
    "duration": 18,
    "start_time": "2022-03-04T15:01:42.742Z"
   },
   {
    "duration": 8,
    "start_time": "2022-03-04T15:01:42.762Z"
   },
   {
    "duration": 7,
    "start_time": "2022-03-04T15:01:42.772Z"
   },
   {
    "duration": 183,
    "start_time": "2022-03-04T15:01:42.781Z"
   },
   {
    "duration": 6,
    "start_time": "2022-03-04T15:01:42.966Z"
   },
   {
    "duration": 95,
    "start_time": "2022-03-04T15:01:42.974Z"
   },
   {
    "duration": 41,
    "start_time": "2022-03-04T15:01:43.071Z"
   },
   {
    "duration": 40,
    "start_time": "2022-03-04T15:01:43.114Z"
   },
   {
    "duration": 8,
    "start_time": "2022-03-04T15:01:43.155Z"
   },
   {
    "duration": 9,
    "start_time": "2022-03-04T15:01:43.165Z"
   },
   {
    "duration": 6,
    "start_time": "2022-03-04T15:01:43.176Z"
   },
   {
    "duration": 9,
    "start_time": "2022-03-04T15:01:43.183Z"
   },
   {
    "duration": 7,
    "start_time": "2022-03-04T15:01:43.193Z"
   },
   {
    "duration": 3,
    "start_time": "2022-03-04T15:01:43.204Z"
   },
   {
    "duration": 26,
    "start_time": "2022-03-04T15:01:43.209Z"
   },
   {
    "duration": 7,
    "start_time": "2022-03-04T15:01:43.237Z"
   },
   {
    "duration": 4,
    "start_time": "2022-03-04T15:01:43.246Z"
   },
   {
    "duration": 6,
    "start_time": "2022-03-04T15:01:43.252Z"
   },
   {
    "duration": 4,
    "start_time": "2022-03-04T15:01:43.260Z"
   },
   {
    "duration": 9,
    "start_time": "2022-03-04T15:01:43.265Z"
   },
   {
    "duration": 7,
    "start_time": "2022-03-04T15:01:43.276Z"
   },
   {
    "duration": 4,
    "start_time": "2022-03-04T15:01:43.285Z"
   },
   {
    "duration": 8,
    "start_time": "2022-03-04T15:01:43.291Z"
   },
   {
    "duration": 33,
    "start_time": "2022-03-04T15:01:43.301Z"
   },
   {
    "duration": 4,
    "start_time": "2022-03-04T15:01:43.336Z"
   },
   {
    "duration": 11,
    "start_time": "2022-03-04T15:01:43.341Z"
   },
   {
    "duration": 11,
    "start_time": "2022-03-04T15:01:43.353Z"
   },
   {
    "duration": 11,
    "start_time": "2022-03-04T15:01:43.365Z"
   },
   {
    "duration": 6,
    "start_time": "2022-03-04T15:01:43.378Z"
   },
   {
    "duration": 4,
    "start_time": "2022-03-04T15:01:43.385Z"
   },
   {
    "duration": 6,
    "start_time": "2022-03-04T15:01:43.390Z"
   },
   {
    "duration": 9,
    "start_time": "2022-03-04T15:01:43.397Z"
   },
   {
    "duration": 5,
    "start_time": "2022-03-04T15:01:43.407Z"
   },
   {
    "duration": 22,
    "start_time": "2022-03-04T15:01:43.414Z"
   },
   {
    "duration": 7,
    "start_time": "2022-03-04T15:01:43.437Z"
   },
   {
    "duration": 6,
    "start_time": "2022-03-04T15:01:43.445Z"
   },
   {
    "duration": 40,
    "start_time": "2022-03-04T15:01:43.453Z"
   },
   {
    "duration": 4,
    "start_time": "2022-03-04T15:01:43.494Z"
   },
   {
    "duration": 6,
    "start_time": "2022-03-04T15:01:43.500Z"
   },
   {
    "duration": 10,
    "start_time": "2022-03-04T15:01:43.532Z"
   },
   {
    "duration": 12,
    "start_time": "2022-03-04T15:01:43.544Z"
   },
   {
    "duration": 142,
    "start_time": "2022-03-04T15:01:43.558Z"
   },
   {
    "duration": 245,
    "start_time": "2022-03-04T15:01:43.703Z"
   },
   {
    "duration": 243,
    "start_time": "2022-03-04T15:01:43.950Z"
   },
   {
    "duration": 290,
    "start_time": "2022-03-04T15:01:44.195Z"
   },
   {
    "duration": 50,
    "start_time": "2022-03-04T15:01:44.487Z"
   },
   {
    "duration": 39,
    "start_time": "2022-03-04T15:01:44.538Z"
   },
   {
    "duration": 55,
    "start_time": "2022-03-04T15:01:44.578Z"
   },
   {
    "duration": 254,
    "start_time": "2022-03-04T15:01:44.634Z"
   },
   {
    "duration": 6,
    "start_time": "2022-03-04T15:01:44.889Z"
   },
   {
    "duration": 6,
    "start_time": "2022-03-04T15:01:44.897Z"
   },
   {
    "duration": 7,
    "start_time": "2022-03-04T15:01:44.904Z"
   },
   {
    "duration": 24,
    "start_time": "2022-03-04T15:01:44.912Z"
   },
   {
    "duration": 4,
    "start_time": "2022-03-04T15:01:44.937Z"
   },
   {
    "duration": 7,
    "start_time": "2022-03-04T15:01:44.943Z"
   },
   {
    "duration": 6,
    "start_time": "2022-03-04T15:01:44.951Z"
   },
   {
    "duration": 6,
    "start_time": "2022-03-04T15:01:44.959Z"
   },
   {
    "duration": 8,
    "start_time": "2022-03-04T15:01:44.966Z"
   },
   {
    "duration": 962,
    "start_time": "2022-03-04T15:53:48.153Z"
   },
   {
    "duration": 366,
    "start_time": "2022-03-04T15:53:49.117Z"
   },
   {
    "duration": 12,
    "start_time": "2022-03-04T15:53:49.485Z"
   },
   {
    "duration": 8,
    "start_time": "2022-03-04T15:53:49.499Z"
   },
   {
    "duration": 9,
    "start_time": "2022-03-04T15:53:49.509Z"
   },
   {
    "duration": 24,
    "start_time": "2022-03-04T15:53:49.520Z"
   },
   {
    "duration": 7,
    "start_time": "2022-03-04T15:53:49.545Z"
   },
   {
    "duration": 15,
    "start_time": "2022-03-04T15:53:49.554Z"
   },
   {
    "duration": 8,
    "start_time": "2022-03-04T15:53:49.571Z"
   },
   {
    "duration": 17,
    "start_time": "2022-03-04T15:53:49.581Z"
   },
   {
    "duration": 33,
    "start_time": "2022-03-04T15:53:49.600Z"
   },
   {
    "duration": 5,
    "start_time": "2022-03-04T15:53:49.635Z"
   },
   {
    "duration": 124,
    "start_time": "2022-03-04T15:53:49.642Z"
   },
   {
    "duration": 5,
    "start_time": "2022-03-04T15:53:49.768Z"
   },
   {
    "duration": 69,
    "start_time": "2022-03-04T15:53:49.775Z"
   },
   {
    "duration": 27,
    "start_time": "2022-03-04T15:53:49.845Z"
   },
   {
    "duration": 26,
    "start_time": "2022-03-04T15:53:49.874Z"
   },
   {
    "duration": 7,
    "start_time": "2022-03-04T15:53:49.902Z"
   },
   {
    "duration": 22,
    "start_time": "2022-03-04T15:53:49.911Z"
   },
   {
    "duration": 5,
    "start_time": "2022-03-04T15:53:49.934Z"
   },
   {
    "duration": 10,
    "start_time": "2022-03-04T15:53:49.941Z"
   },
   {
    "duration": 6,
    "start_time": "2022-03-04T15:53:49.952Z"
   },
   {
    "duration": 4,
    "start_time": "2022-03-04T15:53:49.960Z"
   },
   {
    "duration": 4,
    "start_time": "2022-03-04T15:53:49.966Z"
   },
   {
    "duration": 6,
    "start_time": "2022-03-04T15:53:49.972Z"
   },
   {
    "duration": 4,
    "start_time": "2022-03-04T15:53:49.980Z"
   },
   {
    "duration": 6,
    "start_time": "2022-03-04T15:53:49.987Z"
   },
   {
    "duration": 4,
    "start_time": "2022-03-04T15:53:49.995Z"
   },
   {
    "duration": 39,
    "start_time": "2022-03-04T15:53:50.000Z"
   },
   {
    "duration": 8,
    "start_time": "2022-03-04T15:53:50.041Z"
   },
   {
    "duration": 3,
    "start_time": "2022-03-04T15:53:50.050Z"
   },
   {
    "duration": 6,
    "start_time": "2022-03-04T15:53:50.055Z"
   },
   {
    "duration": 10,
    "start_time": "2022-03-04T15:53:50.062Z"
   },
   {
    "duration": 6,
    "start_time": "2022-03-04T15:53:50.074Z"
   },
   {
    "duration": 8,
    "start_time": "2022-03-04T15:53:50.082Z"
   },
   {
    "duration": 4,
    "start_time": "2022-03-04T15:53:50.092Z"
   },
   {
    "duration": 10,
    "start_time": "2022-03-04T15:53:50.097Z"
   },
   {
    "duration": 27,
    "start_time": "2022-03-04T15:53:50.109Z"
   },
   {
    "duration": 4,
    "start_time": "2022-03-04T15:53:50.137Z"
   },
   {
    "duration": 7,
    "start_time": "2022-03-04T15:53:50.142Z"
   },
   {
    "duration": 10,
    "start_time": "2022-03-04T15:53:50.151Z"
   },
   {
    "duration": 6,
    "start_time": "2022-03-04T15:53:50.163Z"
   },
   {
    "duration": 11,
    "start_time": "2022-03-04T15:53:50.170Z"
   },
   {
    "duration": 9,
    "start_time": "2022-03-04T15:53:50.182Z"
   },
   {
    "duration": 6,
    "start_time": "2022-03-04T15:53:50.193Z"
   },
   {
    "duration": 62,
    "start_time": "2022-03-04T15:53:50.201Z"
   },
   {
    "duration": 5,
    "start_time": "2022-03-04T15:53:50.265Z"
   },
   {
    "duration": 9,
    "start_time": "2022-03-04T15:53:50.271Z"
   },
   {
    "duration": 12,
    "start_time": "2022-03-04T15:53:50.281Z"
   },
   {
    "duration": 15,
    "start_time": "2022-03-04T15:53:50.294Z"
   },
   {
    "duration": 134,
    "start_time": "2022-03-04T15:53:50.311Z"
   },
   {
    "duration": 230,
    "start_time": "2022-03-04T15:53:50.446Z"
   },
   {
    "duration": 240,
    "start_time": "2022-03-04T15:53:50.678Z"
   },
   {
    "duration": 227,
    "start_time": "2022-03-04T15:53:50.919Z"
   },
   {
    "duration": 40,
    "start_time": "2022-03-04T15:53:51.147Z"
   },
   {
    "duration": 116,
    "start_time": "2022-03-04T15:53:51.189Z"
   },
   {
    "duration": 41,
    "start_time": "2022-03-04T15:53:51.307Z"
   },
   {
    "duration": 253,
    "start_time": "2022-03-04T15:53:51.350Z"
   },
   {
    "duration": 5,
    "start_time": "2022-03-04T15:53:51.605Z"
   },
   {
    "duration": 6,
    "start_time": "2022-03-04T15:53:51.611Z"
   },
   {
    "duration": 5,
    "start_time": "2022-03-04T15:53:51.633Z"
   },
   {
    "duration": 5,
    "start_time": "2022-03-04T15:53:51.639Z"
   },
   {
    "duration": 4,
    "start_time": "2022-03-04T15:53:51.646Z"
   },
   {
    "duration": 6,
    "start_time": "2022-03-04T15:53:51.651Z"
   },
   {
    "duration": 4,
    "start_time": "2022-03-04T15:53:51.659Z"
   },
   {
    "duration": 5,
    "start_time": "2022-03-04T15:53:51.665Z"
   },
   {
    "duration": 6,
    "start_time": "2022-03-04T15:53:51.672Z"
   },
   {
    "duration": 1173,
    "start_time": "2022-06-12T17:47:39.066Z"
   },
   {
    "duration": 1214,
    "start_time": "2022-06-12T17:47:40.241Z"
   },
   {
    "duration": 14,
    "start_time": "2022-06-12T17:47:41.457Z"
   },
   {
    "duration": 13,
    "start_time": "2022-06-12T17:47:41.473Z"
   },
   {
    "duration": 9,
    "start_time": "2022-06-12T17:47:41.488Z"
   },
   {
    "duration": 25,
    "start_time": "2022-06-12T17:47:41.499Z"
   },
   {
    "duration": 6,
    "start_time": "2022-06-12T17:47:41.526Z"
   },
   {
    "duration": 18,
    "start_time": "2022-06-12T17:47:41.559Z"
   },
   {
    "duration": 9,
    "start_time": "2022-06-12T17:47:41.578Z"
   },
   {
    "duration": 21,
    "start_time": "2022-06-12T17:47:41.589Z"
   },
   {
    "duration": 8,
    "start_time": "2022-06-12T17:47:41.612Z"
   },
   {
    "duration": 38,
    "start_time": "2022-06-12T17:47:41.621Z"
   },
   {
    "duration": 130,
    "start_time": "2022-06-12T17:47:41.661Z"
   },
   {
    "duration": 6,
    "start_time": "2022-06-12T17:47:41.794Z"
   },
   {
    "duration": 109,
    "start_time": "2022-06-12T17:47:41.802Z"
   },
   {
    "duration": 33,
    "start_time": "2022-06-12T17:47:41.913Z"
   },
   {
    "duration": 38,
    "start_time": "2022-06-12T17:47:41.948Z"
   },
   {
    "duration": 11,
    "start_time": "2022-06-12T17:47:41.988Z"
   },
   {
    "duration": 16,
    "start_time": "2022-06-12T17:47:42.002Z"
   },
   {
    "duration": 13,
    "start_time": "2022-06-12T17:47:42.021Z"
   },
   {
    "duration": 22,
    "start_time": "2022-06-12T17:47:42.037Z"
   },
   {
    "duration": 9,
    "start_time": "2022-06-12T17:47:42.061Z"
   },
   {
    "duration": 7,
    "start_time": "2022-06-12T17:47:42.072Z"
   },
   {
    "duration": 6,
    "start_time": "2022-06-12T17:47:42.080Z"
   },
   {
    "duration": 7,
    "start_time": "2022-06-12T17:47:42.088Z"
   },
   {
    "duration": 9,
    "start_time": "2022-06-12T17:47:42.096Z"
   },
   {
    "duration": 6,
    "start_time": "2022-06-12T17:47:42.106Z"
   },
   {
    "duration": 4,
    "start_time": "2022-06-12T17:47:42.116Z"
   },
   {
    "duration": 9,
    "start_time": "2022-06-12T17:47:42.122Z"
   },
   {
    "duration": 29,
    "start_time": "2022-06-12T17:47:42.132Z"
   },
   {
    "duration": 6,
    "start_time": "2022-06-12T17:47:42.162Z"
   },
   {
    "duration": 7,
    "start_time": "2022-06-12T17:47:42.170Z"
   },
   {
    "duration": 5,
    "start_time": "2022-06-12T17:47:42.178Z"
   },
   {
    "duration": 5,
    "start_time": "2022-06-12T17:47:42.185Z"
   },
   {
    "duration": 6,
    "start_time": "2022-06-12T17:47:42.192Z"
   },
   {
    "duration": 4,
    "start_time": "2022-06-12T17:47:42.200Z"
   },
   {
    "duration": 10,
    "start_time": "2022-06-12T17:47:42.206Z"
   },
   {
    "duration": 7,
    "start_time": "2022-06-12T17:47:42.218Z"
   },
   {
    "duration": 32,
    "start_time": "2022-06-12T17:47:42.226Z"
   },
   {
    "duration": 5,
    "start_time": "2022-06-12T17:47:42.260Z"
   },
   {
    "duration": 6,
    "start_time": "2022-06-12T17:47:42.267Z"
   },
   {
    "duration": 6,
    "start_time": "2022-06-12T17:47:42.275Z"
   },
   {
    "duration": 13,
    "start_time": "2022-06-12T17:47:42.283Z"
   },
   {
    "duration": 8,
    "start_time": "2022-06-12T17:47:42.297Z"
   },
   {
    "duration": 10,
    "start_time": "2022-06-12T17:47:42.306Z"
   },
   {
    "duration": 49,
    "start_time": "2022-06-12T17:47:42.318Z"
   },
   {
    "duration": 5,
    "start_time": "2022-06-12T17:47:42.369Z"
   },
   {
    "duration": 14,
    "start_time": "2022-06-12T17:47:42.376Z"
   },
   {
    "duration": 9,
    "start_time": "2022-06-12T17:47:42.392Z"
   },
   {
    "duration": 13,
    "start_time": "2022-06-12T17:47:42.402Z"
   },
   {
    "duration": 241,
    "start_time": "2022-06-12T17:47:42.416Z"
   },
   {
    "duration": 203,
    "start_time": "2022-06-12T17:47:42.659Z"
   },
   {
    "duration": 195,
    "start_time": "2022-06-12T17:47:42.864Z"
   },
   {
    "duration": 39,
    "start_time": "2022-06-12T17:47:43.060Z"
   },
   {
    "duration": 39,
    "start_time": "2022-06-12T17:47:43.100Z"
   },
   {
    "duration": 36,
    "start_time": "2022-06-12T17:47:43.158Z"
   },
   {
    "duration": 198,
    "start_time": "2022-06-12T17:47:43.196Z"
   },
   {
    "duration": 7,
    "start_time": "2022-06-12T17:47:43.395Z"
   },
   {
    "duration": 9,
    "start_time": "2022-06-12T17:47:43.403Z"
   },
   {
    "duration": 13,
    "start_time": "2022-06-12T17:47:43.413Z"
   },
   {
    "duration": 8,
    "start_time": "2022-06-12T17:47:43.427Z"
   },
   {
    "duration": 22,
    "start_time": "2022-06-12T17:47:43.436Z"
   },
   {
    "duration": 8,
    "start_time": "2022-06-12T17:47:43.460Z"
   },
   {
    "duration": 15,
    "start_time": "2022-06-12T17:47:43.470Z"
   },
   {
    "duration": 8,
    "start_time": "2022-06-12T17:47:43.487Z"
   },
   {
    "duration": 7,
    "start_time": "2022-06-12T17:47:43.497Z"
   },
   {
    "duration": 5,
    "start_time": "2022-06-12T17:51:20.973Z"
   },
   {
    "duration": 1091,
    "start_time": "2022-06-12T17:52:52.855Z"
   },
   {
    "duration": 445,
    "start_time": "2022-06-12T17:52:53.948Z"
   },
   {
    "duration": 6,
    "start_time": "2022-06-12T17:52:54.394Z"
   },
   {
    "duration": 172,
    "start_time": "2022-06-12T17:52:54.402Z"
   },
   {
    "duration": 106,
    "start_time": "2022-06-12T17:52:54.576Z"
   },
   {
    "duration": 102,
    "start_time": "2022-06-12T17:52:54.685Z"
   },
   {
    "duration": 23,
    "start_time": "2022-06-12T17:52:54.789Z"
   },
   {
    "duration": 58,
    "start_time": "2022-06-12T17:52:54.813Z"
   },
   {
    "duration": 128,
    "start_time": "2022-06-12T17:52:54.872Z"
   },
   {
    "duration": 5,
    "start_time": "2022-06-12T17:52:55.002Z"
   },
   {
    "duration": 71,
    "start_time": "2022-06-12T17:52:55.008Z"
   },
   {
    "duration": 28,
    "start_time": "2022-06-12T17:52:55.081Z"
   },
   {
    "duration": 19,
    "start_time": "2022-06-12T17:52:55.111Z"
   },
   {
    "duration": 31,
    "start_time": "2022-06-12T17:52:55.133Z"
   },
   {
    "duration": 10,
    "start_time": "2022-06-12T17:52:55.165Z"
   },
   {
    "duration": 5,
    "start_time": "2022-06-12T17:52:55.177Z"
   },
   {
    "duration": 11,
    "start_time": "2022-06-12T17:52:55.184Z"
   },
   {
    "duration": 6,
    "start_time": "2022-06-12T17:52:55.197Z"
   },
   {
    "duration": 4,
    "start_time": "2022-06-12T17:52:55.204Z"
   },
   {
    "duration": 6,
    "start_time": "2022-06-12T17:52:55.209Z"
   },
   {
    "duration": 8,
    "start_time": "2022-06-12T17:52:55.217Z"
   },
   {
    "duration": 7,
    "start_time": "2022-06-12T17:52:55.227Z"
   },
   {
    "duration": 5,
    "start_time": "2022-06-12T17:52:55.258Z"
   },
   {
    "duration": 5,
    "start_time": "2022-06-12T17:52:55.265Z"
   },
   {
    "duration": 9,
    "start_time": "2022-06-12T17:52:55.272Z"
   },
   {
    "duration": 7,
    "start_time": "2022-06-12T17:52:55.283Z"
   },
   {
    "duration": 5,
    "start_time": "2022-06-12T17:52:55.292Z"
   },
   {
    "duration": 7,
    "start_time": "2022-06-12T17:52:55.298Z"
   },
   {
    "duration": 7,
    "start_time": "2022-06-12T17:52:55.307Z"
   },
   {
    "duration": 7,
    "start_time": "2022-06-12T17:52:55.316Z"
   },
   {
    "duration": 7,
    "start_time": "2022-06-12T17:52:55.325Z"
   },
   {
    "duration": 3,
    "start_time": "2022-06-12T17:52:55.359Z"
   },
   {
    "duration": 12,
    "start_time": "2022-06-12T17:52:55.363Z"
   },
   {
    "duration": 12,
    "start_time": "2022-06-12T17:52:55.376Z"
   },
   {
    "duration": 3,
    "start_time": "2022-06-12T17:52:55.390Z"
   },
   {
    "duration": 9,
    "start_time": "2022-06-12T17:52:55.395Z"
   },
   {
    "duration": 7,
    "start_time": "2022-06-12T17:52:55.406Z"
   },
   {
    "duration": 12,
    "start_time": "2022-06-12T17:52:55.415Z"
   },
   {
    "duration": 8,
    "start_time": "2022-06-12T17:52:55.428Z"
   },
   {
    "duration": 20,
    "start_time": "2022-06-12T17:52:55.438Z"
   },
   {
    "duration": 6,
    "start_time": "2022-06-12T17:52:55.463Z"
   },
   {
    "duration": 42,
    "start_time": "2022-06-12T17:52:55.470Z"
   },
   {
    "duration": 4,
    "start_time": "2022-06-12T17:52:55.513Z"
   },
   {
    "duration": 15,
    "start_time": "2022-06-12T17:52:55.519Z"
   },
   {
    "duration": 25,
    "start_time": "2022-06-12T17:52:55.536Z"
   },
   {
    "duration": 13,
    "start_time": "2022-06-12T17:52:55.563Z"
   },
   {
    "duration": 298,
    "start_time": "2022-06-12T17:52:55.578Z"
   },
   {
    "duration": 409,
    "start_time": "2022-06-12T17:52:55.877Z"
   },
   {
    "duration": 408,
    "start_time": "2022-06-12T17:52:56.288Z"
   },
   {
    "duration": 94,
    "start_time": "2022-06-12T17:52:56.697Z"
   },
   {
    "duration": 100,
    "start_time": "2022-06-12T17:52:56.792Z"
   },
   {
    "duration": 93,
    "start_time": "2022-06-12T17:52:56.894Z"
   },
   {
    "duration": 407,
    "start_time": "2022-06-12T17:52:56.989Z"
   },
   {
    "duration": 5,
    "start_time": "2022-06-12T17:52:57.398Z"
   },
   {
    "duration": 7,
    "start_time": "2022-06-12T17:52:57.459Z"
   },
   {
    "duration": 6,
    "start_time": "2022-06-12T17:52:57.468Z"
   },
   {
    "duration": 6,
    "start_time": "2022-06-12T17:52:57.476Z"
   },
   {
    "duration": 8,
    "start_time": "2022-06-12T17:52:57.484Z"
   },
   {
    "duration": 6,
    "start_time": "2022-06-12T17:52:57.494Z"
   },
   {
    "duration": 9,
    "start_time": "2022-06-12T17:52:57.502Z"
   },
   {
    "duration": 5,
    "start_time": "2022-06-12T17:52:57.558Z"
   },
   {
    "duration": 6,
    "start_time": "2022-06-12T17:52:57.564Z"
   },
   {
    "duration": 3,
    "start_time": "2022-06-12T17:56:06.466Z"
   },
   {
    "duration": 3,
    "start_time": "2022-06-12T17:56:13.328Z"
   },
   {
    "duration": 460,
    "start_time": "2022-06-12T17:56:13.333Z"
   },
   {
    "duration": 6,
    "start_time": "2022-06-12T17:56:13.795Z"
   },
   {
    "duration": 169,
    "start_time": "2022-06-12T17:56:13.802Z"
   },
   {
    "duration": 111,
    "start_time": "2022-06-12T17:56:13.974Z"
   },
   {
    "duration": 103,
    "start_time": "2022-06-12T17:56:14.087Z"
   },
   {
    "duration": 96,
    "start_time": "2022-06-12T17:56:14.192Z"
   },
   {
    "duration": 25,
    "start_time": "2022-06-12T17:56:14.289Z"
   },
   {
    "duration": 3,
    "start_time": "2022-06-12T17:56:17.853Z"
   },
   {
    "duration": 114,
    "start_time": "2022-06-12T17:56:43.695Z"
   },
   {
    "duration": 450,
    "start_time": "2022-06-12T17:56:47.656Z"
   },
   {
    "duration": 1083,
    "start_time": "2022-06-12T17:59:53.822Z"
   },
   {
    "duration": 464,
    "start_time": "2022-06-12T17:59:54.907Z"
   },
   {
    "duration": 6,
    "start_time": "2022-06-12T17:59:55.372Z"
   },
   {
    "duration": 173,
    "start_time": "2022-06-12T17:59:55.380Z"
   },
   {
    "duration": 107,
    "start_time": "2022-06-12T17:59:55.554Z"
   },
   {
    "duration": 94,
    "start_time": "2022-06-12T17:59:55.664Z"
   },
   {
    "duration": 21,
    "start_time": "2022-06-12T17:59:55.760Z"
   },
   {
    "duration": 22,
    "start_time": "2022-06-12T17:59:55.782Z"
   },
   {
    "duration": 152,
    "start_time": "2022-06-12T17:59:55.806Z"
   },
   {
    "duration": 4,
    "start_time": "2022-06-12T17:59:55.961Z"
   },
   {
    "duration": 61,
    "start_time": "2022-06-12T17:59:55.967Z"
   },
   {
    "duration": 40,
    "start_time": "2022-06-12T17:59:56.029Z"
   },
   {
    "duration": 20,
    "start_time": "2022-06-12T17:59:56.070Z"
   },
   {
    "duration": 8,
    "start_time": "2022-06-12T17:59:56.091Z"
   },
   {
    "duration": 7,
    "start_time": "2022-06-12T17:59:56.101Z"
   },
   {
    "duration": 7,
    "start_time": "2022-06-12T17:59:56.110Z"
   },
   {
    "duration": 11,
    "start_time": "2022-06-12T17:59:56.119Z"
   },
   {
    "duration": 32,
    "start_time": "2022-06-12T17:59:56.131Z"
   },
   {
    "duration": 15,
    "start_time": "2022-06-12T17:59:56.165Z"
   },
   {
    "duration": 30,
    "start_time": "2022-06-12T17:59:56.181Z"
   },
   {
    "duration": 25,
    "start_time": "2022-06-12T17:59:56.213Z"
   },
   {
    "duration": 16,
    "start_time": "2022-06-12T17:59:56.240Z"
   },
   {
    "duration": 11,
    "start_time": "2022-06-12T17:59:56.258Z"
   },
   {
    "duration": 16,
    "start_time": "2022-06-12T17:59:56.271Z"
   },
   {
    "duration": 16,
    "start_time": "2022-06-12T17:59:56.289Z"
   },
   {
    "duration": 8,
    "start_time": "2022-06-12T17:59:56.306Z"
   },
   {
    "duration": 14,
    "start_time": "2022-06-12T17:59:56.315Z"
   },
   {
    "duration": 8,
    "start_time": "2022-06-12T17:59:56.332Z"
   },
   {
    "duration": 23,
    "start_time": "2022-06-12T17:59:56.342Z"
   },
   {
    "duration": 20,
    "start_time": "2022-06-12T17:59:56.367Z"
   },
   {
    "duration": 14,
    "start_time": "2022-06-12T17:59:56.389Z"
   },
   {
    "duration": 22,
    "start_time": "2022-06-12T17:59:56.405Z"
   },
   {
    "duration": 14,
    "start_time": "2022-06-12T17:59:56.428Z"
   },
   {
    "duration": 15,
    "start_time": "2022-06-12T17:59:56.444Z"
   },
   {
    "duration": 7,
    "start_time": "2022-06-12T17:59:56.461Z"
   },
   {
    "duration": 31,
    "start_time": "2022-06-12T17:59:56.470Z"
   },
   {
    "duration": 12,
    "start_time": "2022-06-12T17:59:56.503Z"
   },
   {
    "duration": 12,
    "start_time": "2022-06-12T17:59:56.517Z"
   },
   {
    "duration": 17,
    "start_time": "2022-06-12T17:59:56.531Z"
   },
   {
    "duration": 16,
    "start_time": "2022-06-12T17:59:56.550Z"
   },
   {
    "duration": 12,
    "start_time": "2022-06-12T17:59:56.568Z"
   },
   {
    "duration": 39,
    "start_time": "2022-06-12T17:59:56.582Z"
   },
   {
    "duration": 4,
    "start_time": "2022-06-12T17:59:56.623Z"
   },
   {
    "duration": 24,
    "start_time": "2022-06-12T17:59:56.629Z"
   },
   {
    "duration": 10,
    "start_time": "2022-06-12T17:59:56.655Z"
   },
   {
    "duration": 34,
    "start_time": "2022-06-12T17:59:56.667Z"
   },
   {
    "duration": 214,
    "start_time": "2022-06-12T17:59:56.703Z"
   },
   {
    "duration": 204,
    "start_time": "2022-06-12T17:59:56.918Z"
   },
   {
    "duration": 195,
    "start_time": "2022-06-12T17:59:57.124Z"
   },
   {
    "duration": 50,
    "start_time": "2022-06-12T17:59:57.321Z"
   },
   {
    "duration": 47,
    "start_time": "2022-06-12T17:59:57.373Z"
   },
   {
    "duration": 63,
    "start_time": "2022-06-12T17:59:57.421Z"
   },
   {
    "duration": 193,
    "start_time": "2022-06-12T17:59:57.486Z"
   },
   {
    "duration": 7,
    "start_time": "2022-06-12T17:59:57.680Z"
   },
   {
    "duration": 10,
    "start_time": "2022-06-12T17:59:57.689Z"
   },
   {
    "duration": 11,
    "start_time": "2022-06-12T17:59:57.701Z"
   },
   {
    "duration": 9,
    "start_time": "2022-06-12T17:59:57.714Z"
   },
   {
    "duration": 5,
    "start_time": "2022-06-12T17:59:57.725Z"
   },
   {
    "duration": 27,
    "start_time": "2022-06-12T17:59:57.732Z"
   },
   {
    "duration": 6,
    "start_time": "2022-06-12T17:59:57.761Z"
   },
   {
    "duration": 6,
    "start_time": "2022-06-12T17:59:57.769Z"
   },
   {
    "duration": 7,
    "start_time": "2022-06-12T17:59:57.776Z"
   }
  ],
  "kernelspec": {
   "display_name": "Python 3 (ipykernel)",
   "language": "python",
   "name": "python3"
  },
  "language_info": {
   "codemirror_mode": {
    "name": "ipython",
    "version": 3
   },
   "file_extension": ".py",
   "mimetype": "text/x-python",
   "name": "python",
   "nbconvert_exporter": "python",
   "pygments_lexer": "ipython3",
   "version": "3.9.5"
  },
  "toc": {
   "base_numbering": 1,
   "nav_menu": {},
   "number_sections": false,
   "sideBar": true,
   "skip_h1_title": true,
   "title_cell": "Table of Contents",
   "title_sidebar": "Contents",
   "toc_cell": false,
   "toc_position": {
    "height": "calc(100% - 180px)",
    "left": "10px",
    "top": "150px",
    "width": "240.391px"
   },
   "toc_section_display": true,
   "toc_window_display": true
  }
 },
 "nbformat": 4,
 "nbformat_minor": 2
}
